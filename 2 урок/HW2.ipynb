{
 "cells": [
  {
   "cell_type": "code",
   "execution_count": 2,
   "metadata": {},
   "outputs": [],
   "source": [
    "import pandas as pd\n",
    "import numpy as np\n",
    "import warnings\n",
    "\n",
    "warnings.filterwarnings('ignore')"
   ]
  },
  {
   "cell_type": "code",
   "execution_count": 3,
   "metadata": {},
   "outputs": [
    {
     "name": "stdout",
     "output_type": "stream",
     "text": [
      "(27000, 2)\n"
     ]
    },
    {
     "data": {
      "text/html": [
       "<div>\n",
       "<style scoped>\n",
       "    .dataframe tbody tr th:only-of-type {\n",
       "        vertical-align: middle;\n",
       "    }\n",
       "\n",
       "    .dataframe tbody tr th {\n",
       "        vertical-align: top;\n",
       "    }\n",
       "\n",
       "    .dataframe thead th {\n",
       "        text-align: right;\n",
       "    }\n",
       "</style>\n",
       "<table border=\"1\" class=\"dataframe\">\n",
       "  <thead>\n",
       "    <tr style=\"text-align: right;\">\n",
       "      <th></th>\n",
       "      <th>doc_id</th>\n",
       "      <th>title</th>\n",
       "    </tr>\n",
       "  </thead>\n",
       "  <tbody>\n",
       "    <tr>\n",
       "      <td>0</td>\n",
       "      <td>6</td>\n",
       "      <td>Заместитель председателяnправительства РФnСерг...</td>\n",
       "    </tr>\n",
       "    <tr>\n",
       "      <td>1</td>\n",
       "      <td>4896</td>\n",
       "      <td>Матч 1/16 финала Кубка России по футболу был п...</td>\n",
       "    </tr>\n",
       "    <tr>\n",
       "      <td>2</td>\n",
       "      <td>4897</td>\n",
       "      <td>Форвард «Авангарда» Томаш Заборский прокоммент...</td>\n",
       "    </tr>\n",
       "    <tr>\n",
       "      <td>3</td>\n",
       "      <td>4898</td>\n",
       "      <td>Главный тренер «Кубани» Юрий Красножан прокомм...</td>\n",
       "    </tr>\n",
       "    <tr>\n",
       "      <td>4</td>\n",
       "      <td>4899</td>\n",
       "      <td>Решением попечительского совета владивостокско...</td>\n",
       "    </tr>\n",
       "  </tbody>\n",
       "</table>\n",
       "</div>"
      ],
      "text/plain": [
       "   doc_id                                              title\n",
       "0       6  Заместитель председателяnправительства РФnСерг...\n",
       "1    4896  Матч 1/16 финала Кубка России по футболу был п...\n",
       "2    4897  Форвард «Авангарда» Томаш Заборский прокоммент...\n",
       "3    4898  Главный тренер «Кубани» Юрий Красножан прокомм...\n",
       "4    4899  Решением попечительского совета владивостокско..."
      ]
     },
     "execution_count": 3,
     "metadata": {},
     "output_type": "execute_result"
    }
   ],
   "source": [
    "news = pd.read_csv(\"data/webinar_2/articles.csv\")\n",
    "print(news.shape)\n",
    "news.head()"
   ]
  },
  {
   "cell_type": "code",
   "execution_count": 4,
   "metadata": {},
   "outputs": [
    {
     "name": "stdout",
     "output_type": "stream",
     "text": [
      "(8000, 2)\n"
     ]
    },
    {
     "data": {
      "text/html": [
       "<div>\n",
       "<style scoped>\n",
       "    .dataframe tbody tr th:only-of-type {\n",
       "        vertical-align: middle;\n",
       "    }\n",
       "\n",
       "    .dataframe tbody tr th {\n",
       "        vertical-align: top;\n",
       "    }\n",
       "\n",
       "    .dataframe thead th {\n",
       "        text-align: right;\n",
       "    }\n",
       "</style>\n",
       "<table border=\"1\" class=\"dataframe\">\n",
       "  <thead>\n",
       "    <tr style=\"text-align: right;\">\n",
       "      <th></th>\n",
       "      <th>uid</th>\n",
       "      <th>articles</th>\n",
       "    </tr>\n",
       "  </thead>\n",
       "  <tbody>\n",
       "    <tr>\n",
       "      <td>0</td>\n",
       "      <td>u105138</td>\n",
       "      <td>[293672, 293328, 293001, 293622, 293126, 1852]</td>\n",
       "    </tr>\n",
       "    <tr>\n",
       "      <td>1</td>\n",
       "      <td>u108690</td>\n",
       "      <td>[3405, 1739, 2972, 1158, 1599, 322665]</td>\n",
       "    </tr>\n",
       "    <tr>\n",
       "      <td>2</td>\n",
       "      <td>u108339</td>\n",
       "      <td>[1845, 2009, 2356, 1424, 2939, 323389]</td>\n",
       "    </tr>\n",
       "    <tr>\n",
       "      <td>3</td>\n",
       "      <td>u101138</td>\n",
       "      <td>[5933, 6186, 5055, 6977, 5206, 488389]</td>\n",
       "    </tr>\n",
       "    <tr>\n",
       "      <td>4</td>\n",
       "      <td>u108248</td>\n",
       "      <td>[707, 1144, 2532, 2928, 3133, 324592]</td>\n",
       "    </tr>\n",
       "  </tbody>\n",
       "</table>\n",
       "</div>"
      ],
      "text/plain": [
       "       uid                                        articles\n",
       "0  u105138  [293672, 293328, 293001, 293622, 293126, 1852]\n",
       "1  u108690          [3405, 1739, 2972, 1158, 1599, 322665]\n",
       "2  u108339          [1845, 2009, 2356, 1424, 2939, 323389]\n",
       "3  u101138          [5933, 6186, 5055, 6977, 5206, 488389]\n",
       "4  u108248           [707, 1144, 2532, 2928, 3133, 324592]"
      ]
     },
     "execution_count": 4,
     "metadata": {},
     "output_type": "execute_result"
    }
   ],
   "source": [
    "users = pd.read_csv(\"data/webinar_2/users_articles.csv\")\n",
    "print(users.shape)\n",
    "users.head()"
   ]
  },
  {
   "cell_type": "code",
   "execution_count": 5,
   "metadata": {},
   "outputs": [],
   "source": [
    "from gensim.corpora.dictionary import Dictionary"
   ]
  },
  {
   "cell_type": "code",
   "execution_count": 6,
   "metadata": {},
   "outputs": [],
   "source": [
    "#предобработка текстов\n",
    "import re\n",
    "import numpy as np\n",
    "import nltk\n",
    "\n",
    "from nltk.corpus import stopwords\n",
    "\n",
    "#from nltk.tokenize import word_tokenize\n",
    "\n",
    "from razdel import tokenize # https://github.com/natasha/razdel\n",
    "\n",
    "import pymorphy2"
   ]
  },
  {
   "cell_type": "code",
   "execution_count": 7,
   "metadata": {},
   "outputs": [
    {
     "name": "stderr",
     "output_type": "stream",
     "text": [
      "[nltk_data] Downloading package stopwords to\n",
      "[nltk_data]     C:\\Users\\Pavel\\AppData\\Roaming\\nltk_data...\n",
      "[nltk_data]   Package stopwords is already up-to-date!\n"
     ]
    },
    {
     "data": {
      "text/plain": [
       "151"
      ]
     },
     "execution_count": 7,
     "metadata": {},
     "output_type": "execute_result"
    }
   ],
   "source": [
    "nltk.download('stopwords')\n",
    "stopword_ru = stopwords.words('russian')\n",
    "len(stopword_ru)"
   ]
  },
  {
   "cell_type": "code",
   "execution_count": 8,
   "metadata": {},
   "outputs": [],
   "source": [
    "morph = pymorphy2.MorphAnalyzer()"
   ]
  },
  {
   "cell_type": "code",
   "execution_count": 9,
   "metadata": {},
   "outputs": [],
   "source": [
    "with open('data/webinar_2/stopwords.txt', encoding='utf-8') as f:\n",
    "    additional_stopwords = [w.strip() for w in f.readlines() if w]"
   ]
  },
  {
   "cell_type": "code",
   "execution_count": 10,
   "metadata": {},
   "outputs": [
    {
     "data": {
      "text/plain": [
       "626"
      ]
     },
     "execution_count": 10,
     "metadata": {},
     "output_type": "execute_result"
    }
   ],
   "source": [
    "stopword_ru = list(set(stopword_ru + additional_stopwords + ['ио', 'го']))\n",
    "len(stopword_ru)"
   ]
  },
  {
   "cell_type": "code",
   "execution_count": 11,
   "metadata": {},
   "outputs": [],
   "source": [
    "def clean_text(text):\n",
    "    '''\n",
    "    очистка текста\n",
    "    \n",
    "    на выходе очищеный текст\n",
    "    \n",
    "    '''\n",
    "    if not isinstance(text, str):\n",
    "        text = str(text)\n",
    "    \n",
    "    text = text.lower()\n",
    "    text = text.strip('\\n').strip('\\r').strip('\\t')\n",
    "    \n",
    "    text = re.sub(\"-\\s\\r\\n\\|-\\s\\r\\n|\\r\\n\", '', text)\n",
    "\n",
    "    text = re.sub(\"[0-9]|[-—.,:;_%©«»?*!@#№$^•·&()]|[+=]|[[]|[]]|[/]|\", '', text)\n",
    "    \n",
    "    text = re.sub('[a-z]', ' ', text) # добавлено замена латинских символов на пробел\n",
    "    \n",
    "    text = re.sub(r\"\\r\\n\\t|\\n|\\\\s|\\r\\t|\\\\n\", ' ', text)    \n",
    "    text = re.sub(r'[\\xad]|[\\s+]', ' ', text.strip())\n",
    "\n",
    "    \n",
    "    #tokens = list(tokenize(text))\n",
    "    #words = [_.text for _ in tokens]\n",
    "    #words = [w for w in words if w not in stopword_ru]\n",
    "    \n",
    "    #return \" \".join(words)\n",
    "    return text"
   ]
  },
  {
   "cell_type": "code",
   "execution_count": 12,
   "metadata": {},
   "outputs": [],
   "source": [
    "cache = {}\n",
    "\n",
    "def lemmatization(text):\n",
    "    '''\n",
    "    лемматизация\n",
    "        [0] если зашел тип не `str` делаем его `str`\n",
    "        [1] токенизация предложения через razdel\n",
    "        [2] проверка есть ли в начале слова '-' - ранее уже было удалено в функции \"clean_text\"\n",
    "        [3] проверка токена с одного символа\n",
    "        [4] проверка есть ли данное слово в кэше\n",
    "        [5] лемматизация слова\n",
    "        [6] проверка на стоп-слова\n",
    "\n",
    "    на выходе лист отлемматизированых токенов\n",
    "    '''\n",
    "    # [0]\n",
    "    if not isinstance(text, str):\n",
    "        text = str(text)\n",
    "    \n",
    "    # [1]\n",
    "    tokens = list(tokenize(text))\n",
    "    words = [_.text for _ in tokens]\n",
    "\n",
    "    words_lem = []\n",
    "    for w in words:\n",
    "#         if w[0] == '-': # [2] - не требуется, т.к. мы уже удалили все тире в функции \"clean_text\"\n",
    "#             w = w[1:]\n",
    "        if len(w)>1: # [3]\n",
    "            if w in cache: # [4]\n",
    "                words_lem.append(cache[w])\n",
    "            else: # [5]\n",
    "                temp_cach = cache[w] = morph.parse(w)[0].normal_form\n",
    "                words_lem.append(temp_cach)\n",
    "    \n",
    "    words_lem_without_stopwords = [i for i in words_lem if i not in stopword_ru] # [6]\n",
    "    \n",
    "    return words_lem_without_stopwords"
   ]
  },
  {
   "cell_type": "code",
   "execution_count": 13,
   "metadata": {},
   "outputs": [
    {
     "data": {
      "text/plain": [
       "'Заместитель председателяnправительства РФnСергейnИвановnизбран председателем советаnПБК ЦСКАn. Как сообщаетnпресс-службаnармейцев, такое решение было единогласно принято на первом заседании совета клуба. Основной функцией этого органа будет обсуждение текущего состояния, планирование и утверждение стратегии развития клуба на ближайшую перспективу.nnВ состав совета вошли:nГеоргий Полтавченкоn(полномочный представитель президента в Центральном федеральном округе),nАлексей Седовn(генерал-полковник, начальник службы по защите конституционного строя и борьбе с терроризмомnФСБ РФn),nАлександр Новакn(заместитель министра финансов РФ),nВячеслав Полтавцевn(заместитель генерального директора, руководитель блока по взаимодействию с органами власти, социальной и корпоративной политикиnГМК «Норильский никель»n),nЛеонид Исаковичn(генеральный директор ООО «УК «Спортивные проекты»),nОльга Плешаковаn(генеральный директорn«Трансаэро»n),nАлександр Провоторовn, (генеральный директорnОАО «Ростелеком»n), Андрей Лопатов (экс-игрок ЦСКА, чемпион мира, трехкратный чемпион Европы по баскетболу, председатель правленияnбанка «Клиентский»n),nАндрей Ватутинn(президент ПБК ЦСКА).'"
      ]
     },
     "execution_count": 13,
     "metadata": {},
     "output_type": "execute_result"
    }
   ],
   "source": [
    "news['title'][0]"
   ]
  },
  {
   "cell_type": "code",
   "execution_count": 14,
   "metadata": {},
   "outputs": [
    {
     "name": "stdout",
     "output_type": "stream",
     "text": [
      "Wall time: 19.5 s\n"
     ]
    }
   ],
   "source": [
    "%%time\n",
    "#Запускаем очистку текста. Будет долго...\n",
    "news['title'] = news['title'].apply(lambda x: clean_text(x), 1)"
   ]
  },
  {
   "cell_type": "code",
   "execution_count": 15,
   "metadata": {},
   "outputs": [
    {
     "data": {
      "text/plain": [
       "'заместитель председателя правительства рф сергей иванов избран председателем совета пбк цска  как сообщает прессслужба армейцев такое решение было единогласно принято на первом заседании совета клуба основной функцией этого органа будет обсуждение текущего состояния планирование и утверждение стратегии развития клуба на ближайшую перспективу  в состав совета вошли георгий полтавченко полномочный представитель президента в центральном федеральном округе алексей седов генералполковник начальник службы по защите конституционного строя и борьбе с терроризмом фсб рф  александр новак заместитель министра финансов рф вячеслав полтавцев заместитель генерального директора руководитель блока по взаимодействию с органами власти социальной и корпоративной политики гмк норильский никель  леонид исакович генеральный директор ооо ук спортивные проекты ольга плешакова генеральный директор трансаэро  александр провоторов  генеральный директор оао ростелеком  андрей лопатов эксигрок цска чемпион мира трехкратный чемпион европы по баскетболу председатель правления банка клиентский  андрей ватутин президент пбк цска'"
      ]
     },
     "execution_count": 15,
     "metadata": {},
     "output_type": "execute_result"
    }
   ],
   "source": [
    "news['title'][0]"
   ]
  },
  {
   "cell_type": "code",
   "execution_count": 16,
   "metadata": {},
   "outputs": [
    {
     "name": "stdout",
     "output_type": "stream",
     "text": [
      "Wall time: 2min 5s\n"
     ]
    }
   ],
   "source": [
    "%%time\n",
    "#Запускаем лемматизацию текста. Будет очень долго...\n",
    "news['title'] = news['title'].apply(lambda x: lemmatization(x), 1)"
   ]
  },
  {
   "cell_type": "code",
   "execution_count": 17,
   "metadata": {},
   "outputs": [],
   "source": [
    "#сформируем список наших текстов, разбив еще и на пробелы\n",
    "texts = [t for t in news['title'].values]\n",
    "\n",
    "# Create a corpus from a list of texts\n",
    "common_dictionary = Dictionary(texts)\n",
    "common_corpus = [common_dictionary.doc2bow(text) for text in texts]"
   ]
  },
  {
   "cell_type": "markdown",
   "metadata": {},
   "source": [
    "Запускаем обучение"
   ]
  },
  {
   "cell_type": "code",
   "execution_count": 18,
   "metadata": {},
   "outputs": [
    {
     "name": "stdout",
     "output_type": "stream",
     "text": [
      "Wall time: 35.4 s\n"
     ]
    }
   ],
   "source": [
    "%%time\n",
    "from gensim.models import LdaModel\n",
    "# Train the model on the corpus.\n",
    "lda = LdaModel(common_corpus, num_topics=25, id2word=common_dictionary)#, passes=10)"
   ]
  },
  {
   "cell_type": "code",
   "execution_count": 19,
   "metadata": {},
   "outputs": [],
   "source": [
    "from gensim.test.utils import datapath\n",
    "# Save model to disk.\n",
    "temp_file = datapath(\"model.lda\")\n",
    "lda.save(temp_file)\n",
    "\n",
    "# Load a potentially pretrained model from disk.\n",
    "lda = LdaModel.load(temp_file)"
   ]
  },
  {
   "cell_type": "markdown",
   "metadata": {},
   "source": [
    "Обучили модель. Теперь 2 вопроса:\n",
    "\n",
    "1. как выглядят наши темы\n",
    "2. как получить для документа вектор значений (вероятности принадлежности каждой теме)"
   ]
  },
  {
   "cell_type": "code",
   "execution_count": 20,
   "metadata": {},
   "outputs": [],
   "source": [
    "# Create a new corpus, made of previously unseen documents.\n",
    "other_texts = [t for t in news['title'].iloc[:3]]\n",
    "other_corpus = [common_dictionary.doc2bow(text) for text in other_texts]"
   ]
  },
  {
   "cell_type": "code",
   "execution_count": 21,
   "metadata": {},
   "outputs": [
    {
     "name": "stdout",
     "output_type": "stream",
     "text": [
      "['форвард', 'авангард', 'томаш', 'заборский', 'прокомментировать', 'игра', 'команда', 'матч', 'чемпионат', 'кхл', 'против', 'атланта', 'плохой', 'матч', 'нижний', 'новгород', 'против', 'торпедо', 'настраиваться', 'первый', 'минута', 'включиться', 'заборский', 'получиться', 'забросить', 'быстрый', 'гол', 'задать', 'хороший', 'темп', 'поединок', 'играть', 'хороший', 'сторона', 'пять', 'очко', 'выезд', 'девять', 'хороший']\n"
     ]
    },
    {
     "data": {
      "text/plain": [
       "[(0, 0.39638075),\n",
       " (1, 0.07321784),\n",
       " (8, 0.059226345),\n",
       " (17, 0.23433757),\n",
       " (20, 0.21517754)]"
      ]
     },
     "execution_count": 21,
     "metadata": {},
     "output_type": "execute_result"
    }
   ],
   "source": [
    "unseen_doc = other_corpus[2]\n",
    "print(other_texts[2])\n",
    "lda[unseen_doc] "
   ]
  },
  {
   "cell_type": "code",
   "execution_count": 22,
   "metadata": {},
   "outputs": [
    {
     "name": "stdout",
     "output_type": "stream",
     "text": [
      "topic_0: млн рак товар составить кожа мир превысить общий место рекорд\n",
      "topic_1: первый журнал программа второй конкурс опубликовать большинство новый принять проект\n",
      "topic_2: ребёнок женщина исследование выяснить мужчина обнаружить помощь убийство мозг врач\n",
      "topic_3: доллар учебный саммит сенатор правовой производить заведение эволюция пропасть святой\n",
      "topic_4: обращение лётчик сон макаров дождь брюссель паника аудитория пустой показ\n",
      "topic_5: снижение писать очень жизнь смерть всё друг найти история жить\n",
      "topic_6: гражданин восток страдать фронт народный памятник спасти ступень лекарство гостиница\n",
      "topic_7: рост значительно рейтинг вицепремьер цена вырасти продажа физика место мышь\n",
      "topic_8: поверхность законодательство приговор городской юрист административный превышать австралийский работодатель штраф\n",
      "topic_9: сократиться завод озеро явление акционер проверять подниматься ядро выстрел концепция\n",
      "topic_10: медведев рейс бизнесмен перевод курение зима ресторан актёр трансляция билет\n",
      "topic_11: система научный новый всё эксперт исследование большой американский россия уровень\n",
      "topic_12: украина россия украинский путин день государство владимир глава миссия власть\n",
      "topic_13: японский япония ск годовой солнце южный сценарий лодка корея китай\n",
      "topic_14: участок остров км торговый аэропорт территория площадь высота маршрут комплекс\n",
      "topic_15: российский проект банк россия развитие фонд сша санкция население исследование\n",
      "topic_16: россия ракета российский совет запуск объект земля сша двигатель глава\n",
      "topic_17: кровь дыра расчёт связанный карта следствие дефицит выделить всё первый\n",
      "topic_18: земля мероприятие иск праздник живой день москва характерный житель квартира\n",
      "topic_19: взрыв снаряд достопримечательность хабаровский мешок муниципалитет мина наградить дизель догадываться\n",
      "topic_20: военный сша россия российский первый опубликовать тело армия статья американский\n",
      "topic_21: млрд рынок наука рубль экономика тыс ставка пенсия бюджет деньга\n",
      "topic_22: станция проверка служба журналист государственный мозг произойти улица власть орган\n",
      "topic_23: газ область источник сотрудник управление уголовный данные министр эксперимент объём\n",
      "topic_24: район погибнуть температура пострадать космос произойти налог около житель воздух\n"
     ]
    }
   ],
   "source": [
    "x = lda.show_topics(num_topics=25, num_words=10, formatted=False)\n",
    "topics_words = [(tp[0], [wd[0] for wd in tp[1]]) for tp in x]\n",
    "\n",
    "#Below Code Prints Only Words\n",
    "# lda.print_topics(-1)\n",
    "for topic, words in topics_words:\n",
    "    print(\"topic_{}: \".format(topic)+\" \".join(words))"
   ]
  },
  {
   "cell_type": "markdown",
   "metadata": {},
   "source": [
    "Давайте напишем функцию, которая будет нам возвращать векторное представление новости"
   ]
  },
  {
   "cell_type": "code",
   "execution_count": 23,
   "metadata": {},
   "outputs": [],
   "source": [
    "#text = news['title'].iloc[0]\n",
    "\n",
    "def get_lda_vector(text):\n",
    "    unseen_doc = common_dictionary.doc2bow(text)\n",
    "    lda_tuple = lda[unseen_doc]\n",
    "    not_null_topics = dict(zip([i[0] for i in lda_tuple], [i[1] for i in lda_tuple]))\n",
    "\n",
    "    output_vector = []\n",
    "    for i in range(25):\n",
    "        if i not in not_null_topics:\n",
    "            output_vector.append(0)\n",
    "        else:\n",
    "            output_vector.append(not_null_topics[i])\n",
    "    return np.array(output_vector)"
   ]
  },
  {
   "cell_type": "code",
   "execution_count": 24,
   "metadata": {},
   "outputs": [
    {
     "data": {
      "text/html": [
       "<div>\n",
       "<style scoped>\n",
       "    .dataframe tbody tr th:only-of-type {\n",
       "        vertical-align: middle;\n",
       "    }\n",
       "\n",
       "    .dataframe tbody tr th {\n",
       "        vertical-align: top;\n",
       "    }\n",
       "\n",
       "    .dataframe thead th {\n",
       "        text-align: right;\n",
       "    }\n",
       "</style>\n",
       "<table border=\"1\" class=\"dataframe\">\n",
       "  <thead>\n",
       "    <tr style=\"text-align: right;\">\n",
       "      <th></th>\n",
       "      <th>doc_id</th>\n",
       "      <th>topic_0</th>\n",
       "      <th>topic_1</th>\n",
       "      <th>topic_2</th>\n",
       "      <th>topic_3</th>\n",
       "      <th>topic_4</th>\n",
       "      <th>topic_5</th>\n",
       "      <th>topic_6</th>\n",
       "      <th>topic_7</th>\n",
       "      <th>topic_8</th>\n",
       "      <th>...</th>\n",
       "      <th>topic_15</th>\n",
       "      <th>topic_16</th>\n",
       "      <th>topic_17</th>\n",
       "      <th>topic_18</th>\n",
       "      <th>topic_19</th>\n",
       "      <th>topic_20</th>\n",
       "      <th>topic_21</th>\n",
       "      <th>topic_22</th>\n",
       "      <th>topic_23</th>\n",
       "      <th>topic_24</th>\n",
       "    </tr>\n",
       "  </thead>\n",
       "  <tbody>\n",
       "    <tr>\n",
       "      <td>0</td>\n",
       "      <td>6</td>\n",
       "      <td>0.104106</td>\n",
       "      <td>0.000000</td>\n",
       "      <td>0.0</td>\n",
       "      <td>0.0</td>\n",
       "      <td>0.012785</td>\n",
       "      <td>0.000000</td>\n",
       "      <td>0.000000</td>\n",
       "      <td>0.0</td>\n",
       "      <td>0.000000</td>\n",
       "      <td>...</td>\n",
       "      <td>0.141506</td>\n",
       "      <td>0.000000</td>\n",
       "      <td>0.000000</td>\n",
       "      <td>0.022601</td>\n",
       "      <td>0.000000</td>\n",
       "      <td>0.000000</td>\n",
       "      <td>0.000000</td>\n",
       "      <td>0.710980</td>\n",
       "      <td>0.0</td>\n",
       "      <td>0.0</td>\n",
       "    </tr>\n",
       "    <tr>\n",
       "      <td>1</td>\n",
       "      <td>4896</td>\n",
       "      <td>0.239166</td>\n",
       "      <td>0.000000</td>\n",
       "      <td>0.0</td>\n",
       "      <td>0.0</td>\n",
       "      <td>0.000000</td>\n",
       "      <td>0.164717</td>\n",
       "      <td>0.000000</td>\n",
       "      <td>0.0</td>\n",
       "      <td>0.000000</td>\n",
       "      <td>...</td>\n",
       "      <td>0.000000</td>\n",
       "      <td>0.000000</td>\n",
       "      <td>0.000000</td>\n",
       "      <td>0.000000</td>\n",
       "      <td>0.092652</td>\n",
       "      <td>0.000000</td>\n",
       "      <td>0.446292</td>\n",
       "      <td>0.034931</td>\n",
       "      <td>0.0</td>\n",
       "      <td>0.0</td>\n",
       "    </tr>\n",
       "    <tr>\n",
       "      <td>2</td>\n",
       "      <td>4897</td>\n",
       "      <td>0.396380</td>\n",
       "      <td>0.073267</td>\n",
       "      <td>0.0</td>\n",
       "      <td>0.0</td>\n",
       "      <td>0.000000</td>\n",
       "      <td>0.000000</td>\n",
       "      <td>0.000000</td>\n",
       "      <td>0.0</td>\n",
       "      <td>0.059227</td>\n",
       "      <td>...</td>\n",
       "      <td>0.000000</td>\n",
       "      <td>0.000000</td>\n",
       "      <td>0.234291</td>\n",
       "      <td>0.000000</td>\n",
       "      <td>0.000000</td>\n",
       "      <td>0.215175</td>\n",
       "      <td>0.000000</td>\n",
       "      <td>0.000000</td>\n",
       "      <td>0.0</td>\n",
       "      <td>0.0</td>\n",
       "    </tr>\n",
       "    <tr>\n",
       "      <td>3</td>\n",
       "      <td>4898</td>\n",
       "      <td>0.163608</td>\n",
       "      <td>0.000000</td>\n",
       "      <td>0.0</td>\n",
       "      <td>0.0</td>\n",
       "      <td>0.000000</td>\n",
       "      <td>0.000000</td>\n",
       "      <td>0.000000</td>\n",
       "      <td>0.0</td>\n",
       "      <td>0.000000</td>\n",
       "      <td>...</td>\n",
       "      <td>0.000000</td>\n",
       "      <td>0.305243</td>\n",
       "      <td>0.396599</td>\n",
       "      <td>0.000000</td>\n",
       "      <td>0.000000</td>\n",
       "      <td>0.000000</td>\n",
       "      <td>0.000000</td>\n",
       "      <td>0.059933</td>\n",
       "      <td>0.0</td>\n",
       "      <td>0.0</td>\n",
       "    </tr>\n",
       "    <tr>\n",
       "      <td>4</td>\n",
       "      <td>4899</td>\n",
       "      <td>0.162834</td>\n",
       "      <td>0.000000</td>\n",
       "      <td>0.0</td>\n",
       "      <td>0.0</td>\n",
       "      <td>0.000000</td>\n",
       "      <td>0.000000</td>\n",
       "      <td>0.035604</td>\n",
       "      <td>0.0</td>\n",
       "      <td>0.000000</td>\n",
       "      <td>...</td>\n",
       "      <td>0.000000</td>\n",
       "      <td>0.775592</td>\n",
       "      <td>0.000000</td>\n",
       "      <td>0.000000</td>\n",
       "      <td>0.000000</td>\n",
       "      <td>0.000000</td>\n",
       "      <td>0.000000</td>\n",
       "      <td>0.000000</td>\n",
       "      <td>0.0</td>\n",
       "      <td>0.0</td>\n",
       "    </tr>\n",
       "  </tbody>\n",
       "</table>\n",
       "<p>5 rows × 26 columns</p>\n",
       "</div>"
      ],
      "text/plain": [
       "   doc_id   topic_0   topic_1  topic_2  topic_3   topic_4   topic_5   topic_6  \\\n",
       "0       6  0.104106  0.000000      0.0      0.0  0.012785  0.000000  0.000000   \n",
       "1    4896  0.239166  0.000000      0.0      0.0  0.000000  0.164717  0.000000   \n",
       "2    4897  0.396380  0.073267      0.0      0.0  0.000000  0.000000  0.000000   \n",
       "3    4898  0.163608  0.000000      0.0      0.0  0.000000  0.000000  0.000000   \n",
       "4    4899  0.162834  0.000000      0.0      0.0  0.000000  0.000000  0.035604   \n",
       "\n",
       "   topic_7   topic_8  ...  topic_15  topic_16  topic_17  topic_18  topic_19  \\\n",
       "0      0.0  0.000000  ...  0.141506  0.000000  0.000000  0.022601  0.000000   \n",
       "1      0.0  0.000000  ...  0.000000  0.000000  0.000000  0.000000  0.092652   \n",
       "2      0.0  0.059227  ...  0.000000  0.000000  0.234291  0.000000  0.000000   \n",
       "3      0.0  0.000000  ...  0.000000  0.305243  0.396599  0.000000  0.000000   \n",
       "4      0.0  0.000000  ...  0.000000  0.775592  0.000000  0.000000  0.000000   \n",
       "\n",
       "   topic_20  topic_21  topic_22  topic_23  topic_24  \n",
       "0  0.000000  0.000000  0.710980       0.0       0.0  \n",
       "1  0.000000  0.446292  0.034931       0.0       0.0  \n",
       "2  0.215175  0.000000  0.000000       0.0       0.0  \n",
       "3  0.000000  0.000000  0.059933       0.0       0.0  \n",
       "4  0.000000  0.000000  0.000000       0.0       0.0  \n",
       "\n",
       "[5 rows x 26 columns]"
      ]
     },
     "execution_count": 24,
     "metadata": {},
     "output_type": "execute_result"
    }
   ],
   "source": [
    "topic_matrix = pd.DataFrame([get_lda_vector(text) for text in news['title'].values])\n",
    "\n",
    "topic_matrix.columns = ['topic_{}'.format(i) for i in range(25)]\n",
    "\n",
    "topic_matrix['doc_id'] = news['doc_id'].values\n",
    "\n",
    "topic_matrix = topic_matrix[['doc_id']+['topic_{}'.format(i) for i in range(25)]]\n",
    "topic_matrix.head()"
   ]
  },
  {
   "cell_type": "markdown",
   "metadata": {},
   "source": [
    "### Следующий шаг - векторные представления пользователей"
   ]
  },
  {
   "cell_type": "code",
   "execution_count": 25,
   "metadata": {
    "scrolled": true
   },
   "outputs": [
    {
     "data": {
      "text/html": [
       "<div>\n",
       "<style scoped>\n",
       "    .dataframe tbody tr th:only-of-type {\n",
       "        vertical-align: middle;\n",
       "    }\n",
       "\n",
       "    .dataframe tbody tr th {\n",
       "        vertical-align: top;\n",
       "    }\n",
       "\n",
       "    .dataframe thead th {\n",
       "        text-align: right;\n",
       "    }\n",
       "</style>\n",
       "<table border=\"1\" class=\"dataframe\">\n",
       "  <thead>\n",
       "    <tr style=\"text-align: right;\">\n",
       "      <th></th>\n",
       "      <th>uid</th>\n",
       "      <th>articles</th>\n",
       "    </tr>\n",
       "  </thead>\n",
       "  <tbody>\n",
       "    <tr>\n",
       "      <td>0</td>\n",
       "      <td>u105138</td>\n",
       "      <td>[293672, 293328, 293001, 293622, 293126, 1852]</td>\n",
       "    </tr>\n",
       "    <tr>\n",
       "      <td>1</td>\n",
       "      <td>u108690</td>\n",
       "      <td>[3405, 1739, 2972, 1158, 1599, 322665]</td>\n",
       "    </tr>\n",
       "    <tr>\n",
       "      <td>2</td>\n",
       "      <td>u108339</td>\n",
       "      <td>[1845, 2009, 2356, 1424, 2939, 323389]</td>\n",
       "    </tr>\n",
       "    <tr>\n",
       "      <td>3</td>\n",
       "      <td>u101138</td>\n",
       "      <td>[5933, 6186, 5055, 6977, 5206, 488389]</td>\n",
       "    </tr>\n",
       "    <tr>\n",
       "      <td>4</td>\n",
       "      <td>u108248</td>\n",
       "      <td>[707, 1144, 2532, 2928, 3133, 324592]</td>\n",
       "    </tr>\n",
       "  </tbody>\n",
       "</table>\n",
       "</div>"
      ],
      "text/plain": [
       "       uid                                        articles\n",
       "0  u105138  [293672, 293328, 293001, 293622, 293126, 1852]\n",
       "1  u108690          [3405, 1739, 2972, 1158, 1599, 322665]\n",
       "2  u108339          [1845, 2009, 2356, 1424, 2939, 323389]\n",
       "3  u101138          [5933, 6186, 5055, 6977, 5206, 488389]\n",
       "4  u108248           [707, 1144, 2532, 2928, 3133, 324592]"
      ]
     },
     "execution_count": 25,
     "metadata": {},
     "output_type": "execute_result"
    }
   ],
   "source": [
    "users.head()"
   ]
  },
  {
   "cell_type": "code",
   "execution_count": 26,
   "metadata": {},
   "outputs": [
    {
     "data": {
      "text/plain": [
       "array([0.        , 0.24955347, 0.05651583, 0.04850875, 0.        ,\n",
       "       0.        , 0.        , 0.        , 0.03656018, 0.        ,\n",
       "       0.03686314, 0.        , 0.12099651, 0.        , 0.02083265,\n",
       "       0.        , 0.        , 0.02252808, 0.        , 0.        ,\n",
       "       0.24783362, 0.11133749, 0.        , 0.        , 0.03879535])"
      ]
     },
     "execution_count": 26,
     "metadata": {},
     "output_type": "execute_result"
    }
   ],
   "source": [
    "doc_dict = dict(zip(topic_matrix['doc_id'].values, topic_matrix[['topic_{}'.format(i) for i in range(25)]].values))\n",
    "doc_dict[293622]"
   ]
  },
  {
   "cell_type": "code",
   "execution_count": 27,
   "metadata": {},
   "outputs": [],
   "source": [
    "def get_user_embedding_mean(user_articles_list):\n",
    "    \n",
    "    def article_parse(user_articles_list: str) -> list:\n",
    "        return list(map(int, user_articles_list.strip('[]').split(', ')))\n",
    "    \n",
    "#     user_articles_list = literal_eval(user_articles_list)\n",
    "    user_articles_list = article_parse(user_articles_list)\n",
    "    \n",
    "    user_vector = np.array([doc_dict[doc_id] for doc_id in user_articles_list])\n",
    "    user_vector = np.mean(user_vector, 0)\n",
    "    return user_vector"
   ]
  },
  {
   "cell_type": "code",
   "execution_count": 28,
   "metadata": {},
   "outputs": [],
   "source": [
    "def get_user_embedding_median(user_articles_list):\n",
    "    \n",
    "    def article_parse(user_articles_list: str) -> list:\n",
    "        return list(map(int, user_articles_list.strip('[]').split(', ')))\n",
    "    \n",
    "#     user_articles_list = literal_eval(user_articles_list)\n",
    "    user_articles_list = article_parse(user_articles_list)\n",
    "    \n",
    "    user_vector = np.array([doc_dict[doc_id] for doc_id in user_articles_list])\n",
    "    user_vector = np.median(user_vector, 0)\n",
    "    return user_vector"
   ]
  },
  {
   "cell_type": "code",
   "execution_count": 29,
   "metadata": {},
   "outputs": [],
   "source": [
    "def get_user_embedding_max(user_articles_list):\n",
    "    \n",
    "    def article_parse(user_articles_list: str) -> list:\n",
    "        return list(map(int, user_articles_list.strip('[]').split(', ')))\n",
    "    \n",
    "#     user_articles_list = literal_eval(user_articles_list)\n",
    "    user_articles_list = article_parse(user_articles_list)\n",
    "    \n",
    "    user_vector = np.array([doc_dict[doc_id] for doc_id in user_articles_list])\n",
    "    user_vector = np.max(user_vector, 0)\n",
    "    return user_vector"
   ]
  },
  {
   "cell_type": "code",
   "execution_count": 30,
   "metadata": {},
   "outputs": [
    {
     "data": {
      "text/plain": [
       "'[323329, 321961, 324743, 323186, 324632, 474690]'"
      ]
     },
     "execution_count": 30,
     "metadata": {},
     "output_type": "execute_result"
    }
   ],
   "source": [
    "user_articles_list = users['articles'][33]\n",
    "user_articles_list"
   ]
  },
  {
   "cell_type": "code",
   "execution_count": 31,
   "metadata": {},
   "outputs": [
    {
     "data": {
      "text/plain": [
       "array([0.03109586, 0.13386457, 0.05085585, 0.01079675, 0.        ,\n",
       "       0.00176203, 0.01797144, 0.00843208, 0.02777755, 0.00423779,\n",
       "       0.00448036, 0.10170584, 0.07704674, 0.        , 0.00998068,\n",
       "       0.15451625, 0.11265471, 0.03406607, 0.        , 0.        ,\n",
       "       0.16182361, 0.02069235, 0.00670735, 0.0165357 , 0.        ])"
      ]
     },
     "execution_count": 31,
     "metadata": {},
     "output_type": "execute_result"
    }
   ],
   "source": [
    "get_user_embedding_mean(user_articles_list)"
   ]
  },
  {
   "cell_type": "code",
   "execution_count": 32,
   "metadata": {},
   "outputs": [
    {
     "data": {
      "text/plain": [
       "array([0.        , 0.04360484, 0.        , 0.        , 0.        ,\n",
       "       0.        , 0.00797072, 0.        , 0.        , 0.        ,\n",
       "       0.        , 0.08488653, 0.0078746 , 0.        , 0.        ,\n",
       "       0.12163896, 0.13713306, 0.        , 0.        , 0.        ,\n",
       "       0.19341054, 0.        , 0.        , 0.        , 0.        ])"
      ]
     },
     "execution_count": 32,
     "metadata": {},
     "output_type": "execute_result"
    }
   ],
   "source": [
    "get_user_embedding_median(user_articles_list)"
   ]
  },
  {
   "cell_type": "code",
   "execution_count": 33,
   "metadata": {},
   "outputs": [
    {
     "data": {
      "text/plain": [
       "array([0.18657519, 0.43278202, 0.3051351 , 0.06478048, 0.        ,\n",
       "       0.0105722 , 0.06100631, 0.05059248, 0.16666529, 0.01438246,\n",
       "       0.02688219, 0.30493063, 0.25970653, 0.        , 0.05988411,\n",
       "       0.3719117 , 0.21971704, 0.19239877, 0.        , 0.        ,\n",
       "       0.2630876 , 0.09244726, 0.0402441 , 0.0992142 , 0.        ])"
      ]
     },
     "execution_count": 33,
     "metadata": {},
     "output_type": "execute_result"
    }
   ],
   "source": [
    "get_user_embedding_max(user_articles_list)"
   ]
  },
  {
   "cell_type": "markdown",
   "metadata": {},
   "source": [
    "Теперь получим эмбединги для всех пользователей и проверим их качество на конкретной downstream-задаче"
   ]
  },
  {
   "cell_type": "code",
   "execution_count": 34,
   "metadata": {},
   "outputs": [],
   "source": [
    "def all_user_embeddings(users_articles, foo):\n",
    "    user_embeddings = pd.DataFrame([i for i in users_articles.apply(lambda x: foo(x), 1)])\n",
    "    user_embeddings.columns = ['topic_{}'.format(i) for i in range(25)]\n",
    "    user_embeddings['uid'] = users['uid'].values\n",
    "    return user_embeddings[['uid']+['topic_{}'.format(i) for i in range(25)]]"
   ]
  },
  {
   "cell_type": "code",
   "execution_count": 35,
   "metadata": {},
   "outputs": [
    {
     "data": {
      "text/html": [
       "<div>\n",
       "<style scoped>\n",
       "    .dataframe tbody tr th:only-of-type {\n",
       "        vertical-align: middle;\n",
       "    }\n",
       "\n",
       "    .dataframe tbody tr th {\n",
       "        vertical-align: top;\n",
       "    }\n",
       "\n",
       "    .dataframe thead th {\n",
       "        text-align: right;\n",
       "    }\n",
       "</style>\n",
       "<table border=\"1\" class=\"dataframe\">\n",
       "  <thead>\n",
       "    <tr style=\"text-align: right;\">\n",
       "      <th></th>\n",
       "      <th>uid</th>\n",
       "      <th>topic_0</th>\n",
       "      <th>topic_1</th>\n",
       "      <th>topic_2</th>\n",
       "      <th>topic_3</th>\n",
       "      <th>topic_4</th>\n",
       "      <th>topic_5</th>\n",
       "      <th>topic_6</th>\n",
       "      <th>topic_7</th>\n",
       "      <th>topic_8</th>\n",
       "      <th>...</th>\n",
       "      <th>topic_15</th>\n",
       "      <th>topic_16</th>\n",
       "      <th>topic_17</th>\n",
       "      <th>topic_18</th>\n",
       "      <th>topic_19</th>\n",
       "      <th>topic_20</th>\n",
       "      <th>topic_21</th>\n",
       "      <th>topic_22</th>\n",
       "      <th>topic_23</th>\n",
       "      <th>topic_24</th>\n",
       "    </tr>\n",
       "  </thead>\n",
       "  <tbody>\n",
       "    <tr>\n",
       "      <td>0</td>\n",
       "      <td>u105138</td>\n",
       "      <td>0.000000</td>\n",
       "      <td>0.041592</td>\n",
       "      <td>0.049098</td>\n",
       "      <td>0.029306</td>\n",
       "      <td>0.009289</td>\n",
       "      <td>0.014855</td>\n",
       "      <td>0.037948</td>\n",
       "      <td>0.003084</td>\n",
       "      <td>0.006093</td>\n",
       "      <td>...</td>\n",
       "      <td>0.128022</td>\n",
       "      <td>0.000000</td>\n",
       "      <td>0.013532</td>\n",
       "      <td>0.109327</td>\n",
       "      <td>0.021826</td>\n",
       "      <td>0.112892</td>\n",
       "      <td>0.101591</td>\n",
       "      <td>0.128368</td>\n",
       "      <td>0.003864</td>\n",
       "      <td>0.036100</td>\n",
       "    </tr>\n",
       "    <tr>\n",
       "      <td>1</td>\n",
       "      <td>u108690</td>\n",
       "      <td>0.002941</td>\n",
       "      <td>0.051436</td>\n",
       "      <td>0.057026</td>\n",
       "      <td>0.031087</td>\n",
       "      <td>0.001694</td>\n",
       "      <td>0.045278</td>\n",
       "      <td>0.001833</td>\n",
       "      <td>0.000000</td>\n",
       "      <td>0.004157</td>\n",
       "      <td>...</td>\n",
       "      <td>0.070807</td>\n",
       "      <td>0.065265</td>\n",
       "      <td>0.006992</td>\n",
       "      <td>0.015175</td>\n",
       "      <td>0.000000</td>\n",
       "      <td>0.202895</td>\n",
       "      <td>0.025116</td>\n",
       "      <td>0.057965</td>\n",
       "      <td>0.065447</td>\n",
       "      <td>0.019301</td>\n",
       "    </tr>\n",
       "    <tr>\n",
       "      <td>2</td>\n",
       "      <td>u108339</td>\n",
       "      <td>0.050673</td>\n",
       "      <td>0.050539</td>\n",
       "      <td>0.080295</td>\n",
       "      <td>0.023495</td>\n",
       "      <td>0.000000</td>\n",
       "      <td>0.007643</td>\n",
       "      <td>0.015393</td>\n",
       "      <td>0.005346</td>\n",
       "      <td>0.004995</td>\n",
       "      <td>...</td>\n",
       "      <td>0.036086</td>\n",
       "      <td>0.059622</td>\n",
       "      <td>0.016659</td>\n",
       "      <td>0.022544</td>\n",
       "      <td>0.001785</td>\n",
       "      <td>0.113848</td>\n",
       "      <td>0.053398</td>\n",
       "      <td>0.155827</td>\n",
       "      <td>0.058519</td>\n",
       "      <td>0.069157</td>\n",
       "    </tr>\n",
       "    <tr>\n",
       "      <td>3</td>\n",
       "      <td>u101138</td>\n",
       "      <td>0.095027</td>\n",
       "      <td>0.211942</td>\n",
       "      <td>0.013375</td>\n",
       "      <td>0.013596</td>\n",
       "      <td>0.000000</td>\n",
       "      <td>0.160897</td>\n",
       "      <td>0.002652</td>\n",
       "      <td>0.000000</td>\n",
       "      <td>0.000000</td>\n",
       "      <td>...</td>\n",
       "      <td>0.021141</td>\n",
       "      <td>0.012192</td>\n",
       "      <td>0.013286</td>\n",
       "      <td>0.107830</td>\n",
       "      <td>0.010312</td>\n",
       "      <td>0.085081</td>\n",
       "      <td>0.023266</td>\n",
       "      <td>0.002676</td>\n",
       "      <td>0.000000</td>\n",
       "      <td>0.007980</td>\n",
       "    </tr>\n",
       "    <tr>\n",
       "      <td>4</td>\n",
       "      <td>u108248</td>\n",
       "      <td>0.005754</td>\n",
       "      <td>0.054555</td>\n",
       "      <td>0.027143</td>\n",
       "      <td>0.015715</td>\n",
       "      <td>0.004859</td>\n",
       "      <td>0.048300</td>\n",
       "      <td>0.016134</td>\n",
       "      <td>0.022528</td>\n",
       "      <td>0.016086</td>\n",
       "      <td>...</td>\n",
       "      <td>0.025011</td>\n",
       "      <td>0.086682</td>\n",
       "      <td>0.023172</td>\n",
       "      <td>0.036036</td>\n",
       "      <td>0.000000</td>\n",
       "      <td>0.089233</td>\n",
       "      <td>0.070012</td>\n",
       "      <td>0.087835</td>\n",
       "      <td>0.059389</td>\n",
       "      <td>0.082608</td>\n",
       "    </tr>\n",
       "  </tbody>\n",
       "</table>\n",
       "<p>5 rows × 26 columns</p>\n",
       "</div>"
      ],
      "text/plain": [
       "       uid   topic_0   topic_1   topic_2   topic_3   topic_4   topic_5  \\\n",
       "0  u105138  0.000000  0.041592  0.049098  0.029306  0.009289  0.014855   \n",
       "1  u108690  0.002941  0.051436  0.057026  0.031087  0.001694  0.045278   \n",
       "2  u108339  0.050673  0.050539  0.080295  0.023495  0.000000  0.007643   \n",
       "3  u101138  0.095027  0.211942  0.013375  0.013596  0.000000  0.160897   \n",
       "4  u108248  0.005754  0.054555  0.027143  0.015715  0.004859  0.048300   \n",
       "\n",
       "    topic_6   topic_7   topic_8  ...  topic_15  topic_16  topic_17  topic_18  \\\n",
       "0  0.037948  0.003084  0.006093  ...  0.128022  0.000000  0.013532  0.109327   \n",
       "1  0.001833  0.000000  0.004157  ...  0.070807  0.065265  0.006992  0.015175   \n",
       "2  0.015393  0.005346  0.004995  ...  0.036086  0.059622  0.016659  0.022544   \n",
       "3  0.002652  0.000000  0.000000  ...  0.021141  0.012192  0.013286  0.107830   \n",
       "4  0.016134  0.022528  0.016086  ...  0.025011  0.086682  0.023172  0.036036   \n",
       "\n",
       "   topic_19  topic_20  topic_21  topic_22  topic_23  topic_24  \n",
       "0  0.021826  0.112892  0.101591  0.128368  0.003864  0.036100  \n",
       "1  0.000000  0.202895  0.025116  0.057965  0.065447  0.019301  \n",
       "2  0.001785  0.113848  0.053398  0.155827  0.058519  0.069157  \n",
       "3  0.010312  0.085081  0.023266  0.002676  0.000000  0.007980  \n",
       "4  0.000000  0.089233  0.070012  0.087835  0.059389  0.082608  \n",
       "\n",
       "[5 rows x 26 columns]"
      ]
     },
     "execution_count": 35,
     "metadata": {},
     "output_type": "execute_result"
    }
   ],
   "source": [
    "user_embeddings_mean = all_user_embeddings(users['articles'], get_user_embedding_mean)\n",
    "user_embeddings_mean.head()"
   ]
  },
  {
   "cell_type": "code",
   "execution_count": 36,
   "metadata": {},
   "outputs": [
    {
     "data": {
      "text/html": [
       "<div>\n",
       "<style scoped>\n",
       "    .dataframe tbody tr th:only-of-type {\n",
       "        vertical-align: middle;\n",
       "    }\n",
       "\n",
       "    .dataframe tbody tr th {\n",
       "        vertical-align: top;\n",
       "    }\n",
       "\n",
       "    .dataframe thead th {\n",
       "        text-align: right;\n",
       "    }\n",
       "</style>\n",
       "<table border=\"1\" class=\"dataframe\">\n",
       "  <thead>\n",
       "    <tr style=\"text-align: right;\">\n",
       "      <th></th>\n",
       "      <th>uid</th>\n",
       "      <th>topic_0</th>\n",
       "      <th>topic_1</th>\n",
       "      <th>topic_2</th>\n",
       "      <th>topic_3</th>\n",
       "      <th>topic_4</th>\n",
       "      <th>topic_5</th>\n",
       "      <th>topic_6</th>\n",
       "      <th>topic_7</th>\n",
       "      <th>topic_8</th>\n",
       "      <th>...</th>\n",
       "      <th>topic_15</th>\n",
       "      <th>topic_16</th>\n",
       "      <th>topic_17</th>\n",
       "      <th>topic_18</th>\n",
       "      <th>topic_19</th>\n",
       "      <th>topic_20</th>\n",
       "      <th>topic_21</th>\n",
       "      <th>topic_22</th>\n",
       "      <th>topic_23</th>\n",
       "      <th>topic_24</th>\n",
       "    </tr>\n",
       "  </thead>\n",
       "  <tbody>\n",
       "    <tr>\n",
       "      <td>0</td>\n",
       "      <td>u105138</td>\n",
       "      <td>0.000000</td>\n",
       "      <td>0.000000</td>\n",
       "      <td>0.028258</td>\n",
       "      <td>0.000000</td>\n",
       "      <td>0.0</td>\n",
       "      <td>0.000000</td>\n",
       "      <td>0.000000</td>\n",
       "      <td>0.0</td>\n",
       "      <td>0.0</td>\n",
       "      <td>...</td>\n",
       "      <td>0.094043</td>\n",
       "      <td>0.000000</td>\n",
       "      <td>0.000000</td>\n",
       "      <td>0.007757</td>\n",
       "      <td>0.0</td>\n",
       "      <td>0.076047</td>\n",
       "      <td>0.075431</td>\n",
       "      <td>0.119668</td>\n",
       "      <td>0.000000</td>\n",
       "      <td>0.019398</td>\n",
       "    </tr>\n",
       "    <tr>\n",
       "      <td>1</td>\n",
       "      <td>u108690</td>\n",
       "      <td>0.000000</td>\n",
       "      <td>0.019779</td>\n",
       "      <td>0.061671</td>\n",
       "      <td>0.007368</td>\n",
       "      <td>0.0</td>\n",
       "      <td>0.024224</td>\n",
       "      <td>0.000000</td>\n",
       "      <td>0.0</td>\n",
       "      <td>0.0</td>\n",
       "      <td>...</td>\n",
       "      <td>0.049393</td>\n",
       "      <td>0.035718</td>\n",
       "      <td>0.000000</td>\n",
       "      <td>0.000000</td>\n",
       "      <td>0.0</td>\n",
       "      <td>0.164005</td>\n",
       "      <td>0.000000</td>\n",
       "      <td>0.041612</td>\n",
       "      <td>0.033798</td>\n",
       "      <td>0.013846</td>\n",
       "    </tr>\n",
       "    <tr>\n",
       "      <td>2</td>\n",
       "      <td>u108339</td>\n",
       "      <td>0.000000</td>\n",
       "      <td>0.030441</td>\n",
       "      <td>0.085580</td>\n",
       "      <td>0.024179</td>\n",
       "      <td>0.0</td>\n",
       "      <td>0.000000</td>\n",
       "      <td>0.005909</td>\n",
       "      <td>0.0</td>\n",
       "      <td>0.0</td>\n",
       "      <td>...</td>\n",
       "      <td>0.016473</td>\n",
       "      <td>0.044814</td>\n",
       "      <td>0.000000</td>\n",
       "      <td>0.021645</td>\n",
       "      <td>0.0</td>\n",
       "      <td>0.103043</td>\n",
       "      <td>0.051401</td>\n",
       "      <td>0.159334</td>\n",
       "      <td>0.050740</td>\n",
       "      <td>0.054191</td>\n",
       "    </tr>\n",
       "    <tr>\n",
       "      <td>3</td>\n",
       "      <td>u101138</td>\n",
       "      <td>0.102532</td>\n",
       "      <td>0.072238</td>\n",
       "      <td>0.000000</td>\n",
       "      <td>0.000000</td>\n",
       "      <td>0.0</td>\n",
       "      <td>0.057687</td>\n",
       "      <td>0.000000</td>\n",
       "      <td>0.0</td>\n",
       "      <td>0.0</td>\n",
       "      <td>...</td>\n",
       "      <td>0.000000</td>\n",
       "      <td>0.000000</td>\n",
       "      <td>0.000000</td>\n",
       "      <td>0.000000</td>\n",
       "      <td>0.0</td>\n",
       "      <td>0.039881</td>\n",
       "      <td>0.000000</td>\n",
       "      <td>0.000000</td>\n",
       "      <td>0.000000</td>\n",
       "      <td>0.000000</td>\n",
       "    </tr>\n",
       "    <tr>\n",
       "      <td>4</td>\n",
       "      <td>u108248</td>\n",
       "      <td>0.000000</td>\n",
       "      <td>0.024404</td>\n",
       "      <td>0.010800</td>\n",
       "      <td>0.000000</td>\n",
       "      <td>0.0</td>\n",
       "      <td>0.026355</td>\n",
       "      <td>0.005350</td>\n",
       "      <td>0.0</td>\n",
       "      <td>0.0</td>\n",
       "      <td>...</td>\n",
       "      <td>0.000000</td>\n",
       "      <td>0.038372</td>\n",
       "      <td>0.025182</td>\n",
       "      <td>0.028702</td>\n",
       "      <td>0.0</td>\n",
       "      <td>0.080020</td>\n",
       "      <td>0.041069</td>\n",
       "      <td>0.045709</td>\n",
       "      <td>0.020213</td>\n",
       "      <td>0.018965</td>\n",
       "    </tr>\n",
       "  </tbody>\n",
       "</table>\n",
       "<p>5 rows × 26 columns</p>\n",
       "</div>"
      ],
      "text/plain": [
       "       uid   topic_0   topic_1   topic_2   topic_3  topic_4   topic_5  \\\n",
       "0  u105138  0.000000  0.000000  0.028258  0.000000      0.0  0.000000   \n",
       "1  u108690  0.000000  0.019779  0.061671  0.007368      0.0  0.024224   \n",
       "2  u108339  0.000000  0.030441  0.085580  0.024179      0.0  0.000000   \n",
       "3  u101138  0.102532  0.072238  0.000000  0.000000      0.0  0.057687   \n",
       "4  u108248  0.000000  0.024404  0.010800  0.000000      0.0  0.026355   \n",
       "\n",
       "    topic_6  topic_7  topic_8  ...  topic_15  topic_16  topic_17  topic_18  \\\n",
       "0  0.000000      0.0      0.0  ...  0.094043  0.000000  0.000000  0.007757   \n",
       "1  0.000000      0.0      0.0  ...  0.049393  0.035718  0.000000  0.000000   \n",
       "2  0.005909      0.0      0.0  ...  0.016473  0.044814  0.000000  0.021645   \n",
       "3  0.000000      0.0      0.0  ...  0.000000  0.000000  0.000000  0.000000   \n",
       "4  0.005350      0.0      0.0  ...  0.000000  0.038372  0.025182  0.028702   \n",
       "\n",
       "   topic_19  topic_20  topic_21  topic_22  topic_23  topic_24  \n",
       "0       0.0  0.076047  0.075431  0.119668  0.000000  0.019398  \n",
       "1       0.0  0.164005  0.000000  0.041612  0.033798  0.013846  \n",
       "2       0.0  0.103043  0.051401  0.159334  0.050740  0.054191  \n",
       "3       0.0  0.039881  0.000000  0.000000  0.000000  0.000000  \n",
       "4       0.0  0.080020  0.041069  0.045709  0.020213  0.018965  \n",
       "\n",
       "[5 rows x 26 columns]"
      ]
     },
     "execution_count": 36,
     "metadata": {},
     "output_type": "execute_result"
    }
   ],
   "source": [
    "user_embeddings_median = all_user_embeddings(users['articles'], get_user_embedding_median)\n",
    "user_embeddings_median.head()"
   ]
  },
  {
   "cell_type": "code",
   "execution_count": 37,
   "metadata": {},
   "outputs": [
    {
     "data": {
      "text/html": [
       "<div>\n",
       "<style scoped>\n",
       "    .dataframe tbody tr th:only-of-type {\n",
       "        vertical-align: middle;\n",
       "    }\n",
       "\n",
       "    .dataframe tbody tr th {\n",
       "        vertical-align: top;\n",
       "    }\n",
       "\n",
       "    .dataframe thead th {\n",
       "        text-align: right;\n",
       "    }\n",
       "</style>\n",
       "<table border=\"1\" class=\"dataframe\">\n",
       "  <thead>\n",
       "    <tr style=\"text-align: right;\">\n",
       "      <th></th>\n",
       "      <th>uid</th>\n",
       "      <th>topic_0</th>\n",
       "      <th>topic_1</th>\n",
       "      <th>topic_2</th>\n",
       "      <th>topic_3</th>\n",
       "      <th>topic_4</th>\n",
       "      <th>topic_5</th>\n",
       "      <th>topic_6</th>\n",
       "      <th>topic_7</th>\n",
       "      <th>topic_8</th>\n",
       "      <th>...</th>\n",
       "      <th>topic_15</th>\n",
       "      <th>topic_16</th>\n",
       "      <th>topic_17</th>\n",
       "      <th>topic_18</th>\n",
       "      <th>topic_19</th>\n",
       "      <th>topic_20</th>\n",
       "      <th>topic_21</th>\n",
       "      <th>topic_22</th>\n",
       "      <th>topic_23</th>\n",
       "      <th>topic_24</th>\n",
       "    </tr>\n",
       "  </thead>\n",
       "  <tbody>\n",
       "    <tr>\n",
       "      <td>0</td>\n",
       "      <td>u105138</td>\n",
       "      <td>0.000000</td>\n",
       "      <td>0.249553</td>\n",
       "      <td>0.134641</td>\n",
       "      <td>0.127328</td>\n",
       "      <td>0.055737</td>\n",
       "      <td>0.089133</td>\n",
       "      <td>0.203509</td>\n",
       "      <td>0.018501</td>\n",
       "      <td>0.036560</td>\n",
       "      <td>...</td>\n",
       "      <td>0.301603</td>\n",
       "      <td>0.000000</td>\n",
       "      <td>0.058665</td>\n",
       "      <td>0.360404</td>\n",
       "      <td>0.092077</td>\n",
       "      <td>0.277425</td>\n",
       "      <td>0.347349</td>\n",
       "      <td>0.348842</td>\n",
       "      <td>0.023183</td>\n",
       "      <td>0.099354</td>\n",
       "    </tr>\n",
       "    <tr>\n",
       "      <td>1</td>\n",
       "      <td>u108690</td>\n",
       "      <td>0.017645</td>\n",
       "      <td>0.187006</td>\n",
       "      <td>0.110703</td>\n",
       "      <td>0.155747</td>\n",
       "      <td>0.010167</td>\n",
       "      <td>0.115772</td>\n",
       "      <td>0.010999</td>\n",
       "      <td>0.000000</td>\n",
       "      <td>0.013514</td>\n",
       "      <td>...</td>\n",
       "      <td>0.184418</td>\n",
       "      <td>0.216728</td>\n",
       "      <td>0.041951</td>\n",
       "      <td>0.091052</td>\n",
       "      <td>0.000000</td>\n",
       "      <td>0.343164</td>\n",
       "      <td>0.135322</td>\n",
       "      <td>0.137614</td>\n",
       "      <td>0.166000</td>\n",
       "      <td>0.057051</td>\n",
       "    </tr>\n",
       "    <tr>\n",
       "      <td>2</td>\n",
       "      <td>u108339</td>\n",
       "      <td>0.304038</td>\n",
       "      <td>0.157822</td>\n",
       "      <td>0.170525</td>\n",
       "      <td>0.061521</td>\n",
       "      <td>0.000000</td>\n",
       "      <td>0.025049</td>\n",
       "      <td>0.059902</td>\n",
       "      <td>0.016800</td>\n",
       "      <td>0.029970</td>\n",
       "      <td>...</td>\n",
       "      <td>0.099296</td>\n",
       "      <td>0.208257</td>\n",
       "      <td>0.099952</td>\n",
       "      <td>0.046511</td>\n",
       "      <td>0.010712</td>\n",
       "      <td>0.263253</td>\n",
       "      <td>0.130219</td>\n",
       "      <td>0.238756</td>\n",
       "      <td>0.147443</td>\n",
       "      <td>0.201914</td>\n",
       "    </tr>\n",
       "    <tr>\n",
       "      <td>3</td>\n",
       "      <td>u101138</td>\n",
       "      <td>0.225908</td>\n",
       "      <td>0.567074</td>\n",
       "      <td>0.052690</td>\n",
       "      <td>0.081578</td>\n",
       "      <td>0.000000</td>\n",
       "      <td>0.612678</td>\n",
       "      <td>0.015911</td>\n",
       "      <td>0.000000</td>\n",
       "      <td>0.000000</td>\n",
       "      <td>...</td>\n",
       "      <td>0.074680</td>\n",
       "      <td>0.073153</td>\n",
       "      <td>0.040879</td>\n",
       "      <td>0.483900</td>\n",
       "      <td>0.061870</td>\n",
       "      <td>0.265533</td>\n",
       "      <td>0.128852</td>\n",
       "      <td>0.016057</td>\n",
       "      <td>0.000000</td>\n",
       "      <td>0.047878</td>\n",
       "    </tr>\n",
       "    <tr>\n",
       "      <td>4</td>\n",
       "      <td>u108248</td>\n",
       "      <td>0.034521</td>\n",
       "      <td>0.178650</td>\n",
       "      <td>0.088255</td>\n",
       "      <td>0.072607</td>\n",
       "      <td>0.016085</td>\n",
       "      <td>0.160886</td>\n",
       "      <td>0.051738</td>\n",
       "      <td>0.099381</td>\n",
       "      <td>0.073547</td>\n",
       "      <td>...</td>\n",
       "      <td>0.092075</td>\n",
       "      <td>0.210604</td>\n",
       "      <td>0.048321</td>\n",
       "      <td>0.082325</td>\n",
       "      <td>0.000000</td>\n",
       "      <td>0.184938</td>\n",
       "      <td>0.210339</td>\n",
       "      <td>0.306443</td>\n",
       "      <td>0.168194</td>\n",
       "      <td>0.356861</td>\n",
       "    </tr>\n",
       "  </tbody>\n",
       "</table>\n",
       "<p>5 rows × 26 columns</p>\n",
       "</div>"
      ],
      "text/plain": [
       "       uid   topic_0   topic_1   topic_2   topic_3   topic_4   topic_5  \\\n",
       "0  u105138  0.000000  0.249553  0.134641  0.127328  0.055737  0.089133   \n",
       "1  u108690  0.017645  0.187006  0.110703  0.155747  0.010167  0.115772   \n",
       "2  u108339  0.304038  0.157822  0.170525  0.061521  0.000000  0.025049   \n",
       "3  u101138  0.225908  0.567074  0.052690  0.081578  0.000000  0.612678   \n",
       "4  u108248  0.034521  0.178650  0.088255  0.072607  0.016085  0.160886   \n",
       "\n",
       "    topic_6   topic_7   topic_8  ...  topic_15  topic_16  topic_17  topic_18  \\\n",
       "0  0.203509  0.018501  0.036560  ...  0.301603  0.000000  0.058665  0.360404   \n",
       "1  0.010999  0.000000  0.013514  ...  0.184418  0.216728  0.041951  0.091052   \n",
       "2  0.059902  0.016800  0.029970  ...  0.099296  0.208257  0.099952  0.046511   \n",
       "3  0.015911  0.000000  0.000000  ...  0.074680  0.073153  0.040879  0.483900   \n",
       "4  0.051738  0.099381  0.073547  ...  0.092075  0.210604  0.048321  0.082325   \n",
       "\n",
       "   topic_19  topic_20  topic_21  topic_22  topic_23  topic_24  \n",
       "0  0.092077  0.277425  0.347349  0.348842  0.023183  0.099354  \n",
       "1  0.000000  0.343164  0.135322  0.137614  0.166000  0.057051  \n",
       "2  0.010712  0.263253  0.130219  0.238756  0.147443  0.201914  \n",
       "3  0.061870  0.265533  0.128852  0.016057  0.000000  0.047878  \n",
       "4  0.000000  0.184938  0.210339  0.306443  0.168194  0.356861  \n",
       "\n",
       "[5 rows x 26 columns]"
      ]
     },
     "execution_count": 37,
     "metadata": {},
     "output_type": "execute_result"
    }
   ],
   "source": [
    "user_embeddings_max = all_user_embeddings(users['articles'], get_user_embedding_max)\n",
    "user_embeddings_max.head()"
   ]
  },
  {
   "cell_type": "markdown",
   "metadata": {},
   "source": [
    "Датасет готов - можно попробовать обучить модель. Загрузим нашу разметку"
   ]
  },
  {
   "cell_type": "code",
   "execution_count": 38,
   "metadata": {},
   "outputs": [
    {
     "data": {
      "text/html": [
       "<div>\n",
       "<style scoped>\n",
       "    .dataframe tbody tr th:only-of-type {\n",
       "        vertical-align: middle;\n",
       "    }\n",
       "\n",
       "    .dataframe tbody tr th {\n",
       "        vertical-align: top;\n",
       "    }\n",
       "\n",
       "    .dataframe thead th {\n",
       "        text-align: right;\n",
       "    }\n",
       "</style>\n",
       "<table border=\"1\" class=\"dataframe\">\n",
       "  <thead>\n",
       "    <tr style=\"text-align: right;\">\n",
       "      <th></th>\n",
       "      <th>uid</th>\n",
       "      <th>churn</th>\n",
       "    </tr>\n",
       "  </thead>\n",
       "  <tbody>\n",
       "    <tr>\n",
       "      <td>0</td>\n",
       "      <td>u107120</td>\n",
       "      <td>0</td>\n",
       "    </tr>\n",
       "    <tr>\n",
       "      <td>1</td>\n",
       "      <td>u102277</td>\n",
       "      <td>0</td>\n",
       "    </tr>\n",
       "    <tr>\n",
       "      <td>2</td>\n",
       "      <td>u102444</td>\n",
       "      <td>0</td>\n",
       "    </tr>\n",
       "    <tr>\n",
       "      <td>3</td>\n",
       "      <td>u103439</td>\n",
       "      <td>0</td>\n",
       "    </tr>\n",
       "    <tr>\n",
       "      <td>4</td>\n",
       "      <td>u104300</td>\n",
       "      <td>0</td>\n",
       "    </tr>\n",
       "  </tbody>\n",
       "</table>\n",
       "</div>"
      ],
      "text/plain": [
       "       uid  churn\n",
       "0  u107120      0\n",
       "1  u102277      0\n",
       "2  u102444      0\n",
       "3  u103439      0\n",
       "4  u104300      0"
      ]
     },
     "execution_count": 38,
     "metadata": {},
     "output_type": "execute_result"
    }
   ],
   "source": [
    "target = pd.read_csv(\"data/webinar_2/users_churn.csv\")\n",
    "target.head()"
   ]
  },
  {
   "cell_type": "code",
   "execution_count": 39,
   "metadata": {},
   "outputs": [],
   "source": [
    "X_mean = pd.merge(user_embeddings_mean, target, 'left')\n",
    "X_median = pd.merge(user_embeddings_median, target, 'left')\n",
    "X_max = pd.merge(user_embeddings_max, target, 'left')"
   ]
  },
  {
   "cell_type": "code",
   "execution_count": 40,
   "metadata": {},
   "outputs": [
    {
     "data": {
      "text/html": [
       "<div>\n",
       "<style scoped>\n",
       "    .dataframe tbody tr th:only-of-type {\n",
       "        vertical-align: middle;\n",
       "    }\n",
       "\n",
       "    .dataframe tbody tr th {\n",
       "        vertical-align: top;\n",
       "    }\n",
       "\n",
       "    .dataframe thead th {\n",
       "        text-align: right;\n",
       "    }\n",
       "</style>\n",
       "<table border=\"1\" class=\"dataframe\">\n",
       "  <thead>\n",
       "    <tr style=\"text-align: right;\">\n",
       "      <th></th>\n",
       "      <th>uid</th>\n",
       "      <th>topic_0</th>\n",
       "      <th>topic_1</th>\n",
       "      <th>topic_2</th>\n",
       "      <th>topic_3</th>\n",
       "      <th>topic_4</th>\n",
       "      <th>topic_5</th>\n",
       "      <th>topic_6</th>\n",
       "      <th>topic_7</th>\n",
       "      <th>topic_8</th>\n",
       "      <th>...</th>\n",
       "      <th>topic_16</th>\n",
       "      <th>topic_17</th>\n",
       "      <th>topic_18</th>\n",
       "      <th>topic_19</th>\n",
       "      <th>topic_20</th>\n",
       "      <th>topic_21</th>\n",
       "      <th>topic_22</th>\n",
       "      <th>topic_23</th>\n",
       "      <th>topic_24</th>\n",
       "      <th>churn</th>\n",
       "    </tr>\n",
       "  </thead>\n",
       "  <tbody>\n",
       "    <tr>\n",
       "      <td>0</td>\n",
       "      <td>u105138</td>\n",
       "      <td>0.000000</td>\n",
       "      <td>0.041592</td>\n",
       "      <td>0.049098</td>\n",
       "      <td>0.029306</td>\n",
       "      <td>0.009289</td>\n",
       "      <td>0.014855</td>\n",
       "      <td>0.037948</td>\n",
       "      <td>0.003084</td>\n",
       "      <td>0.006093</td>\n",
       "      <td>...</td>\n",
       "      <td>0.000000</td>\n",
       "      <td>0.013532</td>\n",
       "      <td>0.109327</td>\n",
       "      <td>0.021826</td>\n",
       "      <td>0.112892</td>\n",
       "      <td>0.101591</td>\n",
       "      <td>0.128368</td>\n",
       "      <td>0.003864</td>\n",
       "      <td>0.036100</td>\n",
       "      <td>0</td>\n",
       "    </tr>\n",
       "    <tr>\n",
       "      <td>1</td>\n",
       "      <td>u108690</td>\n",
       "      <td>0.002941</td>\n",
       "      <td>0.051436</td>\n",
       "      <td>0.057026</td>\n",
       "      <td>0.031087</td>\n",
       "      <td>0.001694</td>\n",
       "      <td>0.045278</td>\n",
       "      <td>0.001833</td>\n",
       "      <td>0.000000</td>\n",
       "      <td>0.004157</td>\n",
       "      <td>...</td>\n",
       "      <td>0.065265</td>\n",
       "      <td>0.006992</td>\n",
       "      <td>0.015175</td>\n",
       "      <td>0.000000</td>\n",
       "      <td>0.202895</td>\n",
       "      <td>0.025116</td>\n",
       "      <td>0.057965</td>\n",
       "      <td>0.065447</td>\n",
       "      <td>0.019301</td>\n",
       "      <td>1</td>\n",
       "    </tr>\n",
       "    <tr>\n",
       "      <td>2</td>\n",
       "      <td>u108339</td>\n",
       "      <td>0.050673</td>\n",
       "      <td>0.050539</td>\n",
       "      <td>0.080295</td>\n",
       "      <td>0.023495</td>\n",
       "      <td>0.000000</td>\n",
       "      <td>0.007643</td>\n",
       "      <td>0.015393</td>\n",
       "      <td>0.005346</td>\n",
       "      <td>0.004995</td>\n",
       "      <td>...</td>\n",
       "      <td>0.059622</td>\n",
       "      <td>0.016659</td>\n",
       "      <td>0.022544</td>\n",
       "      <td>0.001785</td>\n",
       "      <td>0.113848</td>\n",
       "      <td>0.053398</td>\n",
       "      <td>0.155827</td>\n",
       "      <td>0.058519</td>\n",
       "      <td>0.069157</td>\n",
       "      <td>1</td>\n",
       "    </tr>\n",
       "    <tr>\n",
       "      <td>3</td>\n",
       "      <td>u101138</td>\n",
       "      <td>0.095027</td>\n",
       "      <td>0.211942</td>\n",
       "      <td>0.013375</td>\n",
       "      <td>0.013596</td>\n",
       "      <td>0.000000</td>\n",
       "      <td>0.160897</td>\n",
       "      <td>0.002652</td>\n",
       "      <td>0.000000</td>\n",
       "      <td>0.000000</td>\n",
       "      <td>...</td>\n",
       "      <td>0.012192</td>\n",
       "      <td>0.013286</td>\n",
       "      <td>0.107830</td>\n",
       "      <td>0.010312</td>\n",
       "      <td>0.085081</td>\n",
       "      <td>0.023266</td>\n",
       "      <td>0.002676</td>\n",
       "      <td>0.000000</td>\n",
       "      <td>0.007980</td>\n",
       "      <td>0</td>\n",
       "    </tr>\n",
       "    <tr>\n",
       "      <td>4</td>\n",
       "      <td>u108248</td>\n",
       "      <td>0.005754</td>\n",
       "      <td>0.054555</td>\n",
       "      <td>0.027143</td>\n",
       "      <td>0.015715</td>\n",
       "      <td>0.004859</td>\n",
       "      <td>0.048300</td>\n",
       "      <td>0.016134</td>\n",
       "      <td>0.022528</td>\n",
       "      <td>0.016086</td>\n",
       "      <td>...</td>\n",
       "      <td>0.086682</td>\n",
       "      <td>0.023172</td>\n",
       "      <td>0.036036</td>\n",
       "      <td>0.000000</td>\n",
       "      <td>0.089233</td>\n",
       "      <td>0.070012</td>\n",
       "      <td>0.087835</td>\n",
       "      <td>0.059389</td>\n",
       "      <td>0.082608</td>\n",
       "      <td>1</td>\n",
       "    </tr>\n",
       "  </tbody>\n",
       "</table>\n",
       "<p>5 rows × 27 columns</p>\n",
       "</div>"
      ],
      "text/plain": [
       "       uid   topic_0   topic_1   topic_2   topic_3   topic_4   topic_5  \\\n",
       "0  u105138  0.000000  0.041592  0.049098  0.029306  0.009289  0.014855   \n",
       "1  u108690  0.002941  0.051436  0.057026  0.031087  0.001694  0.045278   \n",
       "2  u108339  0.050673  0.050539  0.080295  0.023495  0.000000  0.007643   \n",
       "3  u101138  0.095027  0.211942  0.013375  0.013596  0.000000  0.160897   \n",
       "4  u108248  0.005754  0.054555  0.027143  0.015715  0.004859  0.048300   \n",
       "\n",
       "    topic_6   topic_7   topic_8  ...  topic_16  topic_17  topic_18  topic_19  \\\n",
       "0  0.037948  0.003084  0.006093  ...  0.000000  0.013532  0.109327  0.021826   \n",
       "1  0.001833  0.000000  0.004157  ...  0.065265  0.006992  0.015175  0.000000   \n",
       "2  0.015393  0.005346  0.004995  ...  0.059622  0.016659  0.022544  0.001785   \n",
       "3  0.002652  0.000000  0.000000  ...  0.012192  0.013286  0.107830  0.010312   \n",
       "4  0.016134  0.022528  0.016086  ...  0.086682  0.023172  0.036036  0.000000   \n",
       "\n",
       "   topic_20  topic_21  topic_22  topic_23  topic_24  churn  \n",
       "0  0.112892  0.101591  0.128368  0.003864  0.036100      0  \n",
       "1  0.202895  0.025116  0.057965  0.065447  0.019301      1  \n",
       "2  0.113848  0.053398  0.155827  0.058519  0.069157      1  \n",
       "3  0.085081  0.023266  0.002676  0.000000  0.007980      0  \n",
       "4  0.089233  0.070012  0.087835  0.059389  0.082608      1  \n",
       "\n",
       "[5 rows x 27 columns]"
      ]
     },
     "execution_count": 40,
     "metadata": {},
     "output_type": "execute_result"
    }
   ],
   "source": [
    "X_mean.head()"
   ]
  },
  {
   "cell_type": "code",
   "execution_count": 41,
   "metadata": {},
   "outputs": [
    {
     "data": {
      "text/html": [
       "<div>\n",
       "<style scoped>\n",
       "    .dataframe tbody tr th:only-of-type {\n",
       "        vertical-align: middle;\n",
       "    }\n",
       "\n",
       "    .dataframe tbody tr th {\n",
       "        vertical-align: top;\n",
       "    }\n",
       "\n",
       "    .dataframe thead th {\n",
       "        text-align: right;\n",
       "    }\n",
       "</style>\n",
       "<table border=\"1\" class=\"dataframe\">\n",
       "  <thead>\n",
       "    <tr style=\"text-align: right;\">\n",
       "      <th></th>\n",
       "      <th>uid</th>\n",
       "      <th>topic_0</th>\n",
       "      <th>topic_1</th>\n",
       "      <th>topic_2</th>\n",
       "      <th>topic_3</th>\n",
       "      <th>topic_4</th>\n",
       "      <th>topic_5</th>\n",
       "      <th>topic_6</th>\n",
       "      <th>topic_7</th>\n",
       "      <th>topic_8</th>\n",
       "      <th>...</th>\n",
       "      <th>topic_16</th>\n",
       "      <th>topic_17</th>\n",
       "      <th>topic_18</th>\n",
       "      <th>topic_19</th>\n",
       "      <th>topic_20</th>\n",
       "      <th>topic_21</th>\n",
       "      <th>topic_22</th>\n",
       "      <th>topic_23</th>\n",
       "      <th>topic_24</th>\n",
       "      <th>churn</th>\n",
       "    </tr>\n",
       "  </thead>\n",
       "  <tbody>\n",
       "    <tr>\n",
       "      <td>0</td>\n",
       "      <td>u105138</td>\n",
       "      <td>0.000000</td>\n",
       "      <td>0.000000</td>\n",
       "      <td>0.028258</td>\n",
       "      <td>0.000000</td>\n",
       "      <td>0.0</td>\n",
       "      <td>0.000000</td>\n",
       "      <td>0.000000</td>\n",
       "      <td>0.0</td>\n",
       "      <td>0.0</td>\n",
       "      <td>...</td>\n",
       "      <td>0.000000</td>\n",
       "      <td>0.000000</td>\n",
       "      <td>0.007757</td>\n",
       "      <td>0.0</td>\n",
       "      <td>0.076047</td>\n",
       "      <td>0.075431</td>\n",
       "      <td>0.119668</td>\n",
       "      <td>0.000000</td>\n",
       "      <td>0.019398</td>\n",
       "      <td>0</td>\n",
       "    </tr>\n",
       "    <tr>\n",
       "      <td>1</td>\n",
       "      <td>u108690</td>\n",
       "      <td>0.000000</td>\n",
       "      <td>0.019779</td>\n",
       "      <td>0.061671</td>\n",
       "      <td>0.007368</td>\n",
       "      <td>0.0</td>\n",
       "      <td>0.024224</td>\n",
       "      <td>0.000000</td>\n",
       "      <td>0.0</td>\n",
       "      <td>0.0</td>\n",
       "      <td>...</td>\n",
       "      <td>0.035718</td>\n",
       "      <td>0.000000</td>\n",
       "      <td>0.000000</td>\n",
       "      <td>0.0</td>\n",
       "      <td>0.164005</td>\n",
       "      <td>0.000000</td>\n",
       "      <td>0.041612</td>\n",
       "      <td>0.033798</td>\n",
       "      <td>0.013846</td>\n",
       "      <td>1</td>\n",
       "    </tr>\n",
       "    <tr>\n",
       "      <td>2</td>\n",
       "      <td>u108339</td>\n",
       "      <td>0.000000</td>\n",
       "      <td>0.030441</td>\n",
       "      <td>0.085580</td>\n",
       "      <td>0.024179</td>\n",
       "      <td>0.0</td>\n",
       "      <td>0.000000</td>\n",
       "      <td>0.005909</td>\n",
       "      <td>0.0</td>\n",
       "      <td>0.0</td>\n",
       "      <td>...</td>\n",
       "      <td>0.044814</td>\n",
       "      <td>0.000000</td>\n",
       "      <td>0.021645</td>\n",
       "      <td>0.0</td>\n",
       "      <td>0.103043</td>\n",
       "      <td>0.051401</td>\n",
       "      <td>0.159334</td>\n",
       "      <td>0.050740</td>\n",
       "      <td>0.054191</td>\n",
       "      <td>1</td>\n",
       "    </tr>\n",
       "    <tr>\n",
       "      <td>3</td>\n",
       "      <td>u101138</td>\n",
       "      <td>0.102532</td>\n",
       "      <td>0.072238</td>\n",
       "      <td>0.000000</td>\n",
       "      <td>0.000000</td>\n",
       "      <td>0.0</td>\n",
       "      <td>0.057687</td>\n",
       "      <td>0.000000</td>\n",
       "      <td>0.0</td>\n",
       "      <td>0.0</td>\n",
       "      <td>...</td>\n",
       "      <td>0.000000</td>\n",
       "      <td>0.000000</td>\n",
       "      <td>0.000000</td>\n",
       "      <td>0.0</td>\n",
       "      <td>0.039881</td>\n",
       "      <td>0.000000</td>\n",
       "      <td>0.000000</td>\n",
       "      <td>0.000000</td>\n",
       "      <td>0.000000</td>\n",
       "      <td>0</td>\n",
       "    </tr>\n",
       "    <tr>\n",
       "      <td>4</td>\n",
       "      <td>u108248</td>\n",
       "      <td>0.000000</td>\n",
       "      <td>0.024404</td>\n",
       "      <td>0.010800</td>\n",
       "      <td>0.000000</td>\n",
       "      <td>0.0</td>\n",
       "      <td>0.026355</td>\n",
       "      <td>0.005350</td>\n",
       "      <td>0.0</td>\n",
       "      <td>0.0</td>\n",
       "      <td>...</td>\n",
       "      <td>0.038372</td>\n",
       "      <td>0.025182</td>\n",
       "      <td>0.028702</td>\n",
       "      <td>0.0</td>\n",
       "      <td>0.080020</td>\n",
       "      <td>0.041069</td>\n",
       "      <td>0.045709</td>\n",
       "      <td>0.020213</td>\n",
       "      <td>0.018965</td>\n",
       "      <td>1</td>\n",
       "    </tr>\n",
       "  </tbody>\n",
       "</table>\n",
       "<p>5 rows × 27 columns</p>\n",
       "</div>"
      ],
      "text/plain": [
       "       uid   topic_0   topic_1   topic_2   topic_3  topic_4   topic_5  \\\n",
       "0  u105138  0.000000  0.000000  0.028258  0.000000      0.0  0.000000   \n",
       "1  u108690  0.000000  0.019779  0.061671  0.007368      0.0  0.024224   \n",
       "2  u108339  0.000000  0.030441  0.085580  0.024179      0.0  0.000000   \n",
       "3  u101138  0.102532  0.072238  0.000000  0.000000      0.0  0.057687   \n",
       "4  u108248  0.000000  0.024404  0.010800  0.000000      0.0  0.026355   \n",
       "\n",
       "    topic_6  topic_7  topic_8  ...  topic_16  topic_17  topic_18  topic_19  \\\n",
       "0  0.000000      0.0      0.0  ...  0.000000  0.000000  0.007757       0.0   \n",
       "1  0.000000      0.0      0.0  ...  0.035718  0.000000  0.000000       0.0   \n",
       "2  0.005909      0.0      0.0  ...  0.044814  0.000000  0.021645       0.0   \n",
       "3  0.000000      0.0      0.0  ...  0.000000  0.000000  0.000000       0.0   \n",
       "4  0.005350      0.0      0.0  ...  0.038372  0.025182  0.028702       0.0   \n",
       "\n",
       "   topic_20  topic_21  topic_22  topic_23  topic_24  churn  \n",
       "0  0.076047  0.075431  0.119668  0.000000  0.019398      0  \n",
       "1  0.164005  0.000000  0.041612  0.033798  0.013846      1  \n",
       "2  0.103043  0.051401  0.159334  0.050740  0.054191      1  \n",
       "3  0.039881  0.000000  0.000000  0.000000  0.000000      0  \n",
       "4  0.080020  0.041069  0.045709  0.020213  0.018965      1  \n",
       "\n",
       "[5 rows x 27 columns]"
      ]
     },
     "execution_count": 41,
     "metadata": {},
     "output_type": "execute_result"
    }
   ],
   "source": [
    "X_median.head()"
   ]
  },
  {
   "cell_type": "code",
   "execution_count": 42,
   "metadata": {},
   "outputs": [
    {
     "data": {
      "text/html": [
       "<div>\n",
       "<style scoped>\n",
       "    .dataframe tbody tr th:only-of-type {\n",
       "        vertical-align: middle;\n",
       "    }\n",
       "\n",
       "    .dataframe tbody tr th {\n",
       "        vertical-align: top;\n",
       "    }\n",
       "\n",
       "    .dataframe thead th {\n",
       "        text-align: right;\n",
       "    }\n",
       "</style>\n",
       "<table border=\"1\" class=\"dataframe\">\n",
       "  <thead>\n",
       "    <tr style=\"text-align: right;\">\n",
       "      <th></th>\n",
       "      <th>uid</th>\n",
       "      <th>topic_0</th>\n",
       "      <th>topic_1</th>\n",
       "      <th>topic_2</th>\n",
       "      <th>topic_3</th>\n",
       "      <th>topic_4</th>\n",
       "      <th>topic_5</th>\n",
       "      <th>topic_6</th>\n",
       "      <th>topic_7</th>\n",
       "      <th>topic_8</th>\n",
       "      <th>...</th>\n",
       "      <th>topic_16</th>\n",
       "      <th>topic_17</th>\n",
       "      <th>topic_18</th>\n",
       "      <th>topic_19</th>\n",
       "      <th>topic_20</th>\n",
       "      <th>topic_21</th>\n",
       "      <th>topic_22</th>\n",
       "      <th>topic_23</th>\n",
       "      <th>topic_24</th>\n",
       "      <th>churn</th>\n",
       "    </tr>\n",
       "  </thead>\n",
       "  <tbody>\n",
       "    <tr>\n",
       "      <td>0</td>\n",
       "      <td>u105138</td>\n",
       "      <td>0.000000</td>\n",
       "      <td>0.249553</td>\n",
       "      <td>0.134641</td>\n",
       "      <td>0.127328</td>\n",
       "      <td>0.055737</td>\n",
       "      <td>0.089133</td>\n",
       "      <td>0.203509</td>\n",
       "      <td>0.018501</td>\n",
       "      <td>0.036560</td>\n",
       "      <td>...</td>\n",
       "      <td>0.000000</td>\n",
       "      <td>0.058665</td>\n",
       "      <td>0.360404</td>\n",
       "      <td>0.092077</td>\n",
       "      <td>0.277425</td>\n",
       "      <td>0.347349</td>\n",
       "      <td>0.348842</td>\n",
       "      <td>0.023183</td>\n",
       "      <td>0.099354</td>\n",
       "      <td>0</td>\n",
       "    </tr>\n",
       "    <tr>\n",
       "      <td>1</td>\n",
       "      <td>u108690</td>\n",
       "      <td>0.017645</td>\n",
       "      <td>0.187006</td>\n",
       "      <td>0.110703</td>\n",
       "      <td>0.155747</td>\n",
       "      <td>0.010167</td>\n",
       "      <td>0.115772</td>\n",
       "      <td>0.010999</td>\n",
       "      <td>0.000000</td>\n",
       "      <td>0.013514</td>\n",
       "      <td>...</td>\n",
       "      <td>0.216728</td>\n",
       "      <td>0.041951</td>\n",
       "      <td>0.091052</td>\n",
       "      <td>0.000000</td>\n",
       "      <td>0.343164</td>\n",
       "      <td>0.135322</td>\n",
       "      <td>0.137614</td>\n",
       "      <td>0.166000</td>\n",
       "      <td>0.057051</td>\n",
       "      <td>1</td>\n",
       "    </tr>\n",
       "    <tr>\n",
       "      <td>2</td>\n",
       "      <td>u108339</td>\n",
       "      <td>0.304038</td>\n",
       "      <td>0.157822</td>\n",
       "      <td>0.170525</td>\n",
       "      <td>0.061521</td>\n",
       "      <td>0.000000</td>\n",
       "      <td>0.025049</td>\n",
       "      <td>0.059902</td>\n",
       "      <td>0.016800</td>\n",
       "      <td>0.029970</td>\n",
       "      <td>...</td>\n",
       "      <td>0.208257</td>\n",
       "      <td>0.099952</td>\n",
       "      <td>0.046511</td>\n",
       "      <td>0.010712</td>\n",
       "      <td>0.263253</td>\n",
       "      <td>0.130219</td>\n",
       "      <td>0.238756</td>\n",
       "      <td>0.147443</td>\n",
       "      <td>0.201914</td>\n",
       "      <td>1</td>\n",
       "    </tr>\n",
       "    <tr>\n",
       "      <td>3</td>\n",
       "      <td>u101138</td>\n",
       "      <td>0.225908</td>\n",
       "      <td>0.567074</td>\n",
       "      <td>0.052690</td>\n",
       "      <td>0.081578</td>\n",
       "      <td>0.000000</td>\n",
       "      <td>0.612678</td>\n",
       "      <td>0.015911</td>\n",
       "      <td>0.000000</td>\n",
       "      <td>0.000000</td>\n",
       "      <td>...</td>\n",
       "      <td>0.073153</td>\n",
       "      <td>0.040879</td>\n",
       "      <td>0.483900</td>\n",
       "      <td>0.061870</td>\n",
       "      <td>0.265533</td>\n",
       "      <td>0.128852</td>\n",
       "      <td>0.016057</td>\n",
       "      <td>0.000000</td>\n",
       "      <td>0.047878</td>\n",
       "      <td>0</td>\n",
       "    </tr>\n",
       "    <tr>\n",
       "      <td>4</td>\n",
       "      <td>u108248</td>\n",
       "      <td>0.034521</td>\n",
       "      <td>0.178650</td>\n",
       "      <td>0.088255</td>\n",
       "      <td>0.072607</td>\n",
       "      <td>0.016085</td>\n",
       "      <td>0.160886</td>\n",
       "      <td>0.051738</td>\n",
       "      <td>0.099381</td>\n",
       "      <td>0.073547</td>\n",
       "      <td>...</td>\n",
       "      <td>0.210604</td>\n",
       "      <td>0.048321</td>\n",
       "      <td>0.082325</td>\n",
       "      <td>0.000000</td>\n",
       "      <td>0.184938</td>\n",
       "      <td>0.210339</td>\n",
       "      <td>0.306443</td>\n",
       "      <td>0.168194</td>\n",
       "      <td>0.356861</td>\n",
       "      <td>1</td>\n",
       "    </tr>\n",
       "  </tbody>\n",
       "</table>\n",
       "<p>5 rows × 27 columns</p>\n",
       "</div>"
      ],
      "text/plain": [
       "       uid   topic_0   topic_1   topic_2   topic_3   topic_4   topic_5  \\\n",
       "0  u105138  0.000000  0.249553  0.134641  0.127328  0.055737  0.089133   \n",
       "1  u108690  0.017645  0.187006  0.110703  0.155747  0.010167  0.115772   \n",
       "2  u108339  0.304038  0.157822  0.170525  0.061521  0.000000  0.025049   \n",
       "3  u101138  0.225908  0.567074  0.052690  0.081578  0.000000  0.612678   \n",
       "4  u108248  0.034521  0.178650  0.088255  0.072607  0.016085  0.160886   \n",
       "\n",
       "    topic_6   topic_7   topic_8  ...  topic_16  topic_17  topic_18  topic_19  \\\n",
       "0  0.203509  0.018501  0.036560  ...  0.000000  0.058665  0.360404  0.092077   \n",
       "1  0.010999  0.000000  0.013514  ...  0.216728  0.041951  0.091052  0.000000   \n",
       "2  0.059902  0.016800  0.029970  ...  0.208257  0.099952  0.046511  0.010712   \n",
       "3  0.015911  0.000000  0.000000  ...  0.073153  0.040879  0.483900  0.061870   \n",
       "4  0.051738  0.099381  0.073547  ...  0.210604  0.048321  0.082325  0.000000   \n",
       "\n",
       "   topic_20  topic_21  topic_22  topic_23  topic_24  churn  \n",
       "0  0.277425  0.347349  0.348842  0.023183  0.099354      0  \n",
       "1  0.343164  0.135322  0.137614  0.166000  0.057051      1  \n",
       "2  0.263253  0.130219  0.238756  0.147443  0.201914      1  \n",
       "3  0.265533  0.128852  0.016057  0.000000  0.047878      0  \n",
       "4  0.184938  0.210339  0.306443  0.168194  0.356861      1  \n",
       "\n",
       "[5 rows x 27 columns]"
      ]
     },
     "execution_count": 42,
     "metadata": {},
     "output_type": "execute_result"
    }
   ],
   "source": [
    "X_max.head()"
   ]
  },
  {
   "cell_type": "code",
   "execution_count": 43,
   "metadata": {},
   "outputs": [],
   "source": [
    "from sklearn.linear_model import LogisticRegression\n",
    "from sklearn.model_selection import train_test_split\n",
    "import itertools\n",
    "\n",
    "import matplotlib.pyplot as plt\n",
    "\n",
    "%matplotlib inline"
   ]
  },
  {
   "cell_type": "code",
   "execution_count": 44,
   "metadata": {},
   "outputs": [],
   "source": [
    "def logreg_fit_predict(df):\n",
    "    #разделим данные на train/test\n",
    "    X_train, X_test, y_train, y_test = train_test_split(df[['topic_{}'.format(i) for i in range(25)]],\n",
    "                                                        df['churn'], random_state=0)\n",
    "    logreg = LogisticRegression()\n",
    "    #обучим \n",
    "    logreg.fit(X_train, y_train)\n",
    "    return y_test, logreg.predict_proba(X_test)[:, 1]"
   ]
  },
  {
   "cell_type": "code",
   "execution_count": 45,
   "metadata": {},
   "outputs": [
    {
     "data": {
      "text/plain": [
       "array([0.11958421, 0.02494821, 0.55425157, 0.19167508, 0.12661371,\n",
       "       0.07071564, 0.2221623 , 0.04236963, 0.04444899, 0.0975136 ])"
      ]
     },
     "execution_count": 45,
     "metadata": {},
     "output_type": "execute_result"
    }
   ],
   "source": [
    "#наши прогнозы для тестовой выборки\n",
    "y_test, preds_mean = logreg_fit_predict(X_mean)\n",
    "preds_mean[:10]"
   ]
  },
  {
   "cell_type": "code",
   "execution_count": 46,
   "metadata": {},
   "outputs": [
    {
     "data": {
      "text/plain": [
       "array([0.08102898, 0.03403297, 0.36636705, 0.11453213, 0.13230905,\n",
       "       0.09972096, 0.07724201, 0.03118047, 0.04337796, 0.17643723])"
      ]
     },
     "execution_count": 46,
     "metadata": {},
     "output_type": "execute_result"
    }
   ],
   "source": [
    "#наши прогнозы для тестовой выборки\n",
    "y_test, preds_median = logreg_fit_predict(X_median)\n",
    "preds_median[:10]"
   ]
  },
  {
   "cell_type": "code",
   "execution_count": 47,
   "metadata": {},
   "outputs": [
    {
     "data": {
      "text/plain": [
       "array([0.02025347, 0.002487  , 0.69818614, 0.03316249, 0.00244822,\n",
       "       0.02280513, 0.03494252, 0.00667646, 0.00295585, 0.24686157])"
      ]
     },
     "execution_count": 47,
     "metadata": {},
     "output_type": "execute_result"
    }
   ],
   "source": [
    "#наши прогнозы для тестовой выборки\n",
    "y_test, preds_max = logreg_fit_predict(X_max)\n",
    "preds_max[:10]"
   ]
  },
  {
   "cell_type": "code",
   "execution_count": 48,
   "metadata": {},
   "outputs": [],
   "source": [
    "from sklearn.metrics import f1_score, roc_auc_score, precision_score, classification_report, precision_recall_curve, confusion_matrix"
   ]
  },
  {
   "cell_type": "markdown",
   "metadata": {},
   "source": [
    "### Рассчитаем Precision, Recall, F_score"
   ]
  },
  {
   "cell_type": "code",
   "execution_count": 66,
   "metadata": {},
   "outputs": [
    {
     "name": "stdout",
     "output_type": "stream",
     "text": [
      "Best Threshold_mean=0.259702, F-Score_mean=0.686, Precision_mean=0.629, Recall_mean=0.755\n"
     ]
    }
   ],
   "source": [
    "precision_mean, recall_mean, thresholds_mean = precision_recall_curve(y_test, preds_mean)\n",
    "fscore_mean = (2 * precision_mean * recall_mean) / (precision_mean + recall_mean)\n",
    "# locate the index of the largest f score\n",
    "ix_mean = np.argmax(fscore_mean)\n",
    "print('Best Threshold_mean=%f, F-Score_mean=%.3f, Precision_mean=%.3f, Recall_mean=%.3f' % (thresholds_mean[ix_mean], \n",
    "                                                                                            fscore_mean[ix_mean],\n",
    "                                                                                            precision_mean[ix_mean],\n",
    "                                                                                            recall_mean[ix_mean]))"
   ]
  },
  {
   "cell_type": "code",
   "execution_count": 50,
   "metadata": {},
   "outputs": [
    {
     "name": "stdout",
     "output_type": "stream",
     "text": [
      "Best Threshold_median=0.279847, F-Score_median=0.806, Precision_median=0.782, Recall_median=0.833\n"
     ]
    }
   ],
   "source": [
    "precision_median, recall_median, thresholds_median = precision_recall_curve(y_test, preds_median)\n",
    "fscore_median = (2 * precision_median * recall_median) / (precision_median + recall_median)\n",
    "# locate the index of the largest f score\n",
    "ix_median = np.argmax(fscore_median)\n",
    "print('Best Threshold_median=%f, F-Score_median=%.3f, Precision_median=%.3f, Recall_median=%.3f' % (thresholds_median[ix_median], \n",
    "                                                                                                    fscore_median[ix_median],\n",
    "                                                                                                    precision_median[ix_median],\n",
    "                                                                                                    recall_median[ix_median]))"
   ]
  },
  {
   "cell_type": "code",
   "execution_count": 51,
   "metadata": {},
   "outputs": [
    {
     "name": "stdout",
     "output_type": "stream",
     "text": [
      "Best Threshold_max=0.379694, F-Score_max=0.807, Precision_max=0.779, Recall_max=0.837\n"
     ]
    }
   ],
   "source": [
    "precision_max, recall_max, thresholds_max = precision_recall_curve(y_test, preds_max)\n",
    "fscore_max = (2 * precision_max * recall_max) / (precision_max + recall_max)\n",
    "# locate the index of the largest f score\n",
    "ix_max = np.argmax(fscore_max)\n",
    "print('Best Threshold_max=%f, F-Score_max=%.3f, Precision_max=%.3f, Recall_max=%.3f' % (thresholds_max[ix_max], \n",
    "                                                                                            fscore_max[ix_max],\n",
    "                                                                                            precision_max[ix_max],\n",
    "                                                                                            recall_max[ix_max]))"
   ]
  },
  {
   "cell_type": "code",
   "execution_count": 52,
   "metadata": {},
   "outputs": [],
   "source": [
    "def plot_confusion_matrix(cm, classes,\n",
    "                          normalize=False,\n",
    "                          title='Confusion matrix',\n",
    "                          cmap=plt.cm.Blues):\n",
    "    \"\"\"\n",
    "    This function prints and plots the confusion matrix.\n",
    "    Normalization can be applied by setting `normalize=True`.\n",
    "    \"\"\"\n",
    "    plt.imshow(cm, interpolation='nearest', cmap=cmap)\n",
    "    plt.title(title)\n",
    "    plt.colorbar()\n",
    "    tick_marks = np.arange(len(classes))\n",
    "    plt.xticks(tick_marks, classes, rotation=45)\n",
    "    plt.yticks(tick_marks, classes)\n",
    "\n",
    "    if normalize:\n",
    "        cm = cm.astype('float') / cm.sum(axis=1)[:, np.newaxis]\n",
    "        print(\"Normalized confusion matrix\")\n",
    "    else:\n",
    "        print('Confusion matrix, without normalization')\n",
    "\n",
    "    print(cm)\n",
    "\n",
    "    thresh = cm.max() / 2.\n",
    "    for i, j in itertools.product(range(cm.shape[0]), range(cm.shape[1])):\n",
    "        plt.text(j, i, cm[i, j],\n",
    "                 horizontalalignment=\"center\",\n",
    "                 color=\"white\" if cm[i, j] > thresh else \"black\")\n",
    "\n",
    "    plt.tight_layout()\n",
    "    plt.ylabel('True label')\n",
    "    plt.xlabel('Predicted label')"
   ]
  },
  {
   "cell_type": "code",
   "execution_count": 53,
   "metadata": {},
   "outputs": [
    {
     "name": "stdout",
     "output_type": "stream",
     "text": [
      "Confusion matrix, without normalization\n",
      "[[1646  109]\n",
      " [  61  184]]\n"
     ]
    },
    {
     "data": {
      "image/png": "[encoded data removed]",
      "text/plain": [
       "<Figure size 720x576 with 2 Axes>"
      ]
     },
     "metadata": {
      "needs_background": "light"
     },
     "output_type": "display_data"
    }
   ],
   "source": [
    "#мы уже нашли ранее \"оптимальный\" порог, когда максимизировали f_score_mean\n",
    "font = {'size' : 15}\n",
    "\n",
    "plt.rc('font', **font)\n",
    "\n",
    "cnf_matrix = confusion_matrix(y_test, preds_mean>thresholds_mean[ix_mean])\n",
    "plt.figure(figsize=(10, 8))\n",
    "plot_confusion_matrix(cnf_matrix, classes=['Non-Churn', 'churn'], title='Confusion matrix')\n",
    "# plt.savefig(\"conf_matrix.png\")\n",
    "plt.show()"
   ]
  },
  {
   "cell_type": "code",
   "execution_count": 54,
   "metadata": {},
   "outputs": [
    {
     "name": "stdout",
     "output_type": "stream",
     "text": [
      "Confusion matrix, without normalization\n",
      "[[1698   57]\n",
      " [  42  203]]\n"
     ]
    },
    {
     "data": {
      "image/png": "[encoded data removed]",
      "text/plain": [
       "<Figure size 720x576 with 2 Axes>"
      ]
     },
     "metadata": {
      "needs_background": "light"
     },
     "output_type": "display_data"
    }
   ],
   "source": [
    "#мы уже нашли ранее \"оптимальный\" порог, когда максимизировали f_score_median\n",
    "font = {'size' : 15}\n",
    "\n",
    "plt.rc('font', **font)\n",
    "\n",
    "cnf_matrix = confusion_matrix(y_test, preds_median>thresholds_median[ix_median])\n",
    "plt.figure(figsize=(10, 8))\n",
    "plot_confusion_matrix(cnf_matrix, classes=['Non-Churn', 'churn'], title='Confusion matrix')\n",
    "# plt.savefig(\"conf_matrix.png\")\n",
    "plt.show()"
   ]
  },
  {
   "cell_type": "code",
   "execution_count": 68,
   "metadata": {},
   "outputs": [
    {
     "name": "stdout",
     "output_type": "stream",
     "text": [
      "Confusion matrix, without normalization\n",
      "[[1697   58]\n",
      " [  41  204]]\n"
     ]
    },
    {
     "data": {
      "image/png": "[encoded data removed]",
      "text/plain": [
       "<Figure size 720x576 with 2 Axes>"
      ]
     },
     "metadata": {
      "needs_background": "light"
     },
     "output_type": "display_data"
    }
   ],
   "source": [
    "#мы уже нашли ранее \"оптимальный\" порог, когда максимизировали f_score_max\n",
    "font = {'size' : 15}\n",
    "\n",
    "plt.rc('font', **font)\n",
    "\n",
    "cnf_matrix = confusion_matrix(y_test, preds_max>thresholds_max[ix_max])\n",
    "plt.figure(figsize=(10, 8))\n",
    "plot_confusion_matrix(cnf_matrix, classes=['Non-Churn', 'churn'], title='Confusion matrix')\n",
    "# plt.savefig(\"conf_matrix.png\")\n",
    "plt.show()"
   ]
  },
  {
   "cell_type": "code",
   "execution_count": 56,
   "metadata": {},
   "outputs": [
    {
     "data": {
      "text/plain": [
       "0.948222571079714"
      ]
     },
     "execution_count": 56,
     "metadata": {},
     "output_type": "execute_result"
    }
   ],
   "source": [
    "roc_auc_mean = roc_auc_score(y_test, preds_mean)\n",
    "roc_auc_mean"
   ]
  },
  {
   "cell_type": "code",
   "execution_count": 60,
   "metadata": {},
   "outputs": [
    {
     "data": {
      "text/plain": [
       "0.9762404790976221"
      ]
     },
     "execution_count": 60,
     "metadata": {},
     "output_type": "execute_result"
    }
   ],
   "source": [
    "roc_auc_median = roc_auc_score(y_test, preds_median)\n",
    "roc_auc_median"
   ]
  },
  {
   "cell_type": "code",
   "execution_count": 61,
   "metadata": {},
   "outputs": [
    {
     "data": {
      "text/plain": [
       "0.9758799930228501"
      ]
     },
     "execution_count": 61,
     "metadata": {},
     "output_type": "execute_result"
    }
   ],
   "source": [
    "roc_auc_max = roc_auc_score(y_test, preds_max)\n",
    "roc_auc_max"
   ]
  },
  {
   "cell_type": "code",
   "execution_count": 65,
   "metadata": {},
   "outputs": [
    {
     "data": {
      "text/html": [
       "<div>\n",
       "<style scoped>\n",
       "    .dataframe tbody tr th:only-of-type {\n",
       "        vertical-align: middle;\n",
       "    }\n",
       "\n",
       "    .dataframe tbody tr th {\n",
       "        vertical-align: top;\n",
       "    }\n",
       "\n",
       "    .dataframe thead th {\n",
       "        text-align: right;\n",
       "    }\n",
       "</style>\n",
       "<table border=\"1\" class=\"dataframe\">\n",
       "  <thead>\n",
       "    <tr style=\"text-align: right;\">\n",
       "      <th></th>\n",
       "      <th>roc_auc</th>\n",
       "      <th>precision</th>\n",
       "      <th>recall</th>\n",
       "      <th>f_score</th>\n",
       "    </tr>\n",
       "  </thead>\n",
       "  <tbody>\n",
       "    <tr>\n",
       "      <td>for_mean</td>\n",
       "      <td>0.948223</td>\n",
       "      <td>0.629252</td>\n",
       "      <td>0.755102</td>\n",
       "      <td>0.686456</td>\n",
       "    </tr>\n",
       "    <tr>\n",
       "      <td>for_median</td>\n",
       "      <td>0.976240</td>\n",
       "      <td>0.781609</td>\n",
       "      <td>0.832653</td>\n",
       "      <td>0.806324</td>\n",
       "    </tr>\n",
       "    <tr>\n",
       "      <td>for_max</td>\n",
       "      <td>0.975880</td>\n",
       "      <td>0.779468</td>\n",
       "      <td>0.836735</td>\n",
       "      <td>0.807087</td>\n",
       "    </tr>\n",
       "  </tbody>\n",
       "</table>\n",
       "</div>"
      ],
      "text/plain": [
       "             roc_auc  precision    recall   f_score\n",
       "for_mean    0.948223   0.629252  0.755102  0.686456\n",
       "for_median  0.976240   0.781609  0.832653  0.806324\n",
       "for_max     0.975880   0.779468  0.836735  0.807087"
      ]
     },
     "execution_count": 65,
     "metadata": {},
     "output_type": "execute_result"
    }
   ],
   "source": [
    "score_dct = {\n",
    "    'roc_auc': [roc_auc_mean, roc_auc_median, roc_auc_max],\n",
    "    'precision': [precision_mean[ix_mean], precision_median[ix_median], precision_max[ix_max]],\n",
    "    'recall': [recall_mean[ix_mean], recall_median[ix_median], recall_max[ix_max]],\n",
    "    'f_score': [fscore_mean[ix_mean], fscore_median[ix_median], fscore_max[ix_max]],\n",
    "}\n",
    "\n",
    "pd.DataFrame(data=score_dct, index=['for_mean', 'for_median', 'for_max'])"
   ]
  },
  {
   "cell_type": "markdown",
   "metadata": {},
   "source": [
    "### Выводы:"
   ]
  },
  {
   "cell_type": "markdown",
   "metadata": {},
   "source": [
    "1 Добавил пару незначительных \"стоп-слов\" и, в предобработку текстов, добавил удаление латинских букв. Как ни странно f-score и ROC-AUC-score снизились относительно результатов на вебинаре."
   ]
  },
  {
   "cell_type": "markdown",
   "metadata": {},
   "source": [
    "2 Если код отрабатывает корректно, то можно заметить, что расчёт user-embeddings по медианным и максимальным значениям компонент векторов статей даёт прирост предсказательного качества модели, причем максимум f-score достигается именно при максимальных значениях компонент полученных user-embeddings, а максимум ROC-AUC-score при медианных значениях соответственно."
   ]
  },
  {
   "cell_type": "markdown",
   "metadata": {},
   "source": [
    "3 В качестве попытки трактовки полученного результата можно отметить, что медианные значения компонент векторов user-embeddings видимо статистически лучше передают интересы пользователей, т.е. содержат более сильный сигнал.\n",
    "Максимальные значения компонент видимо тоже."
   ]
  },
  {
   "cell_type": "markdown",
   "metadata": {},
   "source": [
    "4 Дополнительное задание с tf-idf не делал, т.к. нужно навёрстывать пройденный материал, но видимо идея в том, чтобы id статей использовать как \"слова\", расчитать их вес с помощью idf и домножить на него вектора статей перед расчётом user-embeddings."
   ]
  },
  {
   "cell_type": "code",
   "execution_count": null,
   "metadata": {},
   "outputs": [],
   "source": []
  }
 ],
 "metadata": {
  "kernelspec": {
   "display_name": "Python 3",
   "language": "python",
   "name": "python3"
  },
  "language_info": {
   "codemirror_mode": {
    "name": "ipython",
    "version": 3
   },
   "file_extension": ".py",
   "mimetype": "text/x-python",
   "name": "python",
   "nbconvert_exporter": "python",
   "pygments_lexer": "ipython3",
   "version": "3.7.9"
  }
 },
 "nbformat": 4,
 "nbformat_minor": 2
}
