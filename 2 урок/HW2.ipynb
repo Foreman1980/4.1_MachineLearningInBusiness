{
 "cells": [
  {
   "cell_type": "code",
   "execution_count": 1,
   "metadata": {},
   "outputs": [],
   "source": [
    "import pandas as pd\n",
    "import numpy as np\n",
    "import warnings\n",
    "\n",
    "warnings.filterwarnings('ignore')"
   ]
  },
  {
   "cell_type": "code",
   "execution_count": 69,
   "metadata": {},
   "outputs": [
    {
     "name": "stdout",
     "output_type": "stream",
     "text": [
      "(27000, 2)\n"
     ]
    },
    {
     "data": {
      "text/html": [
       "<div>\n",
       "<style scoped>\n",
       "    .dataframe tbody tr th:only-of-type {\n",
       "        vertical-align: middle;\n",
       "    }\n",
       "\n",
       "    .dataframe tbody tr th {\n",
       "        vertical-align: top;\n",
       "    }\n",
       "\n",
       "    .dataframe thead th {\n",
       "        text-align: right;\n",
       "    }\n",
       "</style>\n",
       "<table border=\"1\" class=\"dataframe\">\n",
       "  <thead>\n",
       "    <tr style=\"text-align: right;\">\n",
       "      <th></th>\n",
       "      <th>doc_id</th>\n",
       "      <th>title</th>\n",
       "    </tr>\n",
       "  </thead>\n",
       "  <tbody>\n",
       "    <tr>\n",
       "      <td>0</td>\n",
       "      <td>6</td>\n",
       "      <td>Заместитель председателяnправительства РФnСерг...</td>\n",
       "    </tr>\n",
       "    <tr>\n",
       "      <td>1</td>\n",
       "      <td>4896</td>\n",
       "      <td>Матч 1/16 финала Кубка России по футболу был п...</td>\n",
       "    </tr>\n",
       "    <tr>\n",
       "      <td>2</td>\n",
       "      <td>4897</td>\n",
       "      <td>Форвард «Авангарда» Томаш Заборский прокоммент...</td>\n",
       "    </tr>\n",
       "    <tr>\n",
       "      <td>3</td>\n",
       "      <td>4898</td>\n",
       "      <td>Главный тренер «Кубани» Юрий Красножан прокомм...</td>\n",
       "    </tr>\n",
       "    <tr>\n",
       "      <td>4</td>\n",
       "      <td>4899</td>\n",
       "      <td>Решением попечительского совета владивостокско...</td>\n",
       "    </tr>\n",
       "  </tbody>\n",
       "</table>\n",
       "</div>"
      ],
      "text/plain": [
       "   doc_id                                              title\n",
       "0       6  Заместитель председателяnправительства РФnСерг...\n",
       "1    4896  Матч 1/16 финала Кубка России по футболу был п...\n",
       "2    4897  Форвард «Авангарда» Томаш Заборский прокоммент...\n",
       "3    4898  Главный тренер «Кубани» Юрий Красножан прокомм...\n",
       "4    4899  Решением попечительского совета владивостокско..."
      ]
     },
     "execution_count": 69,
     "metadata": {},
     "output_type": "execute_result"
    }
   ],
   "source": [
    "news = pd.read_csv(\"data/webinar_2/articles.csv\")\n",
    "print(news.shape)\n",
    "news.head()"
   ]
  },
  {
   "cell_type": "code",
   "execution_count": 70,
   "metadata": {},
   "outputs": [
    {
     "name": "stdout",
     "output_type": "stream",
     "text": [
      "(8000, 2)\n"
     ]
    },
    {
     "data": {
      "text/html": [
       "<div>\n",
       "<style scoped>\n",
       "    .dataframe tbody tr th:only-of-type {\n",
       "        vertical-align: middle;\n",
       "    }\n",
       "\n",
       "    .dataframe tbody tr th {\n",
       "        vertical-align: top;\n",
       "    }\n",
       "\n",
       "    .dataframe thead th {\n",
       "        text-align: right;\n",
       "    }\n",
       "</style>\n",
       "<table border=\"1\" class=\"dataframe\">\n",
       "  <thead>\n",
       "    <tr style=\"text-align: right;\">\n",
       "      <th></th>\n",
       "      <th>uid</th>\n",
       "      <th>articles</th>\n",
       "    </tr>\n",
       "  </thead>\n",
       "  <tbody>\n",
       "    <tr>\n",
       "      <td>0</td>\n",
       "      <td>u105138</td>\n",
       "      <td>[293672, 293328, 293001, 293622, 293126, 1852]</td>\n",
       "    </tr>\n",
       "    <tr>\n",
       "      <td>1</td>\n",
       "      <td>u108690</td>\n",
       "      <td>[3405, 1739, 2972, 1158, 1599, 322665]</td>\n",
       "    </tr>\n",
       "    <tr>\n",
       "      <td>2</td>\n",
       "      <td>u108339</td>\n",
       "      <td>[1845, 2009, 2356, 1424, 2939, 323389]</td>\n",
       "    </tr>\n",
       "    <tr>\n",
       "      <td>3</td>\n",
       "      <td>u101138</td>\n",
       "      <td>[5933, 6186, 5055, 6977, 5206, 488389]</td>\n",
       "    </tr>\n",
       "    <tr>\n",
       "      <td>4</td>\n",
       "      <td>u108248</td>\n",
       "      <td>[707, 1144, 2532, 2928, 3133, 324592]</td>\n",
       "    </tr>\n",
       "  </tbody>\n",
       "</table>\n",
       "</div>"
      ],
      "text/plain": [
       "       uid                                        articles\n",
       "0  u105138  [293672, 293328, 293001, 293622, 293126, 1852]\n",
       "1  u108690          [3405, 1739, 2972, 1158, 1599, 322665]\n",
       "2  u108339          [1845, 2009, 2356, 1424, 2939, 323389]\n",
       "3  u101138          [5933, 6186, 5055, 6977, 5206, 488389]\n",
       "4  u108248           [707, 1144, 2532, 2928, 3133, 324592]"
      ]
     },
     "execution_count": 70,
     "metadata": {},
     "output_type": "execute_result"
    }
   ],
   "source": [
    "users = pd.read_csv(\"data/webinar_2/users_articles.csv\")\n",
    "print(users.shape)\n",
    "users.head()"
   ]
  },
  {
   "cell_type": "code",
   "execution_count": 71,
   "metadata": {},
   "outputs": [],
   "source": [
    "from gensim.corpora.dictionary import Dictionary"
   ]
  },
  {
   "cell_type": "code",
   "execution_count": 72,
   "metadata": {},
   "outputs": [],
   "source": [
    "#предобработка текстов\n",
    "import re\n",
    "import numpy as np\n",
    "import nltk\n",
    "\n",
    "from nltk.corpus import stopwords\n",
    "\n",
    "#from nltk.tokenize import word_tokenize\n",
    "\n",
    "from razdel import tokenize # https://github.com/natasha/razdel\n",
    "\n",
    "import pymorphy2"
   ]
  },
  {
   "cell_type": "code",
   "execution_count": 73,
   "metadata": {},
   "outputs": [
    {
     "name": "stderr",
     "output_type": "stream",
     "text": [
      "[nltk_data] Downloading package stopwords to\n",
      "[nltk_data]     C:\\Users\\Pavel\\AppData\\Roaming\\nltk_data...\n",
      "[nltk_data]   Package stopwords is already up-to-date!\n"
     ]
    },
    {
     "data": {
      "text/plain": [
       "151"
      ]
     },
     "execution_count": 73,
     "metadata": {},
     "output_type": "execute_result"
    }
   ],
   "source": [
    "nltk.download('stopwords')\n",
    "stopword_ru = stopwords.words('russian')\n",
    "len(stopword_ru)"
   ]
  },
  {
   "cell_type": "code",
   "execution_count": 74,
   "metadata": {},
   "outputs": [],
   "source": [
    "morph = pymorphy2.MorphAnalyzer()"
   ]
  },
  {
   "cell_type": "code",
   "execution_count": 75,
   "metadata": {},
   "outputs": [],
   "source": [
    "with open('data/webinar_2/stopwords.txt', encoding='utf-8') as f:\n",
    "    additional_stopwords = [w.strip() for w in f.readlines() if w]"
   ]
  },
  {
   "cell_type": "code",
   "execution_count": 76,
   "metadata": {},
   "outputs": [
    {
     "data": {
      "text/plain": [
       "626"
      ]
     },
     "execution_count": 76,
     "metadata": {},
     "output_type": "execute_result"
    }
   ],
   "source": [
    "stopword_ru = list(set(stopword_ru + additional_stopwords + ['ио', 'го']))\n",
    "len(stopword_ru)"
   ]
  },
  {
   "cell_type": "code",
   "execution_count": 77,
   "metadata": {},
   "outputs": [],
   "source": [
    "def clean_text(text):\n",
    "    '''\n",
    "    очистка текста\n",
    "    \n",
    "    на выходе очищеный текст\n",
    "    \n",
    "    '''\n",
    "    if not isinstance(text, str):\n",
    "        text = str(text)\n",
    "    \n",
    "    text = text.lower()\n",
    "    text = text.strip('\\n').strip('\\r').strip('\\t')\n",
    "    \n",
    "    text = re.sub(\"-\\s\\r\\n\\|-\\s\\r\\n|\\r\\n\", '', text)\n",
    "\n",
    "    text = re.sub(\"[0-9]|[-—.,:;_%©«»?*!@#№$^•·&()]|[+=]|[[]|[]]|[/]|\", '', text)\n",
    "    \n",
    "    text = re.sub('[a-z]', ' ', text) # добавлено замена латинских символов на пробел\n",
    "    \n",
    "    text = re.sub(r\"\\r\\n\\t|\\n|\\\\s|\\r\\t|\\\\n\", ' ', text)    \n",
    "    text = re.sub(r'[\\xad]|[\\s+]', ' ', text.strip())\n",
    "\n",
    "    \n",
    "    #tokens = list(tokenize(text))\n",
    "    #words = [_.text for _ in tokens]\n",
    "    #words = [w for w in words if w not in stopword_ru]\n",
    "    \n",
    "    #return \" \".join(words)\n",
    "    return text"
   ]
  },
  {
   "cell_type": "code",
   "execution_count": 80,
   "metadata": {},
   "outputs": [],
   "source": [
    "cache = {}\n",
    "\n",
    "def lemmatization(text):\n",
    "    '''\n",
    "    лемматизация\n",
    "        [0] если зашел тип не `str` делаем его `str`\n",
    "        [1] токенизация предложения через razdel\n",
    "        [2] проверка есть ли в начале слова '-' - ранее уже было удалено в функции \"clean_text\"\n",
    "        [3] проверка токена с одного символа\n",
    "        [4] проверка есть ли данное слово в кэше\n",
    "        [5] лемматизация слова\n",
    "        [6] проверка на стоп-слова\n",
    "\n",
    "    на выходе лист отлемматизированых токенов\n",
    "    '''\n",
    "    # [0]\n",
    "    if not isinstance(text, str):\n",
    "        text = str(text)\n",
    "    \n",
    "    # [1]\n",
    "    tokens = list(tokenize(text))\n",
    "    words = [_.text for _ in tokens]\n",
    "\n",
    "    words_lem = []\n",
    "    for w in words:\n",
    "#         if w[0] == '-': # [2] - не требуется, т.к. мы уже удалили все тире в функции \"clean_text\"\n",
    "#             w = w[1:]\n",
    "        if len(w)>1: # [3]\n",
    "            if w in cache: # [4]\n",
    "                words_lem.append(cache[w])\n",
    "            else: # [5]\n",
    "                temp_cach = cache[w] = morph.parse(w)[0].normal_form\n",
    "                words_lem.append(temp_cach)\n",
    "    \n",
    "    words_lem_without_stopwords = [i for i in words_lem if i not in stopword_ru] # [6]\n",
    "    \n",
    "    return words_lem_without_stopwords"
   ]
  },
  {
   "cell_type": "code",
   "execution_count": 78,
   "metadata": {},
   "outputs": [
    {
     "data": {
      "text/plain": [
       "'Заместитель председателяnправительства РФnСергейnИвановnизбран председателем советаnПБК ЦСКАn. Как сообщаетnпресс-службаnармейцев, такое решение было единогласно принято на первом заседании совета клуба. Основной функцией этого органа будет обсуждение текущего состояния, планирование и утверждение стратегии развития клуба на ближайшую перспективу.nnВ состав совета вошли:nГеоргий Полтавченкоn(полномочный представитель президента в Центральном федеральном округе),nАлексей Седовn(генерал-полковник, начальник службы по защите конституционного строя и борьбе с терроризмомnФСБ РФn),nАлександр Новакn(заместитель министра финансов РФ),nВячеслав Полтавцевn(заместитель генерального директора, руководитель блока по взаимодействию с органами власти, социальной и корпоративной политикиnГМК «Норильский никель»n),nЛеонид Исаковичn(генеральный директор ООО «УК «Спортивные проекты»),nОльга Плешаковаn(генеральный директорn«Трансаэро»n),nАлександр Провоторовn, (генеральный директорnОАО «Ростелеком»n), Андрей Лопатов (экс-игрок ЦСКА, чемпион мира, трехкратный чемпион Европы по баскетболу, председатель правленияnбанка «Клиентский»n),nАндрей Ватутинn(президент ПБК ЦСКА).'"
      ]
     },
     "execution_count": 78,
     "metadata": {},
     "output_type": "execute_result"
    }
   ],
   "source": [
    "news['title'][0]"
   ]
  },
  {
   "cell_type": "code",
   "execution_count": 81,
   "metadata": {},
   "outputs": [
    {
     "name": "stdout",
     "output_type": "stream",
     "text": [
      "Wall time: 19.5 s\n"
     ]
    }
   ],
   "source": [
    "%%time\n",
    "#Запускаем очистку текста. Будет долго...\n",
    "news['title'] = news['title'].apply(lambda x: clean_text(x), 1)"
   ]
  },
  {
   "cell_type": "code",
   "execution_count": 82,
   "metadata": {},
   "outputs": [
    {
     "data": {
      "text/plain": [
       "'заместитель председателя правительства рф сергей иванов избран председателем совета пбк цска  как сообщает прессслужба армейцев такое решение было единогласно принято на первом заседании совета клуба основной функцией этого органа будет обсуждение текущего состояния планирование и утверждение стратегии развития клуба на ближайшую перспективу  в состав совета вошли георгий полтавченко полномочный представитель президента в центральном федеральном округе алексей седов генералполковник начальник службы по защите конституционного строя и борьбе с терроризмом фсб рф  александр новак заместитель министра финансов рф вячеслав полтавцев заместитель генерального директора руководитель блока по взаимодействию с органами власти социальной и корпоративной политики гмк норильский никель  леонид исакович генеральный директор ооо ук спортивные проекты ольга плешакова генеральный директор трансаэро  александр провоторов  генеральный директор оао ростелеком  андрей лопатов эксигрок цска чемпион мира трехкратный чемпион европы по баскетболу председатель правления банка клиентский  андрей ватутин президент пбк цска'"
      ]
     },
     "execution_count": 82,
     "metadata": {},
     "output_type": "execute_result"
    }
   ],
   "source": [
    "news['title'][0]"
   ]
  },
  {
   "cell_type": "code",
   "execution_count": 86,
   "metadata": {},
   "outputs": [
    {
     "name": "stdout",
     "output_type": "stream",
     "text": [
      "Wall time: 2min 14s\n"
     ]
    }
   ],
   "source": [
    "%%time\n",
    "#Запускаем лемматизацию текста. Будет очень долго...\n",
    "news['title'] = news['title'].apply(lambda x: lemmatization(x), 1)"
   ]
  },
  {
   "cell_type": "code",
   "execution_count": 56,
   "metadata": {},
   "outputs": [],
   "source": [
    "#сформируем список наших текстов, разбив еще и на пробелы\n",
    "texts = [t for t in news['title'].values]\n",
    "\n",
    "# Create a corpus from a list of texts\n",
    "common_dictionary = Dictionary(texts)\n",
    "common_corpus = [common_dictionary.doc2bow(text) for text in texts]"
   ]
  },
  {
   "cell_type": "markdown",
   "metadata": {},
   "source": [
    "Запускаем обучение"
   ]
  },
  {
   "cell_type": "code",
   "execution_count": 136,
   "metadata": {},
   "outputs": [
    {
     "name": "stdout",
     "output_type": "stream",
     "text": [
      "Wall time: 34.1 s\n"
     ]
    }
   ],
   "source": [
    "%%time\n",
    "from gensim.models import LdaModel\n",
    "# Train the model on the corpus.\n",
    "lda = LdaModel(common_corpus, num_topics=25, id2word=common_dictionary)#, passes=10)"
   ]
  },
  {
   "cell_type": "code",
   "execution_count": 137,
   "metadata": {},
   "outputs": [],
   "source": [
    "from gensim.test.utils import datapath\n",
    "# Save model to disk.\n",
    "temp_file = datapath(\"model.lda\")\n",
    "lda.save(temp_file)\n",
    "\n",
    "# Load a potentially pretrained model from disk.\n",
    "lda = LdaModel.load(temp_file)"
   ]
  },
  {
   "cell_type": "markdown",
   "metadata": {},
   "source": [
    "Обучили модель. Теперь 2 вопроса:\n",
    "\n",
    "1. как выглядят наши темы\n",
    "2. как получить для документа вектор значений (вероятности принадлежности каждой теме)"
   ]
  },
  {
   "cell_type": "code",
   "execution_count": 138,
   "metadata": {},
   "outputs": [],
   "source": [
    "# Create a new corpus, made of previously unseen documents.\n",
    "other_texts = [t for t in news['title'].iloc[:3]]\n",
    "other_corpus = [common_dictionary.doc2bow(text) for text in other_texts]"
   ]
  },
  {
   "cell_type": "code",
   "execution_count": 139,
   "metadata": {},
   "outputs": [
    {
     "name": "stdout",
     "output_type": "stream",
     "text": [
      "['форвард', 'авангард', 'томаш', 'заборский', 'прокомментировать', 'игра', 'команда', 'матч', 'чемпионат', 'кхл', 'против', 'атланта', 'плохой', 'матч', 'нижний', 'новгород', 'против', 'торпедо', 'настраиваться', 'первый', 'минута', 'включиться', 'заборский', 'получиться', 'забросить', 'быстрый', 'гол', 'задать', 'хороший', 'темп', 'поединок', 'играть', 'хороший', 'сторона', 'пять', 'очко', 'выезд', 'девять', 'хороший']\n"
     ]
    },
    {
     "data": {
      "text/plain": [
       "[(0, 0.16633177), (3, 0.08272039), (4, 0.22054568), (7, 0.50762)]"
      ]
     },
     "execution_count": 139,
     "metadata": {},
     "output_type": "execute_result"
    }
   ],
   "source": [
    "unseen_doc = other_corpus[2]\n",
    "print(other_texts[2])\n",
    "lda[unseen_doc] "
   ]
  },
  {
   "cell_type": "code",
   "execution_count": 140,
   "metadata": {},
   "outputs": [
    {
     "name": "stdout",
     "output_type": "stream",
     "text": [
      "topic_0: звезда египетский перевод армения пол вниз ньюйорк фотография лёд джон\n",
      "topic_1: мужчина тело женщина всё обнаружить дом найти квартира убийство рассказывать\n",
      "topic_2: военный армия боевой удар оборона россия советский база афганистан развивающийся\n",
      "topic_3: день экипаж первый тыс около место мероприятие программа москва центр\n",
      "topic_4: годовой кремль полоса тур девочка знаменитый испания сон немец франция\n",
      "topic_5: ребёнок гражданин мозг женщина исследование семья организм жизнь связанный лаборатория\n",
      "topic_6: научный банк наука новый данные эксперимент поверхность помощь объём университет\n",
      "topic_7: всё автор очень жизнь хороший первый писать большой планета школа\n",
      "topic_8: млрд оборудование бюджет космонавт рубль миллиард медицина доллар расход клинический\n",
      "topic_9: производитель мышь одежда гражданство надёжный ми надпись дорого возведение извинение\n",
      "topic_10: фестиваль доход достигать величина лодка фунт консультация поражать воспаление лечить\n",
      "topic_11: исследование россия пациент территория российский сша данные первый помощь изучение\n",
      "topic_12: выяснить земля рак смерть планета кровь предмет определение опрос космос\n",
      "topic_13: газ произойти погибнуть станция причина источник россия специальный сотрудник обнаружить\n",
      "topic_14: россия российский глава правительство решение вопрос всё газета рубль рф\n",
      "topic_15: японский япония корея южный бензин отреагировать японец ким иран офицер\n",
      "topic_16: ракета снижение первый солнце свет общество банк фон писать погода\n",
      "topic_17: исследование статья путин сша россия доля российский доллар область часть\n",
      "topic_18: население технология век депутат обращение израиль эффективность развитие русский топливо\n",
      "topic_19: млн рост составить рынок тыс млрд рубль цена размер составлять\n",
      "topic_20: украина украинский белоруссия километр китай киев китайский остров болезнь физика\n",
      "topic_21: земля взрыв небо следствие кость брат первый место связанный дверь\n",
      "topic_22: фонд температура градус бомба билет польша образовать польский рт фестиваль\n",
      "topic_23: сша американский журнал экономика район система экономический рынок двигатель новый\n",
      "topic_24: проект запуск строительство миссия новый рейс налог испытание инвестор торговый\n"
     ]
    }
   ],
   "source": [
    "x = lda.show_topics(num_topics=25, num_words=10, formatted=False)\n",
    "topics_words = [(tp[0], [wd[0] for wd in tp[1]]) for tp in x]\n",
    "\n",
    "#Below Code Prints Only Words\n",
    "# lda.print_topics(-1)\n",
    "for topic, words in topics_words:\n",
    "    print(\"topic_{}: \".format(topic)+\" \".join(words))"
   ]
  },
  {
   "cell_type": "markdown",
   "metadata": {},
   "source": [
    "Давайте напишем функцию, которая будет нам возвращать векторное представление новости"
   ]
  },
  {
   "cell_type": "code",
   "execution_count": 165,
   "metadata": {},
   "outputs": [],
   "source": [
    "#text = news['title'].iloc[0]\n",
    "\n",
    "def get_lda_vector(text):\n",
    "    unseen_doc = common_dictionary.doc2bow(text)\n",
    "    lda_tuple = lda[unseen_doc]\n",
    "    not_null_topics = dict(zip([i[0] for i in lda_tuple], [i[1] for i in lda_tuple]))\n",
    "\n",
    "    output_vector = []\n",
    "    for i in range(25):\n",
    "        if i not in not_null_topics:\n",
    "            output_vector.append(0)\n",
    "        else:\n",
    "            output_vector.append(not_null_topics[i])\n",
    "    return np.array(output_vector)"
   ]
  },
  {
   "cell_type": "code",
   "execution_count": 167,
   "metadata": {},
   "outputs": [
    {
     "data": {
      "text/html": [
       "<div>\n",
       "<style scoped>\n",
       "    .dataframe tbody tr th:only-of-type {\n",
       "        vertical-align: middle;\n",
       "    }\n",
       "\n",
       "    .dataframe tbody tr th {\n",
       "        vertical-align: top;\n",
       "    }\n",
       "\n",
       "    .dataframe thead th {\n",
       "        text-align: right;\n",
       "    }\n",
       "</style>\n",
       "<table border=\"1\" class=\"dataframe\">\n",
       "  <thead>\n",
       "    <tr style=\"text-align: right;\">\n",
       "      <th></th>\n",
       "      <th>doc_id</th>\n",
       "      <th>topic_0</th>\n",
       "      <th>topic_1</th>\n",
       "      <th>topic_2</th>\n",
       "      <th>topic_3</th>\n",
       "      <th>topic_4</th>\n",
       "      <th>topic_5</th>\n",
       "      <th>topic_6</th>\n",
       "      <th>topic_7</th>\n",
       "      <th>topic_8</th>\n",
       "      <th>...</th>\n",
       "      <th>topic_15</th>\n",
       "      <th>topic_16</th>\n",
       "      <th>topic_17</th>\n",
       "      <th>topic_18</th>\n",
       "      <th>topic_19</th>\n",
       "      <th>topic_20</th>\n",
       "      <th>topic_21</th>\n",
       "      <th>topic_22</th>\n",
       "      <th>topic_23</th>\n",
       "      <th>topic_24</th>\n",
       "    </tr>\n",
       "  </thead>\n",
       "  <tbody>\n",
       "    <tr>\n",
       "      <td>0</td>\n",
       "      <td>6</td>\n",
       "      <td>0.077942</td>\n",
       "      <td>0.0</td>\n",
       "      <td>0.0</td>\n",
       "      <td>0.024748</td>\n",
       "      <td>0.000000</td>\n",
       "      <td>0.0</td>\n",
       "      <td>0.691209</td>\n",
       "      <td>0.000000</td>\n",
       "      <td>0.0</td>\n",
       "      <td>...</td>\n",
       "      <td>0.0</td>\n",
       "      <td>0.0</td>\n",
       "      <td>0.0</td>\n",
       "      <td>0.0</td>\n",
       "      <td>0.000000</td>\n",
       "      <td>0.0</td>\n",
       "      <td>0.000000</td>\n",
       "      <td>0.0</td>\n",
       "      <td>0.0</td>\n",
       "      <td>0.0</td>\n",
       "    </tr>\n",
       "    <tr>\n",
       "      <td>1</td>\n",
       "      <td>4896</td>\n",
       "      <td>0.000000</td>\n",
       "      <td>0.0</td>\n",
       "      <td>0.0</td>\n",
       "      <td>0.000000</td>\n",
       "      <td>0.360062</td>\n",
       "      <td>0.0</td>\n",
       "      <td>0.000000</td>\n",
       "      <td>0.000000</td>\n",
       "      <td>0.0</td>\n",
       "      <td>...</td>\n",
       "      <td>0.0</td>\n",
       "      <td>0.0</td>\n",
       "      <td>0.0</td>\n",
       "      <td>0.0</td>\n",
       "      <td>0.000000</td>\n",
       "      <td>0.0</td>\n",
       "      <td>0.614287</td>\n",
       "      <td>0.0</td>\n",
       "      <td>0.0</td>\n",
       "      <td>0.0</td>\n",
       "    </tr>\n",
       "    <tr>\n",
       "      <td>2</td>\n",
       "      <td>4897</td>\n",
       "      <td>0.166354</td>\n",
       "      <td>0.0</td>\n",
       "      <td>0.0</td>\n",
       "      <td>0.082714</td>\n",
       "      <td>0.220641</td>\n",
       "      <td>0.0</td>\n",
       "      <td>0.000000</td>\n",
       "      <td>0.507509</td>\n",
       "      <td>0.0</td>\n",
       "      <td>...</td>\n",
       "      <td>0.0</td>\n",
       "      <td>0.0</td>\n",
       "      <td>0.0</td>\n",
       "      <td>0.0</td>\n",
       "      <td>0.000000</td>\n",
       "      <td>0.0</td>\n",
       "      <td>0.000000</td>\n",
       "      <td>0.0</td>\n",
       "      <td>0.0</td>\n",
       "      <td>0.0</td>\n",
       "    </tr>\n",
       "    <tr>\n",
       "      <td>3</td>\n",
       "      <td>4898</td>\n",
       "      <td>0.000000</td>\n",
       "      <td>0.0</td>\n",
       "      <td>0.0</td>\n",
       "      <td>0.000000</td>\n",
       "      <td>0.086230</td>\n",
       "      <td>0.0</td>\n",
       "      <td>0.000000</td>\n",
       "      <td>0.755372</td>\n",
       "      <td>0.0</td>\n",
       "      <td>...</td>\n",
       "      <td>0.0</td>\n",
       "      <td>0.0</td>\n",
       "      <td>0.0</td>\n",
       "      <td>0.0</td>\n",
       "      <td>0.019708</td>\n",
       "      <td>0.0</td>\n",
       "      <td>0.000000</td>\n",
       "      <td>0.0</td>\n",
       "      <td>0.0</td>\n",
       "      <td>0.0</td>\n",
       "    </tr>\n",
       "    <tr>\n",
       "      <td>4</td>\n",
       "      <td>4899</td>\n",
       "      <td>0.162733</td>\n",
       "      <td>0.0</td>\n",
       "      <td>0.0</td>\n",
       "      <td>0.000000</td>\n",
       "      <td>0.000000</td>\n",
       "      <td>0.0</td>\n",
       "      <td>0.000000</td>\n",
       "      <td>0.000000</td>\n",
       "      <td>0.0</td>\n",
       "      <td>...</td>\n",
       "      <td>0.0</td>\n",
       "      <td>0.0</td>\n",
       "      <td>0.0</td>\n",
       "      <td>0.0</td>\n",
       "      <td>0.000000</td>\n",
       "      <td>0.0</td>\n",
       "      <td>0.000000</td>\n",
       "      <td>0.0</td>\n",
       "      <td>0.0</td>\n",
       "      <td>0.0</td>\n",
       "    </tr>\n",
       "  </tbody>\n",
       "</table>\n",
       "<p>5 rows × 26 columns</p>\n",
       "</div>"
      ],
      "text/plain": [
       "   doc_id   topic_0  topic_1  topic_2   topic_3   topic_4  topic_5   topic_6  \\\n",
       "0       6  0.077942      0.0      0.0  0.024748  0.000000      0.0  0.691209   \n",
       "1    4896  0.000000      0.0      0.0  0.000000  0.360062      0.0  0.000000   \n",
       "2    4897  0.166354      0.0      0.0  0.082714  0.220641      0.0  0.000000   \n",
       "3    4898  0.000000      0.0      0.0  0.000000  0.086230      0.0  0.000000   \n",
       "4    4899  0.162733      0.0      0.0  0.000000  0.000000      0.0  0.000000   \n",
       "\n",
       "    topic_7  topic_8  ...  topic_15  topic_16  topic_17  topic_18  topic_19  \\\n",
       "0  0.000000      0.0  ...       0.0       0.0       0.0       0.0  0.000000   \n",
       "1  0.000000      0.0  ...       0.0       0.0       0.0       0.0  0.000000   \n",
       "2  0.507509      0.0  ...       0.0       0.0       0.0       0.0  0.000000   \n",
       "3  0.755372      0.0  ...       0.0       0.0       0.0       0.0  0.019708   \n",
       "4  0.000000      0.0  ...       0.0       0.0       0.0       0.0  0.000000   \n",
       "\n",
       "   topic_20  topic_21  topic_22  topic_23  topic_24  \n",
       "0       0.0  0.000000       0.0       0.0       0.0  \n",
       "1       0.0  0.614287       0.0       0.0       0.0  \n",
       "2       0.0  0.000000       0.0       0.0       0.0  \n",
       "3       0.0  0.000000       0.0       0.0       0.0  \n",
       "4       0.0  0.000000       0.0       0.0       0.0  \n",
       "\n",
       "[5 rows x 26 columns]"
      ]
     },
     "execution_count": 167,
     "metadata": {},
     "output_type": "execute_result"
    }
   ],
   "source": [
    "topic_matrix = pd.DataFrame([get_lda_vector(text) for text in news['title'].values])\n",
    "\n",
    "topic_matrix.columns = ['topic_{}'.format(i) for i in range(25)]\n",
    "\n",
    "topic_matrix['doc_id'] = news['doc_id'].values\n",
    "\n",
    "topic_matrix = topic_matrix[['doc_id']+['topic_{}'.format(i) for i in range(25)]]\n",
    "topic_matrix.head()"
   ]
  },
  {
   "cell_type": "markdown",
   "metadata": {},
   "source": [
    "### Следующий шаг - векторные представления пользователей"
   ]
  },
  {
   "cell_type": "code",
   "execution_count": 169,
   "metadata": {
    "scrolled": true
   },
   "outputs": [
    {
     "data": {
      "text/html": [
       "<div>\n",
       "<style scoped>\n",
       "    .dataframe tbody tr th:only-of-type {\n",
       "        vertical-align: middle;\n",
       "    }\n",
       "\n",
       "    .dataframe tbody tr th {\n",
       "        vertical-align: top;\n",
       "    }\n",
       "\n",
       "    .dataframe thead th {\n",
       "        text-align: right;\n",
       "    }\n",
       "</style>\n",
       "<table border=\"1\" class=\"dataframe\">\n",
       "  <thead>\n",
       "    <tr style=\"text-align: right;\">\n",
       "      <th></th>\n",
       "      <th>uid</th>\n",
       "      <th>articles</th>\n",
       "    </tr>\n",
       "  </thead>\n",
       "  <tbody>\n",
       "    <tr>\n",
       "      <td>0</td>\n",
       "      <td>u105138</td>\n",
       "      <td>[293672, 293328, 293001, 293622, 293126, 1852]</td>\n",
       "    </tr>\n",
       "    <tr>\n",
       "      <td>1</td>\n",
       "      <td>u108690</td>\n",
       "      <td>[3405, 1739, 2972, 1158, 1599, 322665]</td>\n",
       "    </tr>\n",
       "    <tr>\n",
       "      <td>2</td>\n",
       "      <td>u108339</td>\n",
       "      <td>[1845, 2009, 2356, 1424, 2939, 323389]</td>\n",
       "    </tr>\n",
       "    <tr>\n",
       "      <td>3</td>\n",
       "      <td>u101138</td>\n",
       "      <td>[5933, 6186, 5055, 6977, 5206, 488389]</td>\n",
       "    </tr>\n",
       "    <tr>\n",
       "      <td>4</td>\n",
       "      <td>u108248</td>\n",
       "      <td>[707, 1144, 2532, 2928, 3133, 324592]</td>\n",
       "    </tr>\n",
       "  </tbody>\n",
       "</table>\n",
       "</div>"
      ],
      "text/plain": [
       "       uid                                        articles\n",
       "0  u105138  [293672, 293328, 293001, 293622, 293126, 1852]\n",
       "1  u108690          [3405, 1739, 2972, 1158, 1599, 322665]\n",
       "2  u108339          [1845, 2009, 2356, 1424, 2939, 323389]\n",
       "3  u101138          [5933, 6186, 5055, 6977, 5206, 488389]\n",
       "4  u108248           [707, 1144, 2532, 2928, 3133, 324592]"
      ]
     },
     "execution_count": 169,
     "metadata": {},
     "output_type": "execute_result"
    }
   ],
   "source": [
    "users.head()"
   ]
  },
  {
   "cell_type": "code",
   "execution_count": 170,
   "metadata": {},
   "outputs": [
    {
     "data": {
      "text/plain": [
       "array([0.0613485 , 0.        , 0.        , 0.10351997, 0.        ,\n",
       "       0.        , 0.        , 0.14938773, 0.        , 0.        ,\n",
       "       0.        , 0.21833296, 0.        , 0.        , 0.04572577,\n",
       "       0.        , 0.20354527, 0.10375013, 0.        , 0.        ,\n",
       "       0.10265552, 0.        , 0.        , 0.        , 0.        ])"
      ]
     },
     "execution_count": 170,
     "metadata": {},
     "output_type": "execute_result"
    }
   ],
   "source": [
    "doc_dict = dict(zip(topic_matrix['doc_id'].values, topic_matrix[['topic_{}'.format(i) for i in range(25)]].values))\n",
    "doc_dict[293622]"
   ]
  },
  {
   "cell_type": "code",
   "execution_count": 189,
   "metadata": {},
   "outputs": [],
   "source": [
    "def get_user_embedding_mean(user_articles_list):\n",
    "    \n",
    "    def article_parse(user_articles_list: str) -> list:\n",
    "        return list(map(int, user_articles_list.strip('[]').split(', ')))\n",
    "    \n",
    "#     user_articles_list = literal_eval(user_articles_list)\n",
    "    user_articles_list = article_parse(user_articles_list)\n",
    "    \n",
    "    user_vector = np.array([doc_dict[doc_id] for doc_id in user_articles_list])\n",
    "    user_vector = np.mean(user_vector, 0)\n",
    "    return user_vector"
   ]
  },
  {
   "cell_type": "code",
   "execution_count": 196,
   "metadata": {},
   "outputs": [],
   "source": [
    "def get_user_embedding_median(user_articles_list):\n",
    "    \n",
    "    def article_parse(user_articles_list: str) -> list:\n",
    "        return list(map(int, user_articles_list.strip('[]').split(', ')))\n",
    "    \n",
    "#     user_articles_list = literal_eval(user_articles_list)\n",
    "    user_articles_list = article_parse(user_articles_list)\n",
    "    \n",
    "    user_vector = np.array([doc_dict[doc_id] for doc_id in user_articles_list])\n",
    "    user_vector = np.median(user_vector, 0)\n",
    "    return user_vector"
   ]
  },
  {
   "cell_type": "code",
   "execution_count": 197,
   "metadata": {},
   "outputs": [],
   "source": [
    "def get_user_embedding_max(user_articles_list):\n",
    "    \n",
    "    def article_parse(user_articles_list: str) -> list:\n",
    "        return list(map(int, user_articles_list.strip('[]').split(', ')))\n",
    "    \n",
    "#     user_articles_list = literal_eval(user_articles_list)\n",
    "    user_articles_list = article_parse(user_articles_list)\n",
    "    \n",
    "    user_vector = np.array([doc_dict[doc_id] for doc_id in user_articles_list])\n",
    "    user_vector = np.max(user_vector, 0)\n",
    "    return user_vector"
   ]
  },
  {
   "cell_type": "code",
   "execution_count": 203,
   "metadata": {},
   "outputs": [
    {
     "data": {
      "text/plain": [
       "'[323329, 321961, 324743, 323186, 324632, 474690]'"
      ]
     },
     "execution_count": 203,
     "metadata": {},
     "output_type": "execute_result"
    }
   ],
   "source": [
    "user_articles_list = users['articles'][33]\n",
    "user_articles_list"
   ]
  },
  {
   "cell_type": "code",
   "execution_count": 200,
   "metadata": {},
   "outputs": [
    {
     "data": {
      "text/plain": [
       "array([0.01276778, 0.09846708, 0.03940708, 0.00450909, 0.04019691,\n",
       "       0.0091912 , 0.01776606, 0.035355  , 0.        , 0.00428815,\n",
       "       0.00330063, 0.11928863, 0.00867831, 0.07015892, 0.31485442,\n",
       "       0.        , 0.02116782, 0.11236077, 0.01351687, 0.        ,\n",
       "       0.00465552, 0.02720926, 0.        , 0.01942375, 0.01090128])"
      ]
     },
     "execution_count": 200,
     "metadata": {},
     "output_type": "execute_result"
    }
   ],
   "source": [
    "get_user_embedding_mean(user_articles_list)"
   ]
  },
  {
   "cell_type": "code",
   "execution_count": 201,
   "metadata": {},
   "outputs": [
    {
     "data": {
      "text/plain": [
       "array([0.        , 0.        , 0.        , 0.        , 0.        ,\n",
       "       0.        , 0.        , 0.04421839, 0.        , 0.        ,\n",
       "       0.        , 0.08527926, 0.        , 0.05675514, 0.29730129,\n",
       "       0.        , 0.        , 0.13024316, 0.        , 0.        ,\n",
       "       0.        , 0.        , 0.        , 0.        , 0.        ])"
      ]
     },
     "execution_count": 201,
     "metadata": {},
     "output_type": "execute_result"
    }
   ],
   "source": [
    "get_user_embedding_median(user_articles_list)"
   ]
  },
  {
   "cell_type": "code",
   "execution_count": 202,
   "metadata": {},
   "outputs": [
    {
     "data": {
      "text/plain": [
       "array([0.07660665, 0.44713375, 0.18263941, 0.02705457, 0.19847934,\n",
       "       0.04425203, 0.10659636, 0.07537932, 0.        , 0.02572888,\n",
       "       0.01980379, 0.33264118, 0.05206987, 0.18386203, 0.75598079,\n",
       "       0.        , 0.09447469, 0.21801607, 0.04772548, 0.        ,\n",
       "       0.02793314, 0.16325556, 0.        , 0.11654248, 0.0456377 ])"
      ]
     },
     "execution_count": 202,
     "metadata": {},
     "output_type": "execute_result"
    }
   ],
   "source": [
    "get_user_embedding_max(user_articles_list)"
   ]
  },
  {
   "cell_type": "markdown",
   "metadata": {},
   "source": [
    "Теперь получим эмбединги для всех пользователей и проверим их качество на конкретной downstream-задаче"
   ]
  },
  {
   "cell_type": "code",
   "execution_count": 233,
   "metadata": {},
   "outputs": [],
   "source": [
    "def all_user_embeddings(users_articles, foo):\n",
    "    user_embeddings = pd.DataFrame([i for i in users_articles.apply(lambda x: foo(x), 1)])\n",
    "    user_embeddings.columns = ['topic_{}'.format(i) for i in range(25)]\n",
    "    user_embeddings['uid'] = users['uid'].values\n",
    "    return user_embeddings[['uid']+['topic_{}'.format(i) for i in range(25)]]"
   ]
  },
  {
   "cell_type": "code",
   "execution_count": 234,
   "metadata": {},
   "outputs": [
    {
     "data": {
      "text/html": [
       "<div>\n",
       "<style scoped>\n",
       "    .dataframe tbody tr th:only-of-type {\n",
       "        vertical-align: middle;\n",
       "    }\n",
       "\n",
       "    .dataframe tbody tr th {\n",
       "        vertical-align: top;\n",
       "    }\n",
       "\n",
       "    .dataframe thead th {\n",
       "        text-align: right;\n",
       "    }\n",
       "</style>\n",
       "<table border=\"1\" class=\"dataframe\">\n",
       "  <thead>\n",
       "    <tr style=\"text-align: right;\">\n",
       "      <th></th>\n",
       "      <th>uid</th>\n",
       "      <th>topic_0</th>\n",
       "      <th>topic_1</th>\n",
       "      <th>topic_2</th>\n",
       "      <th>topic_3</th>\n",
       "      <th>topic_4</th>\n",
       "      <th>topic_5</th>\n",
       "      <th>topic_6</th>\n",
       "      <th>topic_7</th>\n",
       "      <th>topic_8</th>\n",
       "      <th>...</th>\n",
       "      <th>topic_15</th>\n",
       "      <th>topic_16</th>\n",
       "      <th>topic_17</th>\n",
       "      <th>topic_18</th>\n",
       "      <th>topic_19</th>\n",
       "      <th>topic_20</th>\n",
       "      <th>topic_21</th>\n",
       "      <th>topic_22</th>\n",
       "      <th>topic_23</th>\n",
       "      <th>topic_24</th>\n",
       "    </tr>\n",
       "  </thead>\n",
       "  <tbody>\n",
       "    <tr>\n",
       "      <td>0</td>\n",
       "      <td>u105138</td>\n",
       "      <td>0.010225</td>\n",
       "      <td>0.030120</td>\n",
       "      <td>0.000000</td>\n",
       "      <td>0.175204</td>\n",
       "      <td>0.000000</td>\n",
       "      <td>0.068429</td>\n",
       "      <td>0.024882</td>\n",
       "      <td>0.024898</td>\n",
       "      <td>0.018925</td>\n",
       "      <td>...</td>\n",
       "      <td>0.000000</td>\n",
       "      <td>0.036782</td>\n",
       "      <td>0.027235</td>\n",
       "      <td>0.013410</td>\n",
       "      <td>0.012913</td>\n",
       "      <td>0.058688</td>\n",
       "      <td>0.013982</td>\n",
       "      <td>0.022003</td>\n",
       "      <td>0.037853</td>\n",
       "      <td>0.035723</td>\n",
       "    </tr>\n",
       "    <tr>\n",
       "      <td>1</td>\n",
       "      <td>u108690</td>\n",
       "      <td>0.005288</td>\n",
       "      <td>0.072209</td>\n",
       "      <td>0.006760</td>\n",
       "      <td>0.044069</td>\n",
       "      <td>0.003140</td>\n",
       "      <td>0.045069</td>\n",
       "      <td>0.012715</td>\n",
       "      <td>0.032763</td>\n",
       "      <td>0.002476</td>\n",
       "      <td>...</td>\n",
       "      <td>0.000000</td>\n",
       "      <td>0.025615</td>\n",
       "      <td>0.046054</td>\n",
       "      <td>0.008621</td>\n",
       "      <td>0.034991</td>\n",
       "      <td>0.076469</td>\n",
       "      <td>0.004888</td>\n",
       "      <td>0.000000</td>\n",
       "      <td>0.047869</td>\n",
       "      <td>0.000000</td>\n",
       "    </tr>\n",
       "    <tr>\n",
       "      <td>2</td>\n",
       "      <td>u108339</td>\n",
       "      <td>0.004214</td>\n",
       "      <td>0.075422</td>\n",
       "      <td>0.007611</td>\n",
       "      <td>0.086960</td>\n",
       "      <td>0.041278</td>\n",
       "      <td>0.025352</td>\n",
       "      <td>0.043247</td>\n",
       "      <td>0.002748</td>\n",
       "      <td>0.007040</td>\n",
       "      <td>...</td>\n",
       "      <td>0.000000</td>\n",
       "      <td>0.026735</td>\n",
       "      <td>0.048427</td>\n",
       "      <td>0.007973</td>\n",
       "      <td>0.005862</td>\n",
       "      <td>0.000000</td>\n",
       "      <td>0.047346</td>\n",
       "      <td>0.003910</td>\n",
       "      <td>0.009707</td>\n",
       "      <td>0.003874</td>\n",
       "    </tr>\n",
       "    <tr>\n",
       "      <td>3</td>\n",
       "      <td>u101138</td>\n",
       "      <td>0.000000</td>\n",
       "      <td>0.072707</td>\n",
       "      <td>0.015808</td>\n",
       "      <td>0.045383</td>\n",
       "      <td>0.232457</td>\n",
       "      <td>0.000000</td>\n",
       "      <td>0.012038</td>\n",
       "      <td>0.131517</td>\n",
       "      <td>0.002993</td>\n",
       "      <td>...</td>\n",
       "      <td>0.060956</td>\n",
       "      <td>0.041045</td>\n",
       "      <td>0.090525</td>\n",
       "      <td>0.001776</td>\n",
       "      <td>0.000000</td>\n",
       "      <td>0.038551</td>\n",
       "      <td>0.017693</td>\n",
       "      <td>0.008304</td>\n",
       "      <td>0.026864</td>\n",
       "      <td>0.018425</td>\n",
       "    </tr>\n",
       "    <tr>\n",
       "      <td>4</td>\n",
       "      <td>u108248</td>\n",
       "      <td>0.008583</td>\n",
       "      <td>0.062204</td>\n",
       "      <td>0.000000</td>\n",
       "      <td>0.076378</td>\n",
       "      <td>0.002352</td>\n",
       "      <td>0.064759</td>\n",
       "      <td>0.021681</td>\n",
       "      <td>0.014606</td>\n",
       "      <td>0.000000</td>\n",
       "      <td>...</td>\n",
       "      <td>0.000000</td>\n",
       "      <td>0.076790</td>\n",
       "      <td>0.047301</td>\n",
       "      <td>0.007371</td>\n",
       "      <td>0.002651</td>\n",
       "      <td>0.035616</td>\n",
       "      <td>0.027991</td>\n",
       "      <td>0.026323</td>\n",
       "      <td>0.008229</td>\n",
       "      <td>0.000000</td>\n",
       "    </tr>\n",
       "  </tbody>\n",
       "</table>\n",
       "<p>5 rows × 26 columns</p>\n",
       "</div>"
      ],
      "text/plain": [
       "       uid   topic_0   topic_1   topic_2   topic_3   topic_4   topic_5  \\\n",
       "0  u105138  0.010225  0.030120  0.000000  0.175204  0.000000  0.068429   \n",
       "1  u108690  0.005288  0.072209  0.006760  0.044069  0.003140  0.045069   \n",
       "2  u108339  0.004214  0.075422  0.007611  0.086960  0.041278  0.025352   \n",
       "3  u101138  0.000000  0.072707  0.015808  0.045383  0.232457  0.000000   \n",
       "4  u108248  0.008583  0.062204  0.000000  0.076378  0.002352  0.064759   \n",
       "\n",
       "    topic_6   topic_7   topic_8  ...  topic_15  topic_16  topic_17  topic_18  \\\n",
       "0  0.024882  0.024898  0.018925  ...  0.000000  0.036782  0.027235  0.013410   \n",
       "1  0.012715  0.032763  0.002476  ...  0.000000  0.025615  0.046054  0.008621   \n",
       "2  0.043247  0.002748  0.007040  ...  0.000000  0.026735  0.048427  0.007973   \n",
       "3  0.012038  0.131517  0.002993  ...  0.060956  0.041045  0.090525  0.001776   \n",
       "4  0.021681  0.014606  0.000000  ...  0.000000  0.076790  0.047301  0.007371   \n",
       "\n",
       "   topic_19  topic_20  topic_21  topic_22  topic_23  topic_24  \n",
       "0  0.012913  0.058688  0.013982  0.022003  0.037853  0.035723  \n",
       "1  0.034991  0.076469  0.004888  0.000000  0.047869  0.000000  \n",
       "2  0.005862  0.000000  0.047346  0.003910  0.009707  0.003874  \n",
       "3  0.000000  0.038551  0.017693  0.008304  0.026864  0.018425  \n",
       "4  0.002651  0.035616  0.027991  0.026323  0.008229  0.000000  \n",
       "\n",
       "[5 rows x 26 columns]"
      ]
     },
     "execution_count": 234,
     "metadata": {},
     "output_type": "execute_result"
    }
   ],
   "source": [
    "user_embeddings_mean = all_user_embeddings(users['articles'], get_user_embedding_mean)\n",
    "user_embeddings_mean.head()"
   ]
  },
  {
   "cell_type": "code",
   "execution_count": 235,
   "metadata": {},
   "outputs": [
    {
     "data": {
      "text/html": [
       "<div>\n",
       "<style scoped>\n",
       "    .dataframe tbody tr th:only-of-type {\n",
       "        vertical-align: middle;\n",
       "    }\n",
       "\n",
       "    .dataframe tbody tr th {\n",
       "        vertical-align: top;\n",
       "    }\n",
       "\n",
       "    .dataframe thead th {\n",
       "        text-align: right;\n",
       "    }\n",
       "</style>\n",
       "<table border=\"1\" class=\"dataframe\">\n",
       "  <thead>\n",
       "    <tr style=\"text-align: right;\">\n",
       "      <th></th>\n",
       "      <th>uid</th>\n",
       "      <th>topic_0</th>\n",
       "      <th>topic_1</th>\n",
       "      <th>topic_2</th>\n",
       "      <th>topic_3</th>\n",
       "      <th>topic_4</th>\n",
       "      <th>topic_5</th>\n",
       "      <th>topic_6</th>\n",
       "      <th>topic_7</th>\n",
       "      <th>topic_8</th>\n",
       "      <th>...</th>\n",
       "      <th>topic_15</th>\n",
       "      <th>topic_16</th>\n",
       "      <th>topic_17</th>\n",
       "      <th>topic_18</th>\n",
       "      <th>topic_19</th>\n",
       "      <th>topic_20</th>\n",
       "      <th>topic_21</th>\n",
       "      <th>topic_22</th>\n",
       "      <th>topic_23</th>\n",
       "      <th>topic_24</th>\n",
       "    </tr>\n",
       "  </thead>\n",
       "  <tbody>\n",
       "    <tr>\n",
       "      <td>0</td>\n",
       "      <td>u105138</td>\n",
       "      <td>0.000000</td>\n",
       "      <td>0.000000</td>\n",
       "      <td>0.0</td>\n",
       "      <td>0.172172</td>\n",
       "      <td>0.000000</td>\n",
       "      <td>0.018427</td>\n",
       "      <td>0.000000</td>\n",
       "      <td>0.000000</td>\n",
       "      <td>0.0</td>\n",
       "      <td>...</td>\n",
       "      <td>0.000000</td>\n",
       "      <td>0.000000</td>\n",
       "      <td>0.000000</td>\n",
       "      <td>0.0</td>\n",
       "      <td>0.000000</td>\n",
       "      <td>0.010145</td>\n",
       "      <td>0.000000</td>\n",
       "      <td>0.000000</td>\n",
       "      <td>0.000000</td>\n",
       "      <td>0.0</td>\n",
       "    </tr>\n",
       "    <tr>\n",
       "      <td>1</td>\n",
       "      <td>u108690</td>\n",
       "      <td>0.000000</td>\n",
       "      <td>0.051865</td>\n",
       "      <td>0.0</td>\n",
       "      <td>0.031463</td>\n",
       "      <td>0.000000</td>\n",
       "      <td>0.027382</td>\n",
       "      <td>0.008523</td>\n",
       "      <td>0.030230</td>\n",
       "      <td>0.0</td>\n",
       "      <td>...</td>\n",
       "      <td>0.000000</td>\n",
       "      <td>0.000000</td>\n",
       "      <td>0.046248</td>\n",
       "      <td>0.0</td>\n",
       "      <td>0.010802</td>\n",
       "      <td>0.073587</td>\n",
       "      <td>0.000000</td>\n",
       "      <td>0.000000</td>\n",
       "      <td>0.057096</td>\n",
       "      <td>0.0</td>\n",
       "    </tr>\n",
       "    <tr>\n",
       "      <td>2</td>\n",
       "      <td>u108339</td>\n",
       "      <td>0.000000</td>\n",
       "      <td>0.052581</td>\n",
       "      <td>0.0</td>\n",
       "      <td>0.048875</td>\n",
       "      <td>0.010023</td>\n",
       "      <td>0.023946</td>\n",
       "      <td>0.035870</td>\n",
       "      <td>0.000000</td>\n",
       "      <td>0.0</td>\n",
       "      <td>...</td>\n",
       "      <td>0.000000</td>\n",
       "      <td>0.024442</td>\n",
       "      <td>0.029246</td>\n",
       "      <td>0.0</td>\n",
       "      <td>0.000000</td>\n",
       "      <td>0.000000</td>\n",
       "      <td>0.022127</td>\n",
       "      <td>0.000000</td>\n",
       "      <td>0.000000</td>\n",
       "      <td>0.0</td>\n",
       "    </tr>\n",
       "    <tr>\n",
       "      <td>3</td>\n",
       "      <td>u101138</td>\n",
       "      <td>0.000000</td>\n",
       "      <td>0.010132</td>\n",
       "      <td>0.0</td>\n",
       "      <td>0.000000</td>\n",
       "      <td>0.230473</td>\n",
       "      <td>0.000000</td>\n",
       "      <td>0.000000</td>\n",
       "      <td>0.159952</td>\n",
       "      <td>0.0</td>\n",
       "      <td>...</td>\n",
       "      <td>0.045553</td>\n",
       "      <td>0.000000</td>\n",
       "      <td>0.018908</td>\n",
       "      <td>0.0</td>\n",
       "      <td>0.000000</td>\n",
       "      <td>0.015870</td>\n",
       "      <td>0.000000</td>\n",
       "      <td>0.000000</td>\n",
       "      <td>0.000000</td>\n",
       "      <td>0.0</td>\n",
       "    </tr>\n",
       "    <tr>\n",
       "      <td>4</td>\n",
       "      <td>u108248</td>\n",
       "      <td>0.005993</td>\n",
       "      <td>0.056538</td>\n",
       "      <td>0.0</td>\n",
       "      <td>0.016299</td>\n",
       "      <td>0.000000</td>\n",
       "      <td>0.041625</td>\n",
       "      <td>0.018458</td>\n",
       "      <td>0.000000</td>\n",
       "      <td>0.0</td>\n",
       "      <td>...</td>\n",
       "      <td>0.000000</td>\n",
       "      <td>0.074889</td>\n",
       "      <td>0.056091</td>\n",
       "      <td>0.0</td>\n",
       "      <td>0.000000</td>\n",
       "      <td>0.000000</td>\n",
       "      <td>0.018150</td>\n",
       "      <td>0.008134</td>\n",
       "      <td>0.000000</td>\n",
       "      <td>0.0</td>\n",
       "    </tr>\n",
       "  </tbody>\n",
       "</table>\n",
       "<p>5 rows × 26 columns</p>\n",
       "</div>"
      ],
      "text/plain": [
       "       uid   topic_0   topic_1  topic_2   topic_3   topic_4   topic_5  \\\n",
       "0  u105138  0.000000  0.000000      0.0  0.172172  0.000000  0.018427   \n",
       "1  u108690  0.000000  0.051865      0.0  0.031463  0.000000  0.027382   \n",
       "2  u108339  0.000000  0.052581      0.0  0.048875  0.010023  0.023946   \n",
       "3  u101138  0.000000  0.010132      0.0  0.000000  0.230473  0.000000   \n",
       "4  u108248  0.005993  0.056538      0.0  0.016299  0.000000  0.041625   \n",
       "\n",
       "    topic_6   topic_7  topic_8  ...  topic_15  topic_16  topic_17  topic_18  \\\n",
       "0  0.000000  0.000000      0.0  ...  0.000000  0.000000  0.000000       0.0   \n",
       "1  0.008523  0.030230      0.0  ...  0.000000  0.000000  0.046248       0.0   \n",
       "2  0.035870  0.000000      0.0  ...  0.000000  0.024442  0.029246       0.0   \n",
       "3  0.000000  0.159952      0.0  ...  0.045553  0.000000  0.018908       0.0   \n",
       "4  0.018458  0.000000      0.0  ...  0.000000  0.074889  0.056091       0.0   \n",
       "\n",
       "   topic_19  topic_20  topic_21  topic_22  topic_23  topic_24  \n",
       "0  0.000000  0.010145  0.000000  0.000000  0.000000       0.0  \n",
       "1  0.010802  0.073587  0.000000  0.000000  0.057096       0.0  \n",
       "2  0.000000  0.000000  0.022127  0.000000  0.000000       0.0  \n",
       "3  0.000000  0.015870  0.000000  0.000000  0.000000       0.0  \n",
       "4  0.000000  0.000000  0.018150  0.008134  0.000000       0.0  \n",
       "\n",
       "[5 rows x 26 columns]"
      ]
     },
     "execution_count": 235,
     "metadata": {},
     "output_type": "execute_result"
    }
   ],
   "source": [
    "user_embeddings_median = all_user_embeddings(users['articles'], get_user_embedding_median)\n",
    "user_embeddings_median.head()"
   ]
  },
  {
   "cell_type": "code",
   "execution_count": 236,
   "metadata": {},
   "outputs": [
    {
     "data": {
      "text/html": [
       "<div>\n",
       "<style scoped>\n",
       "    .dataframe tbody tr th:only-of-type {\n",
       "        vertical-align: middle;\n",
       "    }\n",
       "\n",
       "    .dataframe tbody tr th {\n",
       "        vertical-align: top;\n",
       "    }\n",
       "\n",
       "    .dataframe thead th {\n",
       "        text-align: right;\n",
       "    }\n",
       "</style>\n",
       "<table border=\"1\" class=\"dataframe\">\n",
       "  <thead>\n",
       "    <tr style=\"text-align: right;\">\n",
       "      <th></th>\n",
       "      <th>uid</th>\n",
       "      <th>topic_0</th>\n",
       "      <th>topic_1</th>\n",
       "      <th>topic_2</th>\n",
       "      <th>topic_3</th>\n",
       "      <th>topic_4</th>\n",
       "      <th>topic_5</th>\n",
       "      <th>topic_6</th>\n",
       "      <th>topic_7</th>\n",
       "      <th>topic_8</th>\n",
       "      <th>...</th>\n",
       "      <th>topic_15</th>\n",
       "      <th>topic_16</th>\n",
       "      <th>topic_17</th>\n",
       "      <th>topic_18</th>\n",
       "      <th>topic_19</th>\n",
       "      <th>topic_20</th>\n",
       "      <th>topic_21</th>\n",
       "      <th>topic_22</th>\n",
       "      <th>topic_23</th>\n",
       "      <th>topic_24</th>\n",
       "    </tr>\n",
       "  </thead>\n",
       "  <tbody>\n",
       "    <tr>\n",
       "      <td>0</td>\n",
       "      <td>u105138</td>\n",
       "      <td>0.061349</td>\n",
       "      <td>0.146922</td>\n",
       "      <td>0.000000</td>\n",
       "      <td>0.346260</td>\n",
       "      <td>0.000000</td>\n",
       "      <td>0.282876</td>\n",
       "      <td>0.136076</td>\n",
       "      <td>0.149388</td>\n",
       "      <td>0.113549</td>\n",
       "      <td>...</td>\n",
       "      <td>0.000000</td>\n",
       "      <td>0.203545</td>\n",
       "      <td>0.103750</td>\n",
       "      <td>0.080460</td>\n",
       "      <td>0.077479</td>\n",
       "      <td>0.229181</td>\n",
       "      <td>0.083890</td>\n",
       "      <td>0.114860</td>\n",
       "      <td>0.118382</td>\n",
       "      <td>0.123518</td>\n",
       "    </tr>\n",
       "    <tr>\n",
       "      <td>1</td>\n",
       "      <td>u108690</td>\n",
       "      <td>0.031730</td>\n",
       "      <td>0.217716</td>\n",
       "      <td>0.040562</td>\n",
       "      <td>0.124824</td>\n",
       "      <td>0.018842</td>\n",
       "      <td>0.170545</td>\n",
       "      <td>0.042133</td>\n",
       "      <td>0.089362</td>\n",
       "      <td>0.014857</td>\n",
       "      <td>...</td>\n",
       "      <td>0.000000</td>\n",
       "      <td>0.122729</td>\n",
       "      <td>0.089322</td>\n",
       "      <td>0.037430</td>\n",
       "      <td>0.132871</td>\n",
       "      <td>0.138075</td>\n",
       "      <td>0.015275</td>\n",
       "      <td>0.000000</td>\n",
       "      <td>0.094387</td>\n",
       "      <td>0.000000</td>\n",
       "    </tr>\n",
       "    <tr>\n",
       "      <td>2</td>\n",
       "      <td>u108339</td>\n",
       "      <td>0.014435</td>\n",
       "      <td>0.212338</td>\n",
       "      <td>0.045664</td>\n",
       "      <td>0.241418</td>\n",
       "      <td>0.199577</td>\n",
       "      <td>0.054131</td>\n",
       "      <td>0.110820</td>\n",
       "      <td>0.016490</td>\n",
       "      <td>0.042240</td>\n",
       "      <td>...</td>\n",
       "      <td>0.000000</td>\n",
       "      <td>0.056205</td>\n",
       "      <td>0.132167</td>\n",
       "      <td>0.027046</td>\n",
       "      <td>0.021364</td>\n",
       "      <td>0.000000</td>\n",
       "      <td>0.151951</td>\n",
       "      <td>0.023459</td>\n",
       "      <td>0.058240</td>\n",
       "      <td>0.023245</td>\n",
       "    </tr>\n",
       "    <tr>\n",
       "      <td>3</td>\n",
       "      <td>u101138</td>\n",
       "      <td>0.000000</td>\n",
       "      <td>0.354380</td>\n",
       "      <td>0.083051</td>\n",
       "      <td>0.272299</td>\n",
       "      <td>0.498017</td>\n",
       "      <td>0.000000</td>\n",
       "      <td>0.072225</td>\n",
       "      <td>0.232653</td>\n",
       "      <td>0.017958</td>\n",
       "      <td>...</td>\n",
       "      <td>0.182782</td>\n",
       "      <td>0.167497</td>\n",
       "      <td>0.266532</td>\n",
       "      <td>0.010659</td>\n",
       "      <td>0.000000</td>\n",
       "      <td>0.121470</td>\n",
       "      <td>0.106155</td>\n",
       "      <td>0.049824</td>\n",
       "      <td>0.115868</td>\n",
       "      <td>0.080343</td>\n",
       "    </tr>\n",
       "    <tr>\n",
       "      <td>4</td>\n",
       "      <td>u108248</td>\n",
       "      <td>0.021461</td>\n",
       "      <td>0.152340</td>\n",
       "      <td>0.000000</td>\n",
       "      <td>0.231886</td>\n",
       "      <td>0.014113</td>\n",
       "      <td>0.144094</td>\n",
       "      <td>0.051168</td>\n",
       "      <td>0.087636</td>\n",
       "      <td>0.000000</td>\n",
       "      <td>...</td>\n",
       "      <td>0.000000</td>\n",
       "      <td>0.195279</td>\n",
       "      <td>0.086605</td>\n",
       "      <td>0.033608</td>\n",
       "      <td>0.015905</td>\n",
       "      <td>0.213696</td>\n",
       "      <td>0.091400</td>\n",
       "      <td>0.122328</td>\n",
       "      <td>0.029038</td>\n",
       "      <td>0.000000</td>\n",
       "    </tr>\n",
       "  </tbody>\n",
       "</table>\n",
       "<p>5 rows × 26 columns</p>\n",
       "</div>"
      ],
      "text/plain": [
       "       uid   topic_0   topic_1   topic_2   topic_3   topic_4   topic_5  \\\n",
       "0  u105138  0.061349  0.146922  0.000000  0.346260  0.000000  0.282876   \n",
       "1  u108690  0.031730  0.217716  0.040562  0.124824  0.018842  0.170545   \n",
       "2  u108339  0.014435  0.212338  0.045664  0.241418  0.199577  0.054131   \n",
       "3  u101138  0.000000  0.354380  0.083051  0.272299  0.498017  0.000000   \n",
       "4  u108248  0.021461  0.152340  0.000000  0.231886  0.014113  0.144094   \n",
       "\n",
       "    topic_6   topic_7   topic_8  ...  topic_15  topic_16  topic_17  topic_18  \\\n",
       "0  0.136076  0.149388  0.113549  ...  0.000000  0.203545  0.103750  0.080460   \n",
       "1  0.042133  0.089362  0.014857  ...  0.000000  0.122729  0.089322  0.037430   \n",
       "2  0.110820  0.016490  0.042240  ...  0.000000  0.056205  0.132167  0.027046   \n",
       "3  0.072225  0.232653  0.017958  ...  0.182782  0.167497  0.266532  0.010659   \n",
       "4  0.051168  0.087636  0.000000  ...  0.000000  0.195279  0.086605  0.033608   \n",
       "\n",
       "   topic_19  topic_20  topic_21  topic_22  topic_23  topic_24  \n",
       "0  0.077479  0.229181  0.083890  0.114860  0.118382  0.123518  \n",
       "1  0.132871  0.138075  0.015275  0.000000  0.094387  0.000000  \n",
       "2  0.021364  0.000000  0.151951  0.023459  0.058240  0.023245  \n",
       "3  0.000000  0.121470  0.106155  0.049824  0.115868  0.080343  \n",
       "4  0.015905  0.213696  0.091400  0.122328  0.029038  0.000000  \n",
       "\n",
       "[5 rows x 26 columns]"
      ]
     },
     "execution_count": 236,
     "metadata": {},
     "output_type": "execute_result"
    }
   ],
   "source": [
    "user_embeddings_max = all_user_embeddings(users['articles'], get_user_embedding_max)\n",
    "user_embeddings_max.head()"
   ]
  },
  {
   "cell_type": "markdown",
   "metadata": {},
   "source": [
    "Датасет готов - можно попробовать обучить модель. Загрузим нашу разметку"
   ]
  },
  {
   "cell_type": "code",
   "execution_count": 208,
   "metadata": {},
   "outputs": [
    {
     "data": {
      "text/html": [
       "<div>\n",
       "<style scoped>\n",
       "    .dataframe tbody tr th:only-of-type {\n",
       "        vertical-align: middle;\n",
       "    }\n",
       "\n",
       "    .dataframe tbody tr th {\n",
       "        vertical-align: top;\n",
       "    }\n",
       "\n",
       "    .dataframe thead th {\n",
       "        text-align: right;\n",
       "    }\n",
       "</style>\n",
       "<table border=\"1\" class=\"dataframe\">\n",
       "  <thead>\n",
       "    <tr style=\"text-align: right;\">\n",
       "      <th></th>\n",
       "      <th>uid</th>\n",
       "      <th>churn</th>\n",
       "    </tr>\n",
       "  </thead>\n",
       "  <tbody>\n",
       "    <tr>\n",
       "      <td>0</td>\n",
       "      <td>u107120</td>\n",
       "      <td>0</td>\n",
       "    </tr>\n",
       "    <tr>\n",
       "      <td>1</td>\n",
       "      <td>u102277</td>\n",
       "      <td>0</td>\n",
       "    </tr>\n",
       "    <tr>\n",
       "      <td>2</td>\n",
       "      <td>u102444</td>\n",
       "      <td>0</td>\n",
       "    </tr>\n",
       "    <tr>\n",
       "      <td>3</td>\n",
       "      <td>u103439</td>\n",
       "      <td>0</td>\n",
       "    </tr>\n",
       "    <tr>\n",
       "      <td>4</td>\n",
       "      <td>u104300</td>\n",
       "      <td>0</td>\n",
       "    </tr>\n",
       "  </tbody>\n",
       "</table>\n",
       "</div>"
      ],
      "text/plain": [
       "       uid  churn\n",
       "0  u107120      0\n",
       "1  u102277      0\n",
       "2  u102444      0\n",
       "3  u103439      0\n",
       "4  u104300      0"
      ]
     },
     "execution_count": 208,
     "metadata": {},
     "output_type": "execute_result"
    }
   ],
   "source": [
    "target = pd.read_csv(\"data/webinar_2/users_churn.csv\")\n",
    "target.head()"
   ]
  },
  {
   "cell_type": "code",
   "execution_count": 237,
   "metadata": {},
   "outputs": [],
   "source": [
    "X_mean = pd.merge(user_embeddings_mean, target, 'left')\n",
    "X_median = pd.merge(user_embeddings_median, target, 'left')\n",
    "X_max = pd.merge(user_embeddings_max, target, 'left')"
   ]
  },
  {
   "cell_type": "code",
   "execution_count": 238,
   "metadata": {},
   "outputs": [
    {
     "data": {
      "text/html": [
       "<div>\n",
       "<style scoped>\n",
       "    .dataframe tbody tr th:only-of-type {\n",
       "        vertical-align: middle;\n",
       "    }\n",
       "\n",
       "    .dataframe tbody tr th {\n",
       "        vertical-align: top;\n",
       "    }\n",
       "\n",
       "    .dataframe thead th {\n",
       "        text-align: right;\n",
       "    }\n",
       "</style>\n",
       "<table border=\"1\" class=\"dataframe\">\n",
       "  <thead>\n",
       "    <tr style=\"text-align: right;\">\n",
       "      <th></th>\n",
       "      <th>uid</th>\n",
       "      <th>topic_0</th>\n",
       "      <th>topic_1</th>\n",
       "      <th>topic_2</th>\n",
       "      <th>topic_3</th>\n",
       "      <th>topic_4</th>\n",
       "      <th>topic_5</th>\n",
       "      <th>topic_6</th>\n",
       "      <th>topic_7</th>\n",
       "      <th>topic_8</th>\n",
       "      <th>...</th>\n",
       "      <th>topic_16</th>\n",
       "      <th>topic_17</th>\n",
       "      <th>topic_18</th>\n",
       "      <th>topic_19</th>\n",
       "      <th>topic_20</th>\n",
       "      <th>topic_21</th>\n",
       "      <th>topic_22</th>\n",
       "      <th>topic_23</th>\n",
       "      <th>topic_24</th>\n",
       "      <th>churn</th>\n",
       "    </tr>\n",
       "  </thead>\n",
       "  <tbody>\n",
       "    <tr>\n",
       "      <td>0</td>\n",
       "      <td>u105138</td>\n",
       "      <td>0.010225</td>\n",
       "      <td>0.030120</td>\n",
       "      <td>0.000000</td>\n",
       "      <td>0.175204</td>\n",
       "      <td>0.000000</td>\n",
       "      <td>0.068429</td>\n",
       "      <td>0.024882</td>\n",
       "      <td>0.024898</td>\n",
       "      <td>0.018925</td>\n",
       "      <td>...</td>\n",
       "      <td>0.036782</td>\n",
       "      <td>0.027235</td>\n",
       "      <td>0.013410</td>\n",
       "      <td>0.012913</td>\n",
       "      <td>0.058688</td>\n",
       "      <td>0.013982</td>\n",
       "      <td>0.022003</td>\n",
       "      <td>0.037853</td>\n",
       "      <td>0.035723</td>\n",
       "      <td>0</td>\n",
       "    </tr>\n",
       "    <tr>\n",
       "      <td>1</td>\n",
       "      <td>u108690</td>\n",
       "      <td>0.005288</td>\n",
       "      <td>0.072209</td>\n",
       "      <td>0.006760</td>\n",
       "      <td>0.044069</td>\n",
       "      <td>0.003140</td>\n",
       "      <td>0.045069</td>\n",
       "      <td>0.012715</td>\n",
       "      <td>0.032763</td>\n",
       "      <td>0.002476</td>\n",
       "      <td>...</td>\n",
       "      <td>0.025615</td>\n",
       "      <td>0.046054</td>\n",
       "      <td>0.008621</td>\n",
       "      <td>0.034991</td>\n",
       "      <td>0.076469</td>\n",
       "      <td>0.004888</td>\n",
       "      <td>0.000000</td>\n",
       "      <td>0.047869</td>\n",
       "      <td>0.000000</td>\n",
       "      <td>1</td>\n",
       "    </tr>\n",
       "    <tr>\n",
       "      <td>2</td>\n",
       "      <td>u108339</td>\n",
       "      <td>0.004214</td>\n",
       "      <td>0.075422</td>\n",
       "      <td>0.007611</td>\n",
       "      <td>0.086960</td>\n",
       "      <td>0.041278</td>\n",
       "      <td>0.025352</td>\n",
       "      <td>0.043247</td>\n",
       "      <td>0.002748</td>\n",
       "      <td>0.007040</td>\n",
       "      <td>...</td>\n",
       "      <td>0.026735</td>\n",
       "      <td>0.048427</td>\n",
       "      <td>0.007973</td>\n",
       "      <td>0.005862</td>\n",
       "      <td>0.000000</td>\n",
       "      <td>0.047346</td>\n",
       "      <td>0.003910</td>\n",
       "      <td>0.009707</td>\n",
       "      <td>0.003874</td>\n",
       "      <td>1</td>\n",
       "    </tr>\n",
       "    <tr>\n",
       "      <td>3</td>\n",
       "      <td>u101138</td>\n",
       "      <td>0.000000</td>\n",
       "      <td>0.072707</td>\n",
       "      <td>0.015808</td>\n",
       "      <td>0.045383</td>\n",
       "      <td>0.232457</td>\n",
       "      <td>0.000000</td>\n",
       "      <td>0.012038</td>\n",
       "      <td>0.131517</td>\n",
       "      <td>0.002993</td>\n",
       "      <td>...</td>\n",
       "      <td>0.041045</td>\n",
       "      <td>0.090525</td>\n",
       "      <td>0.001776</td>\n",
       "      <td>0.000000</td>\n",
       "      <td>0.038551</td>\n",
       "      <td>0.017693</td>\n",
       "      <td>0.008304</td>\n",
       "      <td>0.026864</td>\n",
       "      <td>0.018425</td>\n",
       "      <td>0</td>\n",
       "    </tr>\n",
       "    <tr>\n",
       "      <td>4</td>\n",
       "      <td>u108248</td>\n",
       "      <td>0.008583</td>\n",
       "      <td>0.062204</td>\n",
       "      <td>0.000000</td>\n",
       "      <td>0.076378</td>\n",
       "      <td>0.002352</td>\n",
       "      <td>0.064759</td>\n",
       "      <td>0.021681</td>\n",
       "      <td>0.014606</td>\n",
       "      <td>0.000000</td>\n",
       "      <td>...</td>\n",
       "      <td>0.076790</td>\n",
       "      <td>0.047301</td>\n",
       "      <td>0.007371</td>\n",
       "      <td>0.002651</td>\n",
       "      <td>0.035616</td>\n",
       "      <td>0.027991</td>\n",
       "      <td>0.026323</td>\n",
       "      <td>0.008229</td>\n",
       "      <td>0.000000</td>\n",
       "      <td>1</td>\n",
       "    </tr>\n",
       "  </tbody>\n",
       "</table>\n",
       "<p>5 rows × 27 columns</p>\n",
       "</div>"
      ],
      "text/plain": [
       "       uid   topic_0   topic_1   topic_2   topic_3   topic_4   topic_5  \\\n",
       "0  u105138  0.010225  0.030120  0.000000  0.175204  0.000000  0.068429   \n",
       "1  u108690  0.005288  0.072209  0.006760  0.044069  0.003140  0.045069   \n",
       "2  u108339  0.004214  0.075422  0.007611  0.086960  0.041278  0.025352   \n",
       "3  u101138  0.000000  0.072707  0.015808  0.045383  0.232457  0.000000   \n",
       "4  u108248  0.008583  0.062204  0.000000  0.076378  0.002352  0.064759   \n",
       "\n",
       "    topic_6   topic_7   topic_8  ...  topic_16  topic_17  topic_18  topic_19  \\\n",
       "0  0.024882  0.024898  0.018925  ...  0.036782  0.027235  0.013410  0.012913   \n",
       "1  0.012715  0.032763  0.002476  ...  0.025615  0.046054  0.008621  0.034991   \n",
       "2  0.043247  0.002748  0.007040  ...  0.026735  0.048427  0.007973  0.005862   \n",
       "3  0.012038  0.131517  0.002993  ...  0.041045  0.090525  0.001776  0.000000   \n",
       "4  0.021681  0.014606  0.000000  ...  0.076790  0.047301  0.007371  0.002651   \n",
       "\n",
       "   topic_20  topic_21  topic_22  topic_23  topic_24  churn  \n",
       "0  0.058688  0.013982  0.022003  0.037853  0.035723      0  \n",
       "1  0.076469  0.004888  0.000000  0.047869  0.000000      1  \n",
       "2  0.000000  0.047346  0.003910  0.009707  0.003874      1  \n",
       "3  0.038551  0.017693  0.008304  0.026864  0.018425      0  \n",
       "4  0.035616  0.027991  0.026323  0.008229  0.000000      1  \n",
       "\n",
       "[5 rows x 27 columns]"
      ]
     },
     "execution_count": 238,
     "metadata": {},
     "output_type": "execute_result"
    }
   ],
   "source": [
    "X_mean.head()"
   ]
  },
  {
   "cell_type": "code",
   "execution_count": 239,
   "metadata": {},
   "outputs": [
    {
     "data": {
      "text/html": [
       "<div>\n",
       "<style scoped>\n",
       "    .dataframe tbody tr th:only-of-type {\n",
       "        vertical-align: middle;\n",
       "    }\n",
       "\n",
       "    .dataframe tbody tr th {\n",
       "        vertical-align: top;\n",
       "    }\n",
       "\n",
       "    .dataframe thead th {\n",
       "        text-align: right;\n",
       "    }\n",
       "</style>\n",
       "<table border=\"1\" class=\"dataframe\">\n",
       "  <thead>\n",
       "    <tr style=\"text-align: right;\">\n",
       "      <th></th>\n",
       "      <th>uid</th>\n",
       "      <th>topic_0</th>\n",
       "      <th>topic_1</th>\n",
       "      <th>topic_2</th>\n",
       "      <th>topic_3</th>\n",
       "      <th>topic_4</th>\n",
       "      <th>topic_5</th>\n",
       "      <th>topic_6</th>\n",
       "      <th>topic_7</th>\n",
       "      <th>topic_8</th>\n",
       "      <th>...</th>\n",
       "      <th>topic_16</th>\n",
       "      <th>topic_17</th>\n",
       "      <th>topic_18</th>\n",
       "      <th>topic_19</th>\n",
       "      <th>topic_20</th>\n",
       "      <th>topic_21</th>\n",
       "      <th>topic_22</th>\n",
       "      <th>topic_23</th>\n",
       "      <th>topic_24</th>\n",
       "      <th>churn</th>\n",
       "    </tr>\n",
       "  </thead>\n",
       "  <tbody>\n",
       "    <tr>\n",
       "      <td>0</td>\n",
       "      <td>u105138</td>\n",
       "      <td>0.000000</td>\n",
       "      <td>0.000000</td>\n",
       "      <td>0.0</td>\n",
       "      <td>0.172172</td>\n",
       "      <td>0.000000</td>\n",
       "      <td>0.018427</td>\n",
       "      <td>0.000000</td>\n",
       "      <td>0.000000</td>\n",
       "      <td>0.0</td>\n",
       "      <td>...</td>\n",
       "      <td>0.000000</td>\n",
       "      <td>0.000000</td>\n",
       "      <td>0.0</td>\n",
       "      <td>0.000000</td>\n",
       "      <td>0.010145</td>\n",
       "      <td>0.000000</td>\n",
       "      <td>0.000000</td>\n",
       "      <td>0.000000</td>\n",
       "      <td>0.0</td>\n",
       "      <td>0</td>\n",
       "    </tr>\n",
       "    <tr>\n",
       "      <td>1</td>\n",
       "      <td>u108690</td>\n",
       "      <td>0.000000</td>\n",
       "      <td>0.051865</td>\n",
       "      <td>0.0</td>\n",
       "      <td>0.031463</td>\n",
       "      <td>0.000000</td>\n",
       "      <td>0.027382</td>\n",
       "      <td>0.008523</td>\n",
       "      <td>0.030230</td>\n",
       "      <td>0.0</td>\n",
       "      <td>...</td>\n",
       "      <td>0.000000</td>\n",
       "      <td>0.046248</td>\n",
       "      <td>0.0</td>\n",
       "      <td>0.010802</td>\n",
       "      <td>0.073587</td>\n",
       "      <td>0.000000</td>\n",
       "      <td>0.000000</td>\n",
       "      <td>0.057096</td>\n",
       "      <td>0.0</td>\n",
       "      <td>1</td>\n",
       "    </tr>\n",
       "    <tr>\n",
       "      <td>2</td>\n",
       "      <td>u108339</td>\n",
       "      <td>0.000000</td>\n",
       "      <td>0.052581</td>\n",
       "      <td>0.0</td>\n",
       "      <td>0.048875</td>\n",
       "      <td>0.010023</td>\n",
       "      <td>0.023946</td>\n",
       "      <td>0.035870</td>\n",
       "      <td>0.000000</td>\n",
       "      <td>0.0</td>\n",
       "      <td>...</td>\n",
       "      <td>0.024442</td>\n",
       "      <td>0.029246</td>\n",
       "      <td>0.0</td>\n",
       "      <td>0.000000</td>\n",
       "      <td>0.000000</td>\n",
       "      <td>0.022127</td>\n",
       "      <td>0.000000</td>\n",
       "      <td>0.000000</td>\n",
       "      <td>0.0</td>\n",
       "      <td>1</td>\n",
       "    </tr>\n",
       "    <tr>\n",
       "      <td>3</td>\n",
       "      <td>u101138</td>\n",
       "      <td>0.000000</td>\n",
       "      <td>0.010132</td>\n",
       "      <td>0.0</td>\n",
       "      <td>0.000000</td>\n",
       "      <td>0.230473</td>\n",
       "      <td>0.000000</td>\n",
       "      <td>0.000000</td>\n",
       "      <td>0.159952</td>\n",
       "      <td>0.0</td>\n",
       "      <td>...</td>\n",
       "      <td>0.000000</td>\n",
       "      <td>0.018908</td>\n",
       "      <td>0.0</td>\n",
       "      <td>0.000000</td>\n",
       "      <td>0.015870</td>\n",
       "      <td>0.000000</td>\n",
       "      <td>0.000000</td>\n",
       "      <td>0.000000</td>\n",
       "      <td>0.0</td>\n",
       "      <td>0</td>\n",
       "    </tr>\n",
       "    <tr>\n",
       "      <td>4</td>\n",
       "      <td>u108248</td>\n",
       "      <td>0.005993</td>\n",
       "      <td>0.056538</td>\n",
       "      <td>0.0</td>\n",
       "      <td>0.016299</td>\n",
       "      <td>0.000000</td>\n",
       "      <td>0.041625</td>\n",
       "      <td>0.018458</td>\n",
       "      <td>0.000000</td>\n",
       "      <td>0.0</td>\n",
       "      <td>...</td>\n",
       "      <td>0.074889</td>\n",
       "      <td>0.056091</td>\n",
       "      <td>0.0</td>\n",
       "      <td>0.000000</td>\n",
       "      <td>0.000000</td>\n",
       "      <td>0.018150</td>\n",
       "      <td>0.008134</td>\n",
       "      <td>0.000000</td>\n",
       "      <td>0.0</td>\n",
       "      <td>1</td>\n",
       "    </tr>\n",
       "  </tbody>\n",
       "</table>\n",
       "<p>5 rows × 27 columns</p>\n",
       "</div>"
      ],
      "text/plain": [
       "       uid   topic_0   topic_1  topic_2   topic_3   topic_4   topic_5  \\\n",
       "0  u105138  0.000000  0.000000      0.0  0.172172  0.000000  0.018427   \n",
       "1  u108690  0.000000  0.051865      0.0  0.031463  0.000000  0.027382   \n",
       "2  u108339  0.000000  0.052581      0.0  0.048875  0.010023  0.023946   \n",
       "3  u101138  0.000000  0.010132      0.0  0.000000  0.230473  0.000000   \n",
       "4  u108248  0.005993  0.056538      0.0  0.016299  0.000000  0.041625   \n",
       "\n",
       "    topic_6   topic_7  topic_8  ...  topic_16  topic_17  topic_18  topic_19  \\\n",
       "0  0.000000  0.000000      0.0  ...  0.000000  0.000000       0.0  0.000000   \n",
       "1  0.008523  0.030230      0.0  ...  0.000000  0.046248       0.0  0.010802   \n",
       "2  0.035870  0.000000      0.0  ...  0.024442  0.029246       0.0  0.000000   \n",
       "3  0.000000  0.159952      0.0  ...  0.000000  0.018908       0.0  0.000000   \n",
       "4  0.018458  0.000000      0.0  ...  0.074889  0.056091       0.0  0.000000   \n",
       "\n",
       "   topic_20  topic_21  topic_22  topic_23  topic_24  churn  \n",
       "0  0.010145  0.000000  0.000000  0.000000       0.0      0  \n",
       "1  0.073587  0.000000  0.000000  0.057096       0.0      1  \n",
       "2  0.000000  0.022127  0.000000  0.000000       0.0      1  \n",
       "3  0.015870  0.000000  0.000000  0.000000       0.0      0  \n",
       "4  0.000000  0.018150  0.008134  0.000000       0.0      1  \n",
       "\n",
       "[5 rows x 27 columns]"
      ]
     },
     "execution_count": 239,
     "metadata": {},
     "output_type": "execute_result"
    }
   ],
   "source": [
    "X_median.head()"
   ]
  },
  {
   "cell_type": "code",
   "execution_count": 240,
   "metadata": {},
   "outputs": [
    {
     "data": {
      "text/html": [
       "<div>\n",
       "<style scoped>\n",
       "    .dataframe tbody tr th:only-of-type {\n",
       "        vertical-align: middle;\n",
       "    }\n",
       "\n",
       "    .dataframe tbody tr th {\n",
       "        vertical-align: top;\n",
       "    }\n",
       "\n",
       "    .dataframe thead th {\n",
       "        text-align: right;\n",
       "    }\n",
       "</style>\n",
       "<table border=\"1\" class=\"dataframe\">\n",
       "  <thead>\n",
       "    <tr style=\"text-align: right;\">\n",
       "      <th></th>\n",
       "      <th>uid</th>\n",
       "      <th>topic_0</th>\n",
       "      <th>topic_1</th>\n",
       "      <th>topic_2</th>\n",
       "      <th>topic_3</th>\n",
       "      <th>topic_4</th>\n",
       "      <th>topic_5</th>\n",
       "      <th>topic_6</th>\n",
       "      <th>topic_7</th>\n",
       "      <th>topic_8</th>\n",
       "      <th>...</th>\n",
       "      <th>topic_16</th>\n",
       "      <th>topic_17</th>\n",
       "      <th>topic_18</th>\n",
       "      <th>topic_19</th>\n",
       "      <th>topic_20</th>\n",
       "      <th>topic_21</th>\n",
       "      <th>topic_22</th>\n",
       "      <th>topic_23</th>\n",
       "      <th>topic_24</th>\n",
       "      <th>churn</th>\n",
       "    </tr>\n",
       "  </thead>\n",
       "  <tbody>\n",
       "    <tr>\n",
       "      <td>0</td>\n",
       "      <td>u105138</td>\n",
       "      <td>0.061349</td>\n",
       "      <td>0.146922</td>\n",
       "      <td>0.000000</td>\n",
       "      <td>0.346260</td>\n",
       "      <td>0.000000</td>\n",
       "      <td>0.282876</td>\n",
       "      <td>0.136076</td>\n",
       "      <td>0.149388</td>\n",
       "      <td>0.113549</td>\n",
       "      <td>...</td>\n",
       "      <td>0.203545</td>\n",
       "      <td>0.103750</td>\n",
       "      <td>0.080460</td>\n",
       "      <td>0.077479</td>\n",
       "      <td>0.229181</td>\n",
       "      <td>0.083890</td>\n",
       "      <td>0.114860</td>\n",
       "      <td>0.118382</td>\n",
       "      <td>0.123518</td>\n",
       "      <td>0</td>\n",
       "    </tr>\n",
       "    <tr>\n",
       "      <td>1</td>\n",
       "      <td>u108690</td>\n",
       "      <td>0.031730</td>\n",
       "      <td>0.217716</td>\n",
       "      <td>0.040562</td>\n",
       "      <td>0.124824</td>\n",
       "      <td>0.018842</td>\n",
       "      <td>0.170545</td>\n",
       "      <td>0.042133</td>\n",
       "      <td>0.089362</td>\n",
       "      <td>0.014857</td>\n",
       "      <td>...</td>\n",
       "      <td>0.122729</td>\n",
       "      <td>0.089322</td>\n",
       "      <td>0.037430</td>\n",
       "      <td>0.132871</td>\n",
       "      <td>0.138075</td>\n",
       "      <td>0.015275</td>\n",
       "      <td>0.000000</td>\n",
       "      <td>0.094387</td>\n",
       "      <td>0.000000</td>\n",
       "      <td>1</td>\n",
       "    </tr>\n",
       "    <tr>\n",
       "      <td>2</td>\n",
       "      <td>u108339</td>\n",
       "      <td>0.014435</td>\n",
       "      <td>0.212338</td>\n",
       "      <td>0.045664</td>\n",
       "      <td>0.241418</td>\n",
       "      <td>0.199577</td>\n",
       "      <td>0.054131</td>\n",
       "      <td>0.110820</td>\n",
       "      <td>0.016490</td>\n",
       "      <td>0.042240</td>\n",
       "      <td>...</td>\n",
       "      <td>0.056205</td>\n",
       "      <td>0.132167</td>\n",
       "      <td>0.027046</td>\n",
       "      <td>0.021364</td>\n",
       "      <td>0.000000</td>\n",
       "      <td>0.151951</td>\n",
       "      <td>0.023459</td>\n",
       "      <td>0.058240</td>\n",
       "      <td>0.023245</td>\n",
       "      <td>1</td>\n",
       "    </tr>\n",
       "    <tr>\n",
       "      <td>3</td>\n",
       "      <td>u101138</td>\n",
       "      <td>0.000000</td>\n",
       "      <td>0.354380</td>\n",
       "      <td>0.083051</td>\n",
       "      <td>0.272299</td>\n",
       "      <td>0.498017</td>\n",
       "      <td>0.000000</td>\n",
       "      <td>0.072225</td>\n",
       "      <td>0.232653</td>\n",
       "      <td>0.017958</td>\n",
       "      <td>...</td>\n",
       "      <td>0.167497</td>\n",
       "      <td>0.266532</td>\n",
       "      <td>0.010659</td>\n",
       "      <td>0.000000</td>\n",
       "      <td>0.121470</td>\n",
       "      <td>0.106155</td>\n",
       "      <td>0.049824</td>\n",
       "      <td>0.115868</td>\n",
       "      <td>0.080343</td>\n",
       "      <td>0</td>\n",
       "    </tr>\n",
       "    <tr>\n",
       "      <td>4</td>\n",
       "      <td>u108248</td>\n",
       "      <td>0.021461</td>\n",
       "      <td>0.152340</td>\n",
       "      <td>0.000000</td>\n",
       "      <td>0.231886</td>\n",
       "      <td>0.014113</td>\n",
       "      <td>0.144094</td>\n",
       "      <td>0.051168</td>\n",
       "      <td>0.087636</td>\n",
       "      <td>0.000000</td>\n",
       "      <td>...</td>\n",
       "      <td>0.195279</td>\n",
       "      <td>0.086605</td>\n",
       "      <td>0.033608</td>\n",
       "      <td>0.015905</td>\n",
       "      <td>0.213696</td>\n",
       "      <td>0.091400</td>\n",
       "      <td>0.122328</td>\n",
       "      <td>0.029038</td>\n",
       "      <td>0.000000</td>\n",
       "      <td>1</td>\n",
       "    </tr>\n",
       "  </tbody>\n",
       "</table>\n",
       "<p>5 rows × 27 columns</p>\n",
       "</div>"
      ],
      "text/plain": [
       "       uid   topic_0   topic_1   topic_2   topic_3   topic_4   topic_5  \\\n",
       "0  u105138  0.061349  0.146922  0.000000  0.346260  0.000000  0.282876   \n",
       "1  u108690  0.031730  0.217716  0.040562  0.124824  0.018842  0.170545   \n",
       "2  u108339  0.014435  0.212338  0.045664  0.241418  0.199577  0.054131   \n",
       "3  u101138  0.000000  0.354380  0.083051  0.272299  0.498017  0.000000   \n",
       "4  u108248  0.021461  0.152340  0.000000  0.231886  0.014113  0.144094   \n",
       "\n",
       "    topic_6   topic_7   topic_8  ...  topic_16  topic_17  topic_18  topic_19  \\\n",
       "0  0.136076  0.149388  0.113549  ...  0.203545  0.103750  0.080460  0.077479   \n",
       "1  0.042133  0.089362  0.014857  ...  0.122729  0.089322  0.037430  0.132871   \n",
       "2  0.110820  0.016490  0.042240  ...  0.056205  0.132167  0.027046  0.021364   \n",
       "3  0.072225  0.232653  0.017958  ...  0.167497  0.266532  0.010659  0.000000   \n",
       "4  0.051168  0.087636  0.000000  ...  0.195279  0.086605  0.033608  0.015905   \n",
       "\n",
       "   topic_20  topic_21  topic_22  topic_23  topic_24  churn  \n",
       "0  0.229181  0.083890  0.114860  0.118382  0.123518      0  \n",
       "1  0.138075  0.015275  0.000000  0.094387  0.000000      1  \n",
       "2  0.000000  0.151951  0.023459  0.058240  0.023245      1  \n",
       "3  0.121470  0.106155  0.049824  0.115868  0.080343      0  \n",
       "4  0.213696  0.091400  0.122328  0.029038  0.000000      1  \n",
       "\n",
       "[5 rows x 27 columns]"
      ]
     },
     "execution_count": 240,
     "metadata": {},
     "output_type": "execute_result"
    }
   ],
   "source": [
    "X_max.head()"
   ]
  },
  {
   "cell_type": "code",
   "execution_count": 223,
   "metadata": {},
   "outputs": [],
   "source": [
    "from sklearn.linear_model import LogisticRegression\n",
    "from sklearn.model_selection import train_test_split\n",
    "import itertools\n",
    "\n",
    "import matplotlib.pyplot as plt\n",
    "\n",
    "%matplotlib inline"
   ]
  },
  {
   "cell_type": "code",
   "execution_count": 256,
   "metadata": {},
   "outputs": [],
   "source": [
    "def logreg_fit_predict(df):\n",
    "    #разделим данные на train/test\n",
    "    X_train, X_test, y_train, y_test = train_test_split(df[['topic_{}'.format(i) for i in range(25)]],\n",
    "                                                        df['churn'], random_state=0)\n",
    "    logreg = LogisticRegression()\n",
    "    #обучим \n",
    "    logreg.fit(X_train, y_train)\n",
    "    return y_test, logreg.predict_proba(X_test)[:, 1]"
   ]
  },
  {
   "cell_type": "code",
   "execution_count": 262,
   "metadata": {},
   "outputs": [
    {
     "data": {
      "text/plain": [
       "array([0.12678753, 0.08633318, 0.36922067, 0.16519212, 0.04898362,\n",
       "       0.03221907, 0.05974109, 0.08027787, 0.05034139, 0.11851574])"
      ]
     },
     "execution_count": 262,
     "metadata": {},
     "output_type": "execute_result"
    }
   ],
   "source": [
    "#наши прогнозы для тестовой выборки\n",
    "y_test, preds_mean = logreg_fit_predict(X_mean)\n",
    "preds_mean[:10]"
   ]
  },
  {
   "cell_type": "code",
   "execution_count": 258,
   "metadata": {},
   "outputs": [
    {
     "data": {
      "text/plain": [
       "array([0.14963406, 0.02394853, 0.48955752, 0.16978536, 0.04285818,\n",
       "       0.06584305, 0.04169929, 0.01603753, 0.04471383, 0.07767034])"
      ]
     },
     "execution_count": 258,
     "metadata": {},
     "output_type": "execute_result"
    }
   ],
   "source": [
    "#наши прогнозы для тестовой выборки\n",
    "y_test, preds_median = logreg_fit_predict(X_median)\n",
    "preds_median[:10]"
   ]
  },
  {
   "cell_type": "code",
   "execution_count": 259,
   "metadata": {},
   "outputs": [
    {
     "data": {
      "text/plain": [
       "array([0.06214529, 0.00247846, 0.65494008, 0.17856156, 0.00202604,\n",
       "       0.00366829, 0.07097875, 0.00186695, 0.00523257, 0.24034718])"
      ]
     },
     "execution_count": 259,
     "metadata": {},
     "output_type": "execute_result"
    }
   ],
   "source": [
    "#наши прогнозы для тестовой выборки\n",
    "y_test, preds_max = logreg_fit_predict(X_max)\n",
    "preds_max[:10]"
   ]
  },
  {
   "cell_type": "code",
   "execution_count": 218,
   "metadata": {},
   "outputs": [],
   "source": [
    "from sklearn.metrics import f1_score, roc_auc_score, precision_score, classification_report, precision_recall_curve, confusion_matrix"
   ]
  },
  {
   "cell_type": "markdown",
   "metadata": {},
   "source": [
    "### Рассчитаем Precision, Recall, F_score"
   ]
  },
  {
   "cell_type": "code",
   "execution_count": 270,
   "metadata": {},
   "outputs": [
    {
     "name": "stdout",
     "output_type": "stream",
     "text": [
      "Best Threshold_mean=0.260054, F-Score_mean=0.662, Precision_mean=0.619, Recall_mean=0.710\n"
     ]
    }
   ],
   "source": [
    "precision_mean, recall_mean, thresholds_mean = precision_recall_curve(y_test, preds_mean)\n",
    "fscore_mean = (2 * precision_mean * recall_mean) / (precision_mean + recall_mean)\n",
    "# locate the index of the largest f score\n",
    "ix_mean = np.argmax(fscore_mean)\n",
    "print('Best Threshold_mean=%f, F-Score_mean=%.3f, Precision_mean=%.3f, Recall_mean=%.3f' % (thresholds_mean[ix_mean], \n",
    "                                                                                            fscore_mean[ix_mean],\n",
    "                                                                                            precision_mean[ix_mean],\n",
    "                                                                                            recall_mean[ix_mean]))"
   ]
  },
  {
   "cell_type": "code",
   "execution_count": 271,
   "metadata": {},
   "outputs": [
    {
     "name": "stdout",
     "output_type": "stream",
     "text": [
      "Best Threshold_median=0.237772, F-Score_median=0.765, Precision_median=0.674, Recall_median=0.886\n"
     ]
    }
   ],
   "source": [
    "precision_median, recall_median, thresholds_median = precision_recall_curve(y_test, preds_median)\n",
    "fscore_median = (2 * precision_median * recall_median) / (precision_median + recall_median)\n",
    "# locate the index of the largest f score\n",
    "ix_median = np.argmax(fscore_median)\n",
    "print('Best Threshold_median=%f, F-Score_median=%.3f, Precision_median=%.3f, Recall_median=%.3f' % (thresholds_median[ix_median], \n",
    "                                                                                                    fscore_median[ix_median],\n",
    "                                                                                                    precision_median[ix_median],\n",
    "                                                                                                    recall_median[ix_median]))"
   ]
  },
  {
   "cell_type": "code",
   "execution_count": 272,
   "metadata": {},
   "outputs": [
    {
     "name": "stdout",
     "output_type": "stream",
     "text": [
      "Best Threshold_max=0.321791, F-Score_max=0.780, Precision_max=0.746, Recall_max=0.816\n"
     ]
    }
   ],
   "source": [
    "precision_max, recall_max, thresholds_max = precision_recall_curve(y_test, preds_max)\n",
    "fscore_max = (2 * precision_max * recall_max) / (precision_max + recall_max)\n",
    "# locate the index of the largest f score\n",
    "ix_max = np.argmax(fscore_max)\n",
    "print('Best Threshold_max=%f, F-Score_max=%.3f, Precision_max=%.3f, Recall_max=%.3f' % (thresholds_max[ix_max], \n",
    "                                                                                            fscore_max[ix_max],\n",
    "                                                                                            precision_max[ix_max],\n",
    "                                                                                            recall_max[ix_max]))"
   ]
  },
  {
   "cell_type": "code",
   "execution_count": 268,
   "metadata": {},
   "outputs": [],
   "source": [
    "def plot_confusion_matrix(cm, classes,\n",
    "                          normalize=False,\n",
    "                          title='Confusion matrix',\n",
    "                          cmap=plt.cm.Blues):\n",
    "    \"\"\"\n",
    "    This function prints and plots the confusion matrix.\n",
    "    Normalization can be applied by setting `normalize=True`.\n",
    "    \"\"\"\n",
    "    plt.imshow(cm, interpolation='nearest', cmap=cmap)\n",
    "    plt.title(title)\n",
    "    plt.colorbar()\n",
    "    tick_marks = np.arange(len(classes))\n",
    "    plt.xticks(tick_marks, classes, rotation=45)\n",
    "    plt.yticks(tick_marks, classes)\n",
    "\n",
    "    if normalize:\n",
    "        cm = cm.astype('float') / cm.sum(axis=1)[:, np.newaxis]\n",
    "        print(\"Normalized confusion matrix\")\n",
    "    else:\n",
    "        print('Confusion matrix, without normalization')\n",
    "\n",
    "    print(cm)\n",
    "\n",
    "    thresh = cm.max() / 2.\n",
    "    for i, j in itertools.product(range(cm.shape[0]), range(cm.shape[1])):\n",
    "        plt.text(j, i, cm[i, j],\n",
    "                 horizontalalignment=\"center\",\n",
    "                 color=\"white\" if cm[i, j] > thresh else \"black\")\n",
    "\n",
    "    plt.tight_layout()\n",
    "    plt.ylabel('True label')\n",
    "    plt.xlabel('Predicted label')"
   ]
  },
  {
   "cell_type": "code",
   "execution_count": 273,
   "metadata": {},
   "outputs": [
    {
     "name": "stdout",
     "output_type": "stream",
     "text": [
      "Confusion matrix, without normalization\n",
      "[[1648  107]\n",
      " [  72  173]]\n"
     ]
    },
    {
     "data": {
      "image/png": "[encoded data removed]",
      "text/plain": [
       "<Figure size 720x576 with 2 Axes>"
      ]
     },
     "metadata": {
      "needs_background": "light"
     },
     "output_type": "display_data"
    }
   ],
   "source": [
    "#мы уже нашли ранее \"оптимальный\" порог, когда максимизировали f_score_mean\n",
    "font = {'size' : 15}\n",
    "\n",
    "plt.rc('font', **font)\n",
    "\n",
    "cnf_matrix = confusion_matrix(y_test, preds_mean>thresholds_mean[ix_mean])\n",
    "plt.figure(figsize=(10, 8))\n",
    "plot_confusion_matrix(cnf_matrix, classes=['Non-Churn', 'churn'], title='Confusion matrix')\n",
    "plt.savefig(\"conf_matrix.png\")\n",
    "plt.show()"
   ]
  },
  {
   "cell_type": "code",
   "execution_count": 274,
   "metadata": {},
   "outputs": [
    {
     "name": "stdout",
     "output_type": "stream",
     "text": [
      "Confusion matrix, without normalization\n",
      "[[1650  105]\n",
      " [  29  216]]\n"
     ]
    },
    {
     "data": {
      "image/png": "[encoded data removed]",
      "text/plain": [
       "<Figure size 720x576 with 2 Axes>"
      ]
     },
     "metadata": {
      "needs_background": "light"
     },
     "output_type": "display_data"
    }
   ],
   "source": [
    "#мы уже нашли ранее \"оптимальный\" порог, когда максимизировали f_score_median\n",
    "font = {'size' : 15}\n",
    "\n",
    "plt.rc('font', **font)\n",
    "\n",
    "cnf_matrix = confusion_matrix(y_test, preds_median>thresholds_median[ix_median])\n",
    "plt.figure(figsize=(10, 8))\n",
    "plot_confusion_matrix(cnf_matrix, classes=['Non-Churn', 'churn'], title='Confusion matrix')\n",
    "plt.savefig(\"conf_matrix.png\")\n",
    "plt.show()"
   ]
  },
  {
   "cell_type": "code",
   "execution_count": 275,
   "metadata": {},
   "outputs": [
    {
     "name": "stdout",
     "output_type": "stream",
     "text": [
      "Confusion matrix, without normalization\n",
      "[[1687   68]\n",
      " [  46  199]]\n"
     ]
    },
    {
     "data": {
      "image/png": "[encoded data removed]",
      "text/plain": [
       "<Figure size 720x576 with 2 Axes>"
      ]
     },
     "metadata": {
      "needs_background": "light"
     },
     "output_type": "display_data"
    }
   ],
   "source": [
    "#мы уже нашли ранее \"оптимальный\" порог, когда максимизировали f_score_max\n",
    "font = {'size' : 15}\n",
    "\n",
    "plt.rc('font', **font)\n",
    "\n",
    "cnf_matrix = confusion_matrix(y_test, preds_max>thresholds_max[ix_max])\n",
    "plt.figure(figsize=(10, 8))\n",
    "plot_confusion_matrix(cnf_matrix, classes=['Non-Churn', 'churn'], title='Confusion matrix')\n",
    "plt.savefig(\"conf_matrix.png\")\n",
    "plt.show()"
   ]
  },
  {
   "cell_type": "code",
   "execution_count": 251,
   "metadata": {},
   "outputs": [
    {
     "data": {
      "text/plain": [
       "0.9459712773998488"
      ]
     },
     "execution_count": 251,
     "metadata": {},
     "output_type": "execute_result"
    }
   ],
   "source": [
    "roc_auc_score(y_test, preds_mean)"
   ]
  },
  {
   "cell_type": "code",
   "execution_count": 252,
   "metadata": {},
   "outputs": [
    {
     "data": {
      "text/plain": [
       "0.9729635443921159"
      ]
     },
     "execution_count": 252,
     "metadata": {},
     "output_type": "execute_result"
    }
   ],
   "source": [
    "roc_auc_score(y_test, preds_median)"
   ]
  },
  {
   "cell_type": "code",
   "execution_count": 253,
   "metadata": {},
   "outputs": [
    {
     "data": {
      "text/plain": [
       "0.9694377580091865"
      ]
     },
     "execution_count": 253,
     "metadata": {},
     "output_type": "execute_result"
    }
   ],
   "source": [
    "roc_auc_score(y_test, preds_max)"
   ]
  },
  {
   "cell_type": "markdown",
   "metadata": {},
   "source": [
    "### Выводы:"
   ]
  },
  {
   "cell_type": "markdown",
   "metadata": {},
   "source": [
    "1 Добавил пару незначительных \"стоп-слов\" и в предобработку текстов добавил удаление латинских букв. Как ни странно f-score и ROC-AUC-score снизились."
   ]
  },
  {
   "cell_type": "markdown",
   "metadata": {},
   "source": [
    "2 Если код отрабатывает корректно, то можно заметить, что расчёт user-embeddings по медианным и максимальным значениям компонент векторов статей даёт прирось предсказательного качества модели, причем максимум f-score достигается именно при максимальных значениях компонент полученных user-embeddings, а максимум ROC-AUC-score при медианных значениях соответственно."
   ]
  },
  {
   "cell_type": "markdown",
   "metadata": {},
   "source": [
    "3 В качестве попытки трактовки полученного результата можно отметить, что медианные значения компонент векторов user-embeddings видимо статистически лучше передают интересы пользователей, т.е. содержат более сильный сигнал.\n",
    "Максимальные значения компонент видимо тоже."
   ]
  },
  {
   "cell_type": "markdown",
   "metadata": {},
   "source": [
    "4 Дополнительное задание с tf-idf не делал, т.к. нужно навёрстывать пройденный материал, но видимо идея в том, чтобы id статей использовать как \"слова\", расчитать их вес с помощью idf и домножить на него вектора статей перед расчётом user-embeddings."
   ]
  },
  {
   "cell_type": "code",
   "execution_count": null,
   "metadata": {},
   "outputs": [],
   "source": []
  }
 ],
 "metadata": {
  "kernelspec": {
   "display_name": "Python 3",
   "language": "python",
   "name": "python3"
  },
  "language_info": {
   "codemirror_mode": {
    "name": "ipython",
    "version": 3
   },
   "file_extension": ".py",
   "mimetype": "text/x-python",
   "name": "python",
   "nbconvert_exporter": "python",
   "pygments_lexer": "ipython3",
   "version": "3.7.9"
  }
 },
 "nbformat": 4,
 "nbformat_minor": 2
}
