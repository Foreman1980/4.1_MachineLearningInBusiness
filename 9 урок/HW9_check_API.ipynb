{
 "cells": [
  {
   "cell_type": "markdown",
   "id": "hungarian-southeast",
   "metadata": {},
   "source": [
    "### Проверка того, что наше api работает\n",
    "\n",
    "Перед началом необходимо собрать docker-образ и запустить контейнер\n",
    "\n",
    "1. Следовать инструкциям https://github.com/Foreman1980/Docker_FlaskProject/blob/main/README.md\n",
    "2. Далее уже запускать код ниже"
   ]
  },
  {
   "cell_type": "markdown",
   "id": "chinese-fraction",
   "metadata": {},
   "source": [
    "Blood Transfusion Service Center Data Set (https://archive.ics.uci.edu/ml/datasets/Blood+Transfusion+Service+Center)"
   ]
  },
  {
   "cell_type": "markdown",
   "id": "sitting-lottery",
   "metadata": {},
   "source": [
    "Data Set Information:\n",
    "\n",
    "To demonstrate the RFMTC marketing model (a modified version of RFM), this study \n",
    "adopted the donor database of Blood Transfusion Service Center in Hsin-Chu City \n",
    "in Taiwan. The center passes their blood transfusion service bus to one \n",
    "university in Hsin-Chu City to gather blood donated about every three months. To \n",
    "build a FRMTC model, we selected 748 donors at random from the donor database. \n",
    "These 748 donor data, each one included R (Recency - months since last \n",
    "donation), F (Frequency - total number of donation), M (Monetary - total blood \n",
    "donated in c.c.), T (Time - months since first donation), and a binary variable \n",
    "representing whether he/she donated blood in March 2007 (1 stand for donating \n",
    "blood; 0 stands for not donating blood)."
   ]
  },
  {
   "cell_type": "markdown",
   "id": "opposed-scheme",
   "metadata": {},
   "source": [
    "Attribute Information:\n",
    "\n",
    "Given is the variable name, variable type, the measurement unit and a brief \n",
    "description. The \"Blood Transfusion Service Center\" is a classification problem. \n",
    "The order of this listing corresponds to the order of numerals along the rows of \n",
    "the database.\n",
    "\n",
    " - R (Recency - months since last donation)\n",
    " - F (Frequency - total number of donation)\n",
    " - M (Monetary - total blood donated in c.c.)\n",
    " - T (Time - months since first donation)\n",
    " - a binary variable representing whether he/she donated blood in March 2007 (1 \n",
    "stand for donating blood; 0 stands for not donating blood)."
   ]
  },
  {
   "cell_type": "code",
   "execution_count": 120,
   "id": "senior-secretariat",
   "metadata": {},
   "outputs": [],
   "source": [
    "import pandas as pd\n",
    "from sklearn.metrics import roc_auc_score\n",
    "from urllib import request\n",
    "import json\n",
    "from pprint import pprint"
   ]
  },
  {
   "cell_type": "code",
   "execution_count": 84,
   "id": "attractive-prompt",
   "metadata": {},
   "outputs": [],
   "source": [
    "X_test = pd.read_csv(\"data/webinar_9/X_test.csv\")\n",
    "y_test = pd.read_csv(\"data/webinar_9/y_test.csv\")"
   ]
  },
  {
   "cell_type": "code",
   "execution_count": 85,
   "id": "hybrid-desktop",
   "metadata": {},
   "outputs": [
    {
     "data": {
      "text/html": [
       "<div>\n",
       "<style scoped>\n",
       "    .dataframe tbody tr th:only-of-type {\n",
       "        vertical-align: middle;\n",
       "    }\n",
       "\n",
       "    .dataframe tbody tr th {\n",
       "        vertical-align: top;\n",
       "    }\n",
       "\n",
       "    .dataframe thead th {\n",
       "        text-align: right;\n",
       "    }\n",
       "</style>\n",
       "<table border=\"1\" class=\"dataframe\">\n",
       "  <thead>\n",
       "    <tr style=\"text-align: right;\">\n",
       "      <th></th>\n",
       "      <th>recency</th>\n",
       "      <th>frequency</th>\n",
       "      <th>time</th>\n",
       "    </tr>\n",
       "  </thead>\n",
       "  <tbody>\n",
       "    <tr>\n",
       "      <th>0</th>\n",
       "      <td>2</td>\n",
       "      <td>7</td>\n",
       "      <td>14</td>\n",
       "    </tr>\n",
       "    <tr>\n",
       "      <th>1</th>\n",
       "      <td>16</td>\n",
       "      <td>3</td>\n",
       "      <td>23</td>\n",
       "    </tr>\n",
       "    <tr>\n",
       "      <th>2</th>\n",
       "      <td>2</td>\n",
       "      <td>5</td>\n",
       "      <td>34</td>\n",
       "    </tr>\n",
       "    <tr>\n",
       "      <th>3</th>\n",
       "      <td>16</td>\n",
       "      <td>14</td>\n",
       "      <td>83</td>\n",
       "    </tr>\n",
       "    <tr>\n",
       "      <th>4</th>\n",
       "      <td>2</td>\n",
       "      <td>7</td>\n",
       "      <td>77</td>\n",
       "    </tr>\n",
       "  </tbody>\n",
       "</table>\n",
       "</div>"
      ],
      "text/plain": [
       "   recency  frequency  time\n",
       "0        2          7    14\n",
       "1       16          3    23\n",
       "2        2          5    34\n",
       "3       16         14    83\n",
       "4        2          7    77"
      ]
     },
     "execution_count": 85,
     "metadata": {},
     "output_type": "execute_result"
    }
   ],
   "source": [
    "X_test[['recency', 'frequency', 'time']].head()"
   ]
  },
  {
   "cell_type": "code",
   "execution_count": 125,
   "id": "compliant-camping",
   "metadata": {},
   "outputs": [],
   "source": [
    "def get_prediction(x):\n",
    "    recency, frequency, _time = x\n",
    "    body = {'recency': recency, \n",
    "            'frequency': frequency,\n",
    "            'time': _time}\n",
    "    \n",
    "    myurl = \"http://0.0.0.0:8180/predict\"\n",
    "    req = request.Request(myurl)\n",
    "    req.add_header('Content-Type', 'application/json; charset=utf-8')\n",
    "    jsondata = json.dumps(body)\n",
    "    jsondataasbytes = jsondata.encode('utf-8')   # needs to be bytes\n",
    "    req.add_header('Content-Length', len(jsondataasbytes))\n",
    "    response = request.urlopen(req, jsondataasbytes)\n",
    "    return json.loads(response.read())['predictions']"
   ]
  },
  {
   "cell_type": "code",
   "execution_count": 131,
   "id": "unlikely-arrival",
   "metadata": {},
   "outputs": [
    {
     "data": {
      "text/plain": [
       "recency      0\n",
       "frequency    3\n",
       "time         4\n",
       "Name: 82, dtype: int64"
      ]
     },
     "execution_count": 131,
     "metadata": {},
     "output_type": "execute_result"
    }
   ],
   "source": [
    "X_test.loc[82, ['recency', 'frequency', 'time']]"
   ]
  },
  {
   "cell_type": "code",
   "execution_count": 130,
   "id": "electronic-excerpt",
   "metadata": {},
   "outputs": [
    {
     "data": {
      "text/plain": [
       "0.5683573317367829"
      ]
     },
     "execution_count": 130,
     "metadata": {},
     "output_type": "execute_result"
    }
   ],
   "source": [
    "# Проверим работоспособность функции:\n",
    "get_prediction(X_test.loc[82, ['recency', 'frequency', 'time']])"
   ]
  },
  {
   "cell_type": "code",
   "execution_count": 118,
   "id": "naval-single",
   "metadata": {},
   "outputs": [
    {
     "name": "stdout",
     "output_type": "stream",
     "text": [
      "CPU times: user 39.5 ms, sys: 4.93 ms, total: 44.5 ms\n",
      "Wall time: 732 ms\n"
     ]
    },
    {
     "data": {
      "text/plain": [
       "0      0.567141\n",
       "1      0.171273\n",
       "2      0.390154\n",
       "3      0.125309\n",
       "4      0.209699\n",
       "         ...   \n",
       "102    0.314761\n",
       "103    0.135539\n",
       "104    0.000400\n",
       "105    0.595274\n",
       "106    0.100100\n",
       "Length: 107, dtype: float64"
      ]
     },
     "execution_count": 118,
     "metadata": {},
     "output_type": "execute_result"
    }
   ],
   "source": [
    "%%time\n",
    "predictions = X_test[['recency', 'frequency', 'time']].apply(lambda x: get_prediction(x), 1)\n",
    "predictions"
   ]
  },
  {
   "cell_type": "code",
   "execution_count": 119,
   "id": "comfortable-envelope",
   "metadata": {},
   "outputs": [
    {
     "data": {
      "text/plain": [
       "0.7844907407407408"
      ]
     },
     "execution_count": 119,
     "metadata": {},
     "output_type": "execute_result"
    }
   ],
   "source": [
    "roc_auc_score(y_score=predictions.values, y_true=y_test)"
   ]
  },
  {
   "cell_type": "code",
   "execution_count": null,
   "id": "induced-present",
   "metadata": {},
   "outputs": [],
   "source": []
  }
 ],
 "metadata": {
  "kernelspec": {
   "display_name": "Python 3",
   "language": "python",
   "name": "python3"
  },
  "language_info": {
   "codemirror_mode": {
    "name": "ipython",
    "version": 3
   },
   "file_extension": ".py",
   "mimetype": "text/x-python",
   "name": "python",
   "nbconvert_exporter": "python",
   "pygments_lexer": "ipython3",
   "version": "3.7.9"
  }
 },
 "nbformat": 4,
 "nbformat_minor": 5
}
