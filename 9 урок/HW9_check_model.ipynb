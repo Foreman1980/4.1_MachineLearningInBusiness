{
 "cells": [
  {
   "cell_type": "markdown",
   "id": "chinese-fraction",
   "metadata": {},
   "source": [
    "Blood Transfusion Service Center Data Set (https://archive.ics.uci.edu/ml/datasets/Blood+Transfusion+Service+Center)"
   ]
  },
  {
   "cell_type": "markdown",
   "id": "sitting-lottery",
   "metadata": {},
   "source": [
    "Data Set Information:\n",
    "\n",
    "To demonstrate the RFMTC marketing model (a modified version of RFM), this study \n",
    "adopted the donor database of Blood Transfusion Service Center in Hsin-Chu City \n",
    "in Taiwan. The center passes their blood transfusion service bus to one \n",
    "university in Hsin-Chu City to gather blood donated about every three months. To \n",
    "build a FRMTC model, we selected 748 donors at random from the donor database. \n",
    "These 748 donor data, each one included R (Recency - months since last \n",
    "donation), F (Frequency - total number of donation), M (Monetary - total blood \n",
    "donated in c.c.), T (Time - months since first donation), and a binary variable \n",
    "representing whether he/she donated blood in March 2007 (1 stand for donating \n",
    "blood; 0 stands for not donating blood)."
   ]
  },
  {
   "cell_type": "markdown",
   "id": "opposed-scheme",
   "metadata": {},
   "source": [
    "Attribute Information:\n",
    "\n",
    "Given is the variable name, variable type, the measurement unit and a brief \n",
    "description. The \"Blood Transfusion Service Center\" is a classification problem. \n",
    "The order of this listing corresponds to the order of numerals along the rows of \n",
    "the database.\n",
    "\n",
    " - R (Recency - months since last donation)\n",
    " - F (Frequency - total number of donation)\n",
    " - M (Monetary - total blood donated in c.c.)\n",
    " - T (Time - months since first donation)\n",
    " - a binary variable representing whether he/she donated blood in March 2007 (1 \n",
    "stand for donating blood; 0 stands for not donating blood)."
   ]
  },
  {
   "cell_type": "code",
   "execution_count": 1,
   "id": "different-linux",
   "metadata": {},
   "outputs": [],
   "source": [
    "import pandas as pd\n",
    "from sklearn.metrics import roc_auc_score\n",
    "import dill\n",
    "\n",
    "dill._dill._reverse_typemap['ClassType'] = type"
   ]
  },
  {
   "cell_type": "code",
   "execution_count": 2,
   "id": "charitable-seventh",
   "metadata": {},
   "outputs": [],
   "source": [
    "X_test = pd.read_csv(\"data/webinar_9/X_test.csv\")\n",
    "y_test = pd.read_csv(\"data/webinar_9/y_test.csv\")"
   ]
  },
  {
   "cell_type": "code",
   "execution_count": 3,
   "id": "durable-accused",
   "metadata": {
    "scrolled": true
   },
   "outputs": [
    {
     "data": {
      "text/html": [
       "<div>\n",
       "<style scoped>\n",
       "    .dataframe tbody tr th:only-of-type {\n",
       "        vertical-align: middle;\n",
       "    }\n",
       "\n",
       "    .dataframe tbody tr th {\n",
       "        vertical-align: top;\n",
       "    }\n",
       "\n",
       "    .dataframe thead th {\n",
       "        text-align: right;\n",
       "    }\n",
       "</style>\n",
       "<table border=\"1\" class=\"dataframe\">\n",
       "  <thead>\n",
       "    <tr style=\"text-align: right;\">\n",
       "      <th></th>\n",
       "      <th>recency</th>\n",
       "      <th>frequency</th>\n",
       "      <th>monetary</th>\n",
       "      <th>time</th>\n",
       "    </tr>\n",
       "  </thead>\n",
       "  <tbody>\n",
       "    <tr>\n",
       "      <th>0</th>\n",
       "      <td>2</td>\n",
       "      <td>7</td>\n",
       "      <td>1750</td>\n",
       "      <td>14</td>\n",
       "    </tr>\n",
       "    <tr>\n",
       "      <th>1</th>\n",
       "      <td>16</td>\n",
       "      <td>3</td>\n",
       "      <td>750</td>\n",
       "      <td>23</td>\n",
       "    </tr>\n",
       "    <tr>\n",
       "      <th>2</th>\n",
       "      <td>2</td>\n",
       "      <td>5</td>\n",
       "      <td>1250</td>\n",
       "      <td>34</td>\n",
       "    </tr>\n",
       "    <tr>\n",
       "      <th>3</th>\n",
       "      <td>16</td>\n",
       "      <td>14</td>\n",
       "      <td>3500</td>\n",
       "      <td>83</td>\n",
       "    </tr>\n",
       "    <tr>\n",
       "      <th>4</th>\n",
       "      <td>2</td>\n",
       "      <td>7</td>\n",
       "      <td>1750</td>\n",
       "      <td>77</td>\n",
       "    </tr>\n",
       "  </tbody>\n",
       "</table>\n",
       "</div>"
      ],
      "text/plain": [
       "   recency  frequency  monetary  time\n",
       "0        2          7      1750    14\n",
       "1       16          3       750    23\n",
       "2        2          5      1250    34\n",
       "3       16         14      3500    83\n",
       "4        2          7      1750    77"
      ]
     },
     "execution_count": 3,
     "metadata": {},
     "output_type": "execute_result"
    }
   ],
   "source": [
    "X_test.head()"
   ]
  },
  {
   "cell_type": "code",
   "execution_count": 5,
   "id": "brutal-footage",
   "metadata": {},
   "outputs": [],
   "source": [
    "with open('data/webinar_9/logreg_pipeline.dill', 'rb') as f:\n",
    "    regressor = dill.load(f)"
   ]
  },
  {
   "cell_type": "code",
   "execution_count": 7,
   "id": "british-tuition",
   "metadata": {},
   "outputs": [
    {
     "data": {
      "text/plain": [
       "0.7844907407407408"
      ]
     },
     "execution_count": 7,
     "metadata": {},
     "output_type": "execute_result"
    }
   ],
   "source": [
    "y_pred = regressor.predict_proba(X_test)[:, 1]\n",
    "roc_auc_score(y_score=y_pred[:], y_true=y_test.iloc[:])"
   ]
  },
  {
   "cell_type": "code",
   "execution_count": null,
   "id": "dress-attention",
   "metadata": {},
   "outputs": [],
   "source": []
  }
 ],
 "metadata": {
  "kernelspec": {
   "display_name": "Python 3",
   "language": "python",
   "name": "python3"
  },
  "language_info": {
   "codemirror_mode": {
    "name": "ipython",
    "version": 3
   },
   "file_extension": ".py",
   "mimetype": "text/x-python",
   "name": "python",
   "nbconvert_exporter": "python",
   "pygments_lexer": "ipython3",
   "version": "3.7.9"
  }
 },
 "nbformat": 4,
 "nbformat_minor": 5
}
