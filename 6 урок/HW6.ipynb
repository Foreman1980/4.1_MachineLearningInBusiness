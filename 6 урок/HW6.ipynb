{
 "cells": [
  {
   "cell_type": "markdown",
   "metadata": {},
   "source": [
    "Blood Transfusion Service Center Data Set (https://archive.ics.uci.edu/ml/datasets/Blood+Transfusion+Service+Center)"
   ]
  },
  {
   "cell_type": "markdown",
   "metadata": {},
   "source": [
    "Data Set Information:\n",
    "\n",
    "To demonstrate the RFMTC marketing model (a modified version of RFM), this study \n",
    "adopted the donor database of Blood Transfusion Service Center in Hsin-Chu City \n",
    "in Taiwan. The center passes their blood transfusion service bus to one \n",
    "university in Hsin-Chu City to gather blood donated about every three months. To \n",
    "build a FRMTC model, we selected 748 donors at random from the donor database. \n",
    "These 748 donor data, each one included R (Recency - months since last \n",
    "donation), F (Frequency - total number of donation), M (Monetary - total blood \n",
    "donated in c.c.), T (Time - months since first donation), and a binary variable \n",
    "representing whether he/she donated blood in March 2007 (1 stand for donating \n",
    "blood; 0 stands for not donating blood)."
   ]
  },
  {
   "cell_type": "markdown",
   "metadata": {},
   "source": [
    "Attribute Information:\n",
    "\n",
    "Given is the variable name, variable type, the measurement unit and a brief \n",
    "description. The \"Blood Transfusion Service Center\" is a classification problem. \n",
    "The order of this listing corresponds to the order of numerals along the rows of \n",
    "the database.\n",
    "\n",
    " - R (Recency - months since last donation)\n",
    " - F (Frequency - total number of donation)\n",
    " - M (Monetary - total blood donated in c.c.)\n",
    " - T (Time - months since first donation)\n",
    " - a binary variable representing whether he/she donated blood in March 2007 (1 \n",
    "stand for donating blood; 0 stands for not donating blood)."
   ]
  },
  {
   "cell_type": "code",
   "execution_count": 1,
   "metadata": {},
   "outputs": [],
   "source": [
    "import pandas as pd\n",
    "import numpy as np\n",
    "from sklearn.model_selection import train_test_split\n",
    "import xgboost as xgb"
   ]
  },
  {
   "cell_type": "code",
   "execution_count": 2,
   "metadata": {},
   "outputs": [
    {
     "data": {
      "text/html": [
       "<div>\n",
       "<style scoped>\n",
       "    .dataframe tbody tr th:only-of-type {\n",
       "        vertical-align: middle;\n",
       "    }\n",
       "\n",
       "    .dataframe tbody tr th {\n",
       "        vertical-align: top;\n",
       "    }\n",
       "\n",
       "    .dataframe thead th {\n",
       "        text-align: right;\n",
       "    }\n",
       "</style>\n",
       "<table border=\"1\" class=\"dataframe\">\n",
       "  <thead>\n",
       "    <tr style=\"text-align: right;\">\n",
       "      <th></th>\n",
       "      <th>recency</th>\n",
       "      <th>frequency</th>\n",
       "      <th>monetary</th>\n",
       "      <th>time</th>\n",
       "      <th>target</th>\n",
       "    </tr>\n",
       "  </thead>\n",
       "  <tbody>\n",
       "    <tr>\n",
       "      <td>0</td>\n",
       "      <td>2</td>\n",
       "      <td>50</td>\n",
       "      <td>12500</td>\n",
       "      <td>98</td>\n",
       "      <td>1</td>\n",
       "    </tr>\n",
       "    <tr>\n",
       "      <td>1</td>\n",
       "      <td>0</td>\n",
       "      <td>13</td>\n",
       "      <td>3250</td>\n",
       "      <td>28</td>\n",
       "      <td>1</td>\n",
       "    </tr>\n",
       "    <tr>\n",
       "      <td>2</td>\n",
       "      <td>1</td>\n",
       "      <td>16</td>\n",
       "      <td>4000</td>\n",
       "      <td>35</td>\n",
       "      <td>1</td>\n",
       "    </tr>\n",
       "    <tr>\n",
       "      <td>3</td>\n",
       "      <td>2</td>\n",
       "      <td>20</td>\n",
       "      <td>5000</td>\n",
       "      <td>45</td>\n",
       "      <td>1</td>\n",
       "    </tr>\n",
       "    <tr>\n",
       "      <td>4</td>\n",
       "      <td>1</td>\n",
       "      <td>24</td>\n",
       "      <td>6000</td>\n",
       "      <td>77</td>\n",
       "      <td>0</td>\n",
       "    </tr>\n",
       "  </tbody>\n",
       "</table>\n",
       "</div>"
      ],
      "text/plain": [
       "   recency  frequency  monetary  time  target\n",
       "0        2         50     12500    98       1\n",
       "1        0         13      3250    28       1\n",
       "2        1         16      4000    35       1\n",
       "3        2         20      5000    45       1\n",
       "4        1         24      6000    77       0"
      ]
     },
     "execution_count": 2,
     "metadata": {},
     "output_type": "execute_result"
    }
   ],
   "source": [
    "data = pd.read_csv(\"data/webinar_6/transfusion.data\", header=0, names=['recency', 'frequency', 'monetary', 'time', 'target'], dtype='int64')\n",
    "data.head()"
   ]
  },
  {
   "cell_type": "code",
   "execution_count": 3,
   "metadata": {},
   "outputs": [
    {
     "name": "stdout",
     "output_type": "stream",
     "text": [
      "<class 'pandas.core.frame.DataFrame'>\n",
      "RangeIndex: 748 entries, 0 to 747\n",
      "Data columns (total 5 columns):\n",
      "recency      748 non-null int64\n",
      "frequency    748 non-null int64\n",
      "monetary     748 non-null int64\n",
      "time         748 non-null int64\n",
      "target       748 non-null int64\n",
      "dtypes: int64(5)\n",
      "memory usage: 29.3 KB\n"
     ]
    }
   ],
   "source": [
    "data.info()"
   ]
  },
  {
   "cell_type": "code",
   "execution_count": 4,
   "metadata": {},
   "outputs": [
    {
     "data": {
      "text/plain": [
       "0    570\n",
       "1    178\n",
       "Name: target, dtype: int64"
      ]
     },
     "execution_count": 4,
     "metadata": {},
     "output_type": "execute_result"
    }
   ],
   "source": [
    "data['target'].value_counts()"
   ]
  },
  {
   "cell_type": "code",
   "execution_count": 5,
   "metadata": {},
   "outputs": [],
   "source": [
    "x_train, x_test, y_train, y_test = train_test_split(data.iloc[:, :-1], data.iloc[:, -1], test_size=0.2, random_state=42)"
   ]
  },
  {
   "cell_type": "code",
   "execution_count": 6,
   "metadata": {},
   "outputs": [],
   "source": [
    "final_dct = {\n",
    "    'Precision': [],\n",
    "    'Recall': [],\n",
    "    'F1_score': [],\n",
    "    'ROC-AUC_score': [],\n",
    "}"
   ]
  },
  {
   "cell_type": "code",
   "execution_count": 7,
   "metadata": {},
   "outputs": [],
   "source": [
    "model = xgb.XGBClassifier()\n",
    "model.fit(x_train, y_train)\n",
    "y_pred = model.predict_proba(x_test)[:, 1]"
   ]
  },
  {
   "cell_type": "code",
   "execution_count": 8,
   "metadata": {},
   "outputs": [],
   "source": [
    "# from sklearn.metrics import f1_score, roc_auc_score, precision_score, recall_score, accuracy_score, precision_recall_curve, confusion_matrix\n",
    "from sklearn.metrics import roc_auc_score, precision_recall_curve, confusion_matrix"
   ]
  },
  {
   "cell_type": "code",
   "execution_count": 9,
   "metadata": {},
   "outputs": [
    {
     "name": "stdout",
     "output_type": "stream",
     "text": [
      "Best Threshold=0.349772, F-Score=0.507, Precision=0.529, Recall=0.486\n"
     ]
    }
   ],
   "source": [
    "precision, recall, thresholds = precision_recall_curve(y_test, y_pred)\n",
    "b = 1\n",
    "fscore = (1 + b**2) * precision * recall / (b**2 * precision + recall)\n",
    "ix = np.argmax(fscore)\n",
    "print('Best Threshold=%f, F-Score=%.3f, Precision=%.3f, Recall=%.3f' % (thresholds[ix], \n",
    "                                                                        fscore[ix],\n",
    "                                                                        precision[ix],\n",
    "                                                                        recall[ix]))"
   ]
  },
  {
   "cell_type": "code",
   "execution_count": 10,
   "metadata": {},
   "outputs": [],
   "source": [
    "final_dct['Precision'].append(precision[ix])\n",
    "final_dct['Recall'].append(recall[ix])\n",
    "final_dct['F1_score'].append(fscore[ix])\n",
    "final_dct['ROC-AUC_score'].append(roc_auc_score(y_test, y_pred))"
   ]
  },
  {
   "cell_type": "code",
   "execution_count": 11,
   "metadata": {},
   "outputs": [],
   "source": [
    "import matplotlib.pyplot as plt\n",
    "import itertools\n",
    "\n",
    "%matplotlib inline"
   ]
  },
  {
   "cell_type": "code",
   "execution_count": 12,
   "metadata": {},
   "outputs": [],
   "source": [
    "def plot_confusion_matrix(cm, classes,\n",
    "                          normalize=False,\n",
    "                          title='Confusion matrix',\n",
    "                          cmap=plt.cm.Blues):\n",
    "    \"\"\"\n",
    "    This function prints and plots the confusion matrix.\n",
    "    Normalization can be applied by setting `normalize=True`.\n",
    "    \"\"\"\n",
    "    plt.imshow(cm, interpolation='nearest', cmap=cmap)\n",
    "    plt.title(title)\n",
    "    plt.colorbar()\n",
    "    tick_marks = np.arange(len(classes))\n",
    "    plt.xticks(tick_marks, classes, rotation=45)\n",
    "    plt.yticks(tick_marks, classes)\n",
    "\n",
    "    if normalize:\n",
    "        cm = cm.astype('float') / cm.sum(axis=1)[:, np.newaxis]\n",
    "        print(\"Normalized confusion matrix\")\n",
    "    else:\n",
    "        print('Confusion matrix, without normalization')\n",
    "\n",
    "    thresh = cm.max() / 2.\n",
    "    for i, j in itertools.product(range(cm.shape[0]), range(cm.shape[1])):\n",
    "        plt.text(j, i, cm[i, j],\n",
    "                 horizontalalignment=\"center\",\n",
    "                 color=\"white\" if cm[i, j] > thresh else \"black\")\n",
    "\n",
    "    plt.tight_layout()\n",
    "    plt.ylabel('True label')\n",
    "    plt.xlabel('Predicted label')"
   ]
  },
  {
   "cell_type": "code",
   "execution_count": 13,
   "metadata": {},
   "outputs": [
    {
     "name": "stdout",
     "output_type": "stream",
     "text": [
      "Confusion matrix, without normalization\n"
     ]
    },
    {
     "data": {
      "image/png": "[encoded data removed]",
      "text/plain": [
       "<Figure size 720x576 with 2 Axes>"
      ]
     },
     "metadata": {
      "needs_background": "light"
     },
     "output_type": "display_data"
    }
   ],
   "source": [
    "font = {'size' : 15}\n",
    "\n",
    "plt.rc('font', **font)\n",
    "\n",
    "cnf_matrix = confusion_matrix(y_test, y_pred>thresholds[ix])\n",
    "plt.figure(figsize=(10, 8))\n",
    "plot_confusion_matrix(cnf_matrix, classes=['NonDonate', 'Donate'],\n",
    "                      title='Confusion matrix')\n",
    "plt.show()"
   ]
  },
  {
   "cell_type": "markdown",
   "metadata": {},
   "source": [
    "### Теперь очередь за PU learning"
   ]
  },
  {
   "cell_type": "markdown",
   "metadata": {},
   "source": [
    "Представим, что нам неизвестны негативы и часть позитивов"
   ]
  },
  {
   "cell_type": "code",
   "execution_count": 14,
   "metadata": {},
   "outputs": [],
   "source": [
    "np.random.seed(0)\n",
    "mod_data = data.copy()\n",
    "pos_ind = np.where(mod_data.iloc[:,-1].values == 1)[0]\n",
    "np.random.shuffle(pos_ind, random_state=42)\n",
    "pos_sample_len_20 = int(np.ceil(0.2 * len(pos_ind)))\n",
    "pos_sample_len_30 = int(np.ceil(0.3 * len(pos_ind)))\n",
    "pos_sample_len_40 = int(np.ceil(0.4 * len(pos_ind)))\n",
    "pos_sample_len_50 = int(np.ceil(0.5 * len(pos_ind)))\n",
    "pos_sample_len_60 = int(np.ceil(0.6 * len(pos_ind)))"
   ]
  },
  {
   "cell_type": "code",
   "execution_count": 15,
   "metadata": {},
   "outputs": [
    {
     "name": "stdout",
     "output_type": "stream",
     "text": [
      "Using 36/178 as positives and unlabeling the rest\n",
      "Using 54/178 as positives and unlabeling the rest\n",
      "Using 72/178 as positives and unlabeling the rest\n",
      "Using 89/178 as positives and unlabeling the rest\n",
      "Using 107/178 as positives and unlabeling the rest\n"
     ]
    }
   ],
   "source": [
    "print(f'Using {pos_sample_len_20}/{len(pos_ind)} as positives and unlabeling the rest')\n",
    "pos_sample_20 = pos_ind[:pos_sample_len_20]\n",
    "print(f'Using {pos_sample_len_30}/{len(pos_ind)} as positives and unlabeling the rest')\n",
    "pos_sample_30 = pos_ind[:pos_sample_len_30]\n",
    "print(f'Using {pos_sample_len_40}/{len(pos_ind)} as positives and unlabeling the rest')\n",
    "pos_sample_40 = pos_ind[:pos_sample_len_40]\n",
    "print(f'Using {pos_sample_len_50}/{len(pos_ind)} as positives and unlabeling the rest')\n",
    "pos_sample_50 = pos_ind[:pos_sample_len_50]\n",
    "print(f'Using {pos_sample_len_60}/{len(pos_ind)} as positives and unlabeling the rest')\n",
    "pos_sample_60 = pos_ind[:pos_sample_len_60]"
   ]
  },
  {
   "cell_type": "markdown",
   "metadata": {},
   "source": [
    "Создаём столбцы для новых целевых переменных, где у нас два класса - P (1) и U (0)"
   ]
  },
  {
   "cell_type": "code",
   "execution_count": 16,
   "metadata": {},
   "outputs": [],
   "source": [
    "mod_data['class_20'] = 0\n",
    "mod_data['class_30'] = 0\n",
    "mod_data['class_40'] = 0\n",
    "mod_data['class_50'] = 0\n",
    "mod_data['class_60'] = 0\n",
    "mod_data.loc[pos_sample_20,'class_20'] = 1\n",
    "mod_data.loc[pos_sample_30,'class_30'] = 1\n",
    "mod_data.loc[pos_sample_40,'class_40'] = 1\n",
    "mod_data.loc[pos_sample_50,'class_50'] = 1\n",
    "mod_data.loc[pos_sample_60,'class_60'] = 1"
   ]
  },
  {
   "cell_type": "code",
   "execution_count": 17,
   "metadata": {},
   "outputs": [
    {
     "data": {
      "text/html": [
       "<div>\n",
       "<style scoped>\n",
       "    .dataframe tbody tr th:only-of-type {\n",
       "        vertical-align: middle;\n",
       "    }\n",
       "\n",
       "    .dataframe tbody tr th {\n",
       "        vertical-align: top;\n",
       "    }\n",
       "\n",
       "    .dataframe thead th {\n",
       "        text-align: right;\n",
       "    }\n",
       "</style>\n",
       "<table border=\"1\" class=\"dataframe\">\n",
       "  <thead>\n",
       "    <tr style=\"text-align: right;\">\n",
       "      <th></th>\n",
       "      <th>recency</th>\n",
       "      <th>frequency</th>\n",
       "      <th>monetary</th>\n",
       "      <th>time</th>\n",
       "      <th>target</th>\n",
       "      <th>class_20</th>\n",
       "      <th>class_30</th>\n",
       "      <th>class_40</th>\n",
       "      <th>class_50</th>\n",
       "      <th>class_60</th>\n",
       "    </tr>\n",
       "  </thead>\n",
       "  <tbody>\n",
       "    <tr>\n",
       "      <td>0</td>\n",
       "      <td>2</td>\n",
       "      <td>50</td>\n",
       "      <td>12500</td>\n",
       "      <td>98</td>\n",
       "      <td>1</td>\n",
       "      <td>0</td>\n",
       "      <td>0</td>\n",
       "      <td>0</td>\n",
       "      <td>0</td>\n",
       "      <td>0</td>\n",
       "    </tr>\n",
       "    <tr>\n",
       "      <td>1</td>\n",
       "      <td>0</td>\n",
       "      <td>13</td>\n",
       "      <td>3250</td>\n",
       "      <td>28</td>\n",
       "      <td>1</td>\n",
       "      <td>0</td>\n",
       "      <td>0</td>\n",
       "      <td>0</td>\n",
       "      <td>0</td>\n",
       "      <td>0</td>\n",
       "    </tr>\n",
       "    <tr>\n",
       "      <td>2</td>\n",
       "      <td>1</td>\n",
       "      <td>16</td>\n",
       "      <td>4000</td>\n",
       "      <td>35</td>\n",
       "      <td>1</td>\n",
       "      <td>0</td>\n",
       "      <td>0</td>\n",
       "      <td>1</td>\n",
       "      <td>1</td>\n",
       "      <td>1</td>\n",
       "    </tr>\n",
       "    <tr>\n",
       "      <td>3</td>\n",
       "      <td>2</td>\n",
       "      <td>20</td>\n",
       "      <td>5000</td>\n",
       "      <td>45</td>\n",
       "      <td>1</td>\n",
       "      <td>0</td>\n",
       "      <td>0</td>\n",
       "      <td>0</td>\n",
       "      <td>0</td>\n",
       "      <td>1</td>\n",
       "    </tr>\n",
       "    <tr>\n",
       "      <td>4</td>\n",
       "      <td>1</td>\n",
       "      <td>24</td>\n",
       "      <td>6000</td>\n",
       "      <td>77</td>\n",
       "      <td>0</td>\n",
       "      <td>0</td>\n",
       "      <td>0</td>\n",
       "      <td>0</td>\n",
       "      <td>0</td>\n",
       "      <td>0</td>\n",
       "    </tr>\n",
       "  </tbody>\n",
       "</table>\n",
       "</div>"
      ],
      "text/plain": [
       "   recency  frequency  monetary  time  target  class_20  class_30  class_40  \\\n",
       "0        2         50     12500    98       1         0         0         0   \n",
       "1        0         13      3250    28       1         0         0         0   \n",
       "2        1         16      4000    35       1         0         0         1   \n",
       "3        2         20      5000    45       1         0         0         0   \n",
       "4        1         24      6000    77       0         0         0         0   \n",
       "\n",
       "   class_50  class_60  \n",
       "0         0         0  \n",
       "1         0         0  \n",
       "2         1         1  \n",
       "3         0         1  \n",
       "4         0         0  "
      ]
     },
     "execution_count": 17,
     "metadata": {},
     "output_type": "execute_result"
    }
   ],
   "source": [
    "mod_data.head()"
   ]
  },
  {
   "cell_type": "markdown",
   "metadata": {},
   "source": [
    "### 1. random negative sampling"
   ]
  },
  {
   "cell_type": "markdown",
   "metadata": {},
   "source": [
    "- для 20%-ой доли позитивов"
   ]
  },
  {
   "cell_type": "code",
   "execution_count": 18,
   "metadata": {},
   "outputs": [],
   "source": [
    "mod_data = mod_data.sample(frac=1, random_state=42)"
   ]
  },
  {
   "cell_type": "code",
   "execution_count": 19,
   "metadata": {},
   "outputs": [
    {
     "name": "stdout",
     "output_type": "stream",
     "text": [
      "(36, 10) (36, 10) (72, 10) (676, 10)\n"
     ]
    }
   ],
   "source": [
    "neg_sample_20 = mod_data[mod_data['class_20']==0][:len(mod_data[mod_data['class_20']==1])]\n",
    "sample_test_20 = mod_data[mod_data['class_20']==0][len(mod_data[mod_data['class_20']==1]):]\n",
    "pos_sample_20 = mod_data[mod_data['class_20']==1]\n",
    "sample_train_20 = pd.concat([neg_sample_20, pos_sample_20]).sample(frac=1, random_state=42)\n",
    "print(neg_sample_20.shape, pos_sample_20.shape, sample_train_20.shape, sample_test_20.shape)"
   ]
  },
  {
   "cell_type": "code",
   "execution_count": 20,
   "metadata": {},
   "outputs": [],
   "source": [
    "model.fit(sample_train_20.iloc[:, :4].values, \n",
    "          sample_train_20.iloc[:, -5].values)\n",
    "y_pred_20 = model.predict_proba(sample_test_20.iloc[:, :4].values)[:, 1]"
   ]
  },
  {
   "cell_type": "code",
   "execution_count": 21,
   "metadata": {},
   "outputs": [
    {
     "name": "stdout",
     "output_type": "stream",
     "text": [
      "Best Threshold=0.422282, F-Score=0.435, Precision=0.325, Recall=0.657\n"
     ]
    }
   ],
   "source": [
    "precision, recall, thresholds = precision_recall_curve(sample_test_20.iloc[:, -6].values, y_pred_20)\n",
    "b = 1\n",
    "fscore = (1 + b**2) * precision * recall / (b**2 * precision + recall)\n",
    "ix = np.argmax(fscore)\n",
    "print('Best Threshold=%f, F-Score=%.3f, Precision=%.3f, Recall=%.3f' % (thresholds[ix], \n",
    "                                                                        fscore[ix],\n",
    "                                                                        precision[ix],\n",
    "                                                                        recall[ix]))"
   ]
  },
  {
   "cell_type": "code",
   "execution_count": 22,
   "metadata": {},
   "outputs": [],
   "source": [
    "final_dct['Precision'].append(precision[ix])\n",
    "final_dct['Recall'].append(recall[ix])\n",
    "final_dct['F1_score'].append(fscore[ix])\n",
    "final_dct['ROC-AUC_score'].append(roc_auc_score(sample_test_20.iloc[:, -6].values, y_pred_20))"
   ]
  },
  {
   "cell_type": "code",
   "execution_count": 23,
   "metadata": {},
   "outputs": [
    {
     "name": "stdout",
     "output_type": "stream",
     "text": [
      "Confusion matrix, without normalization\n"
     ]
    },
    {
     "data": {
      "image/png": "[encoded data removed]",
      "text/plain": [
       "<Figure size 720x576 with 2 Axes>"
      ]
     },
     "metadata": {
      "needs_background": "light"
     },
     "output_type": "display_data"
    }
   ],
   "source": [
    "font = {'size' : 15}\n",
    "\n",
    "plt.rc('font', **font)\n",
    "\n",
    "cnf_matrix = confusion_matrix(sample_test_20.iloc[:, -6].values, y_pred_20>thresholds[ix])\n",
    "plt.figure(figsize=(10, 8))\n",
    "plot_confusion_matrix(cnf_matrix, classes=['NonDonate', 'Donate'],\n",
    "                      title='Confusion matrix')\n",
    "plt.show()"
   ]
  },
  {
   "cell_type": "markdown",
   "metadata": {},
   "source": [
    "- для 30%-ой доли позитивов"
   ]
  },
  {
   "cell_type": "code",
   "execution_count": 24,
   "metadata": {},
   "outputs": [
    {
     "name": "stdout",
     "output_type": "stream",
     "text": [
      "(54, 10) (54, 10) (108, 10) (640, 10)\n"
     ]
    }
   ],
   "source": [
    "neg_sample_30 = mod_data[mod_data['class_30']==0][:len(mod_data[mod_data['class_30']==1])]\n",
    "sample_test_30 = mod_data[mod_data['class_30']==0][len(mod_data[mod_data['class_30']==1]):]\n",
    "pos_sample_30 = mod_data[mod_data['class_30']==1]\n",
    "sample_train_30 = pd.concat([neg_sample_30, pos_sample_30]).sample(frac=1, random_state=42)\n",
    "print(neg_sample_30.shape, pos_sample_30.shape, sample_train_30.shape, sample_test_30.shape)"
   ]
  },
  {
   "cell_type": "code",
   "execution_count": 25,
   "metadata": {},
   "outputs": [],
   "source": [
    "model.fit(sample_train_30.iloc[:, :4].values, \n",
    "          sample_train_30.iloc[:, -4].values)\n",
    "y_pred_30 = model.predict_proba(sample_test_30.iloc[:, :4].values)[:, 1]"
   ]
  },
  {
   "cell_type": "code",
   "execution_count": 26,
   "metadata": {},
   "outputs": [
    {
     "name": "stdout",
     "output_type": "stream",
     "text": [
      "Best Threshold=0.529586, F-Score=0.420, Precision=0.315, Recall=0.629\n"
     ]
    },
    {
     "name": "stderr",
     "output_type": "stream",
     "text": [
      "K:\\JupiterNotebooks\\Anaconda3\\envs\\venv_py_37\\lib\\site-packages\\ipykernel_launcher.py:3: RuntimeWarning: invalid value encountered in true_divide\n",
      "  This is separate from the ipykernel package so we can avoid doing imports until\n"
     ]
    }
   ],
   "source": [
    "precision, recall, thresholds = precision_recall_curve(sample_test_30.iloc[:, -6].values, y_pred_30)\n",
    "b = 1\n",
    "fscore = (1 + b**2) * precision * recall / (b**2 * precision + recall)\n",
    "ix = np.argmax(fscore[~np.isnan(fscore)])\n",
    "print('Best Threshold=%f, F-Score=%.3f, Precision=%.3f, Recall=%.3f' % (thresholds[ix], \n",
    "                                                                        fscore[ix],\n",
    "                                                                        precision[ix],\n",
    "                                                                        recall[ix]))"
   ]
  },
  {
   "cell_type": "code",
   "execution_count": 27,
   "metadata": {},
   "outputs": [],
   "source": [
    "final_dct['Precision'].append(precision[ix])\n",
    "final_dct['Recall'].append(recall[ix])\n",
    "final_dct['F1_score'].append(fscore[ix])\n",
    "final_dct['ROC-AUC_score'].append(roc_auc_score(sample_test_30.iloc[:, -6].values, y_pred_30))"
   ]
  },
  {
   "cell_type": "code",
   "execution_count": 28,
   "metadata": {},
   "outputs": [
    {
     "data": {
      "text/plain": [
       "{'Precision': [0.5294117647058824, 0.3249097472924188, 0.3146551724137931],\n",
       " 'Recall': [0.4864864864864865, 0.656934306569343, 0.6293103448275862],\n",
       " 'F1_score': [0.5070422535211269, 0.43478260869565216, 0.41954022988505746],\n",
       " 'ROC-AUC_score': [0.6829705812006697, 0.6883861706593719, 0.7093889839431429]}"
      ]
     },
     "execution_count": 28,
     "metadata": {},
     "output_type": "execute_result"
    }
   ],
   "source": [
    "final_dct"
   ]
  },
  {
   "cell_type": "code",
   "execution_count": 29,
   "metadata": {},
   "outputs": [
    {
     "name": "stdout",
     "output_type": "stream",
     "text": [
      "Confusion matrix, without normalization\n"
     ]
    },
    {
     "data": {
      "image/png": "[encoded data removed]",
      "text/plain": [
       "<Figure size 720x576 with 2 Axes>"
      ]
     },
     "metadata": {
      "needs_background": "light"
     },
     "output_type": "display_data"
    }
   ],
   "source": [
    "font = {'size' : 15}\n",
    "\n",
    "plt.rc('font', **font)\n",
    "\n",
    "cnf_matrix = confusion_matrix(sample_test_30.iloc[:, -6].values, y_pred_30>thresholds[ix])\n",
    "plt.figure(figsize=(10, 8))\n",
    "plot_confusion_matrix(cnf_matrix, classes=['NonDonate', 'Donate'],\n",
    "                      title='Confusion matrix')\n",
    "plt.show()"
   ]
  },
  {
   "cell_type": "markdown",
   "metadata": {},
   "source": [
    "- для 40%-ой доли позитивов"
   ]
  },
  {
   "cell_type": "code",
   "execution_count": 30,
   "metadata": {},
   "outputs": [
    {
     "name": "stdout",
     "output_type": "stream",
     "text": [
      "(72, 10) (72, 10) (144, 10) (604, 10)\n"
     ]
    }
   ],
   "source": [
    "neg_sample_40 = mod_data[mod_data['class_40']==0][:len(mod_data[mod_data['class_40']==1])]\n",
    "sample_test_40 = mod_data[mod_data['class_40']==0][len(mod_data[mod_data['class_40']==1]):]\n",
    "pos_sample_40 = mod_data[mod_data['class_40']==1]\n",
    "sample_train_40 = pd.concat([neg_sample_40, pos_sample_40]).sample(frac=1, random_state=42)\n",
    "print(neg_sample_40.shape, pos_sample_40.shape, sample_train_40.shape, sample_test_40.shape)"
   ]
  },
  {
   "cell_type": "code",
   "execution_count": 31,
   "metadata": {},
   "outputs": [],
   "source": [
    "model.fit(sample_train_40.iloc[:, :4].values, \n",
    "          sample_train_40.iloc[:, -3].values)\n",
    "y_pred_40 = model.predict_proba(sample_test_40.iloc[:, :4].values)[:, 1]"
   ]
  },
  {
   "cell_type": "code",
   "execution_count": 32,
   "metadata": {},
   "outputs": [
    {
     "name": "stdout",
     "output_type": "stream",
     "text": [
      "Best Threshold=0.469336, F-Score=0.383, Precision=0.263, Recall=0.705\n"
     ]
    },
    {
     "name": "stderr",
     "output_type": "stream",
     "text": [
      "K:\\JupiterNotebooks\\Anaconda3\\envs\\venv_py_37\\lib\\site-packages\\ipykernel_launcher.py:3: RuntimeWarning: invalid value encountered in true_divide\n",
      "  This is separate from the ipykernel package so we can avoid doing imports until\n"
     ]
    }
   ],
   "source": [
    "precision, recall, thresholds = precision_recall_curve(sample_test_40.iloc[:, -6].values, y_pred_40)\n",
    "b = 1\n",
    "fscore = (1 + b**2) * precision * recall / (b**2 * precision + recall)\n",
    "ix = np.argmax(fscore[~np.isnan(fscore)])\n",
    "print('Best Threshold=%f, F-Score=%.3f, Precision=%.3f, Recall=%.3f' % (thresholds[ix], \n",
    "                                                                        fscore[ix],\n",
    "                                                                        precision[ix],\n",
    "                                                                        recall[ix]))"
   ]
  },
  {
   "cell_type": "code",
   "execution_count": 33,
   "metadata": {},
   "outputs": [],
   "source": [
    "final_dct['Precision'].append(precision[ix])\n",
    "final_dct['Recall'].append(recall[ix])\n",
    "final_dct['F1_score'].append(fscore[ix])\n",
    "final_dct['ROC-AUC_score'].append(roc_auc_score(sample_test_40.iloc[:, -6].values, y_pred_40))"
   ]
  },
  {
   "cell_type": "code",
   "execution_count": 34,
   "metadata": {},
   "outputs": [
    {
     "name": "stdout",
     "output_type": "stream",
     "text": [
      "Confusion matrix, without normalization\n"
     ]
    },
    {
     "data": {
      "image/png": "[encoded data removed]",
      "text/plain": [
       "<Figure size 720x576 with 2 Axes>"
      ]
     },
     "metadata": {
      "needs_background": "light"
     },
     "output_type": "display_data"
    }
   ],
   "source": [
    "font = {'size' : 15}\n",
    "\n",
    "plt.rc('font', **font)\n",
    "\n",
    "cnf_matrix = confusion_matrix(sample_test_40.iloc[:, -6].values, y_pred_40>thresholds[ix])\n",
    "plt.figure(figsize=(10, 8))\n",
    "plot_confusion_matrix(cnf_matrix, classes=['NonDonate', 'Donate'],\n",
    "                      title='Confusion matrix')\n",
    "plt.show()"
   ]
  },
  {
   "cell_type": "markdown",
   "metadata": {},
   "source": [
    "- для 50%-ой доли позитивов"
   ]
  },
  {
   "cell_type": "code",
   "execution_count": 35,
   "metadata": {},
   "outputs": [
    {
     "name": "stdout",
     "output_type": "stream",
     "text": [
      "(89, 10) (89, 10) (178, 10) (570, 10)\n"
     ]
    }
   ],
   "source": [
    "neg_sample_50 = mod_data[mod_data['class_50']==0][:len(mod_data[mod_data['class_50']==1])]\n",
    "sample_test_50 = mod_data[mod_data['class_50']==0][len(mod_data[mod_data['class_50']==1]):]\n",
    "pos_sample_50 = mod_data[mod_data['class_50']==1]\n",
    "sample_train_50 = pd.concat([neg_sample_50, pos_sample_50]).sample(frac=1, random_state=42)\n",
    "print(neg_sample_50.shape, pos_sample_50.shape, sample_train_50.shape, sample_test_50.shape)"
   ]
  },
  {
   "cell_type": "code",
   "execution_count": 36,
   "metadata": {},
   "outputs": [],
   "source": [
    "model.fit(sample_train_50.iloc[:, :4].values, \n",
    "          sample_train_50.iloc[:, -2].values)\n",
    "y_pred_50 = model.predict_proba(sample_test_50.iloc[:, :4].values)[:, 1]"
   ]
  },
  {
   "cell_type": "code",
   "execution_count": 37,
   "metadata": {},
   "outputs": [
    {
     "name": "stdout",
     "output_type": "stream",
     "text": [
      "Best Threshold=0.706504, F-Score=0.388, Precision=0.359, Recall=0.423\n"
     ]
    },
    {
     "name": "stderr",
     "output_type": "stream",
     "text": [
      "K:\\JupiterNotebooks\\Anaconda3\\envs\\venv_py_37\\lib\\site-packages\\ipykernel_launcher.py:3: RuntimeWarning: invalid value encountered in true_divide\n",
      "  This is separate from the ipykernel package so we can avoid doing imports until\n"
     ]
    }
   ],
   "source": [
    "precision, recall, thresholds = precision_recall_curve(sample_test_50.iloc[:, -6].values, y_pred_50)\n",
    "b = 1\n",
    "fscore = (1 + b**2) * precision * recall / (b**2 * precision + recall)\n",
    "ix = np.argmax(fscore[~np.isnan(fscore)])\n",
    "print('Best Threshold=%f, F-Score=%.3f, Precision=%.3f, Recall=%.3f' % (thresholds[ix], \n",
    "                                                                        fscore[ix],\n",
    "                                                                        precision[ix],\n",
    "                                                                        recall[ix]))"
   ]
  },
  {
   "cell_type": "code",
   "execution_count": 38,
   "metadata": {},
   "outputs": [],
   "source": [
    "final_dct['Precision'].append(precision[ix])\n",
    "final_dct['Recall'].append(recall[ix])\n",
    "final_dct['F1_score'].append(fscore[ix])\n",
    "final_dct['ROC-AUC_score'].append(roc_auc_score(sample_test_50.iloc[:, -6].values, y_pred_50))"
   ]
  },
  {
   "cell_type": "code",
   "execution_count": 39,
   "metadata": {},
   "outputs": [
    {
     "name": "stdout",
     "output_type": "stream",
     "text": [
      "Confusion matrix, without normalization\n"
     ]
    },
    {
     "data": {
      "image/png": "[encoded data removed]",
      "text/plain": [
       "<Figure size 720x576 with 2 Axes>"
      ]
     },
     "metadata": {
      "needs_background": "light"
     },
     "output_type": "display_data"
    }
   ],
   "source": [
    "font = {'size' : 15}\n",
    "\n",
    "plt.rc('font', **font)\n",
    "\n",
    "cnf_matrix = confusion_matrix(sample_test_50.iloc[:, -6].values, y_pred_50>thresholds[ix])\n",
    "plt.figure(figsize=(10, 8))\n",
    "plot_confusion_matrix(cnf_matrix, classes=['NonDonate', 'Donate'],\n",
    "                      title='Confusion matrix')\n",
    "plt.show()"
   ]
  },
  {
   "cell_type": "markdown",
   "metadata": {},
   "source": [
    "- для 60%-ой доли позитивов"
   ]
  },
  {
   "cell_type": "code",
   "execution_count": 40,
   "metadata": {},
   "outputs": [
    {
     "name": "stdout",
     "output_type": "stream",
     "text": [
      "(107, 10) (107, 10) (214, 10) (534, 10)\n"
     ]
    }
   ],
   "source": [
    "neg_sample_60 = mod_data[mod_data['class_60']==0][:len(mod_data[mod_data['class_60']==1])]\n",
    "sample_test_60 = mod_data[mod_data['class_60']==0][len(mod_data[mod_data['class_60']==1]):]\n",
    "pos_sample_60 = mod_data[mod_data['class_60']==1]\n",
    "sample_train_60 = pd.concat([neg_sample_60, pos_sample_60]).sample(frac=1, random_state=42)\n",
    "print(neg_sample_60.shape, pos_sample_60.shape, sample_train_60.shape, sample_test_60.shape)"
   ]
  },
  {
   "cell_type": "code",
   "execution_count": 41,
   "metadata": {},
   "outputs": [],
   "source": [
    "model.fit(sample_train_60.iloc[:, :4].values, \n",
    "          sample_train_60.iloc[:, -1].values)\n",
    "y_pred_60 = model.predict_proba(sample_test_60.iloc[:, :4].values)[:, 1]"
   ]
  },
  {
   "cell_type": "code",
   "execution_count": 42,
   "metadata": {},
   "outputs": [
    {
     "name": "stdout",
     "output_type": "stream",
     "text": [
      "Best Threshold=0.736983, F-Score=0.349, Precision=0.299, Recall=0.419\n"
     ]
    },
    {
     "name": "stderr",
     "output_type": "stream",
     "text": [
      "K:\\JupiterNotebooks\\Anaconda3\\envs\\venv_py_37\\lib\\site-packages\\ipykernel_launcher.py:3: RuntimeWarning: invalid value encountered in true_divide\n",
      "  This is separate from the ipykernel package so we can avoid doing imports until\n"
     ]
    }
   ],
   "source": [
    "precision, recall, thresholds = precision_recall_curve(sample_test_60.iloc[:, -6].values, y_pred_60)\n",
    "b = 1\n",
    "fscore = (1 + b**2) * precision * recall / (b**2 * precision + recall)\n",
    "ix = np.argmax(fscore[~np.isnan(fscore)])\n",
    "print('Best Threshold=%f, F-Score=%.3f, Precision=%.3f, Recall=%.3f' % (thresholds[ix], \n",
    "                                                                        fscore[ix],\n",
    "                                                                        precision[ix],\n",
    "                                                                        recall[ix]))"
   ]
  },
  {
   "cell_type": "code",
   "execution_count": 43,
   "metadata": {},
   "outputs": [],
   "source": [
    "final_dct['Precision'].append(precision[ix])\n",
    "final_dct['Recall'].append(recall[ix])\n",
    "final_dct['F1_score'].append(fscore[ix])\n",
    "final_dct['ROC-AUC_score'].append(roc_auc_score(sample_test_60.iloc[:, -6].values, y_pred_60))"
   ]
  },
  {
   "cell_type": "code",
   "execution_count": 44,
   "metadata": {},
   "outputs": [
    {
     "name": "stdout",
     "output_type": "stream",
     "text": [
      "Confusion matrix, without normalization\n"
     ]
    },
    {
     "data": {
      "image/png": "[encoded data removed]",
      "text/plain": [
       "<Figure size 720x576 with 2 Axes>"
      ]
     },
     "metadata": {
      "needs_background": "light"
     },
     "output_type": "display_data"
    }
   ],
   "source": [
    "font = {'size' : 15}\n",
    "\n",
    "plt.rc('font', **font)\n",
    "\n",
    "cnf_matrix = confusion_matrix(sample_test_60.iloc[:, -6].values, y_pred_60>thresholds[ix])\n",
    "plt.figure(figsize=(10, 8))\n",
    "plot_confusion_matrix(cnf_matrix, classes=['NonDonate', 'Donate'],\n",
    "                      title='Confusion matrix')\n",
    "plt.show()"
   ]
  },
  {
   "cell_type": "code",
   "execution_count": 46,
   "metadata": {},
   "outputs": [
    {
     "data": {
      "text/html": [
       "<div>\n",
       "<style scoped>\n",
       "    .dataframe tbody tr th:only-of-type {\n",
       "        vertical-align: middle;\n",
       "    }\n",
       "\n",
       "    .dataframe tbody tr th {\n",
       "        vertical-align: top;\n",
       "    }\n",
       "\n",
       "    .dataframe thead th {\n",
       "        text-align: right;\n",
       "    }\n",
       "</style>\n",
       "<table border=\"1\" class=\"dataframe\">\n",
       "  <thead>\n",
       "    <tr style=\"text-align: right;\">\n",
       "      <th></th>\n",
       "      <th>Precision</th>\n",
       "      <th>Recall</th>\n",
       "      <th>F1_score</th>\n",
       "      <th>ROC-AUC_score</th>\n",
       "    </tr>\n",
       "  </thead>\n",
       "  <tbody>\n",
       "    <tr>\n",
       "      <td>reference_model</td>\n",
       "      <td>0.529412</td>\n",
       "      <td>0.486486</td>\n",
       "      <td>0.507042</td>\n",
       "      <td>0.682971</td>\n",
       "    </tr>\n",
       "    <tr>\n",
       "      <td>20%_positives</td>\n",
       "      <td>0.324910</td>\n",
       "      <td>0.656934</td>\n",
       "      <td>0.434783</td>\n",
       "      <td>0.688386</td>\n",
       "    </tr>\n",
       "    <tr>\n",
       "      <td>30%_positives</td>\n",
       "      <td>0.314655</td>\n",
       "      <td>0.629310</td>\n",
       "      <td>0.419540</td>\n",
       "      <td>0.709389</td>\n",
       "    </tr>\n",
       "    <tr>\n",
       "      <td>40%_positives</td>\n",
       "      <td>0.262745</td>\n",
       "      <td>0.705263</td>\n",
       "      <td>0.382857</td>\n",
       "      <td>0.698759</td>\n",
       "    </tr>\n",
       "    <tr>\n",
       "      <td>50%_positives</td>\n",
       "      <td>0.358696</td>\n",
       "      <td>0.423077</td>\n",
       "      <td>0.388235</td>\n",
       "      <td>0.709897</td>\n",
       "    </tr>\n",
       "    <tr>\n",
       "      <td>60%_positives</td>\n",
       "      <td>0.298851</td>\n",
       "      <td>0.419355</td>\n",
       "      <td>0.348993</td>\n",
       "      <td>0.697393</td>\n",
       "    </tr>\n",
       "  </tbody>\n",
       "</table>\n",
       "</div>"
      ],
      "text/plain": [
       "                 Precision    Recall  F1_score  ROC-AUC_score\n",
       "reference_model   0.529412  0.486486  0.507042       0.682971\n",
       "20%_positives     0.324910  0.656934  0.434783       0.688386\n",
       "30%_positives     0.314655  0.629310  0.419540       0.709389\n",
       "40%_positives     0.262745  0.705263  0.382857       0.698759\n",
       "50%_positives     0.358696  0.423077  0.388235       0.709897\n",
       "60%_positives     0.298851  0.419355  0.348993       0.697393"
      ]
     },
     "execution_count": 46,
     "metadata": {},
     "output_type": "execute_result"
    }
   ],
   "source": [
    "df = pd.DataFrame(final_dct, index=['reference_model', '20%_positives', '30%_positives', '40%_positives', '50%_positives', '60%_positives'])\n",
    "df"
   ]
  },
  {
   "cell_type": "markdown",
   "metadata": {},
   "source": [
    "#### Выводы:\n",
    "    \n",
    "По сводным данным можно заметить, что при имитации PU-learning точность (precision) нашей модели несколько снизалась, но зато (или - как следствие) увеличилось значение полноты (recall).\n",
    "    \n",
    "Принимая во внимание возможную специфику данных (даже задача прямой бинарной классификации решена моделью с невысоким качеством), при решении задачи PU-learning качество модели снизилось не критично.\n",
    "   \n",
    "Различия показателей от доли позитивов не сильные и возможно зависят от тех позитивов, кот. мы получили на вход (т.е. от random_state).\n",
    "    \n",
    "При увеличении доли позитивов наблюдается небольшое переобучение модели и снижение как точности так и полноты, но для более обоснованных выводов желательно выполнить серию замеров качества модели на каждой из долей позитивов (для разных random_state) и усреднить их.\n",
    "\n",
    "Также не был задействован инструмент настройки порога вероятности и гиперпараметров модели."
   ]
  },
  {
   "cell_type": "code",
   "execution_count": null,
   "metadata": {},
   "outputs": [],
   "source": []
  }
 ],
 "metadata": {
  "kernelspec": {
   "display_name": "Python 3",
   "language": "python",
   "name": "python3"
  },
  "language_info": {
   "codemirror_mode": {
    "name": "ipython",
    "version": 3
   },
   "file_extension": ".py",
   "mimetype": "text/x-python",
   "name": "python",
   "nbconvert_exporter": "python",
   "pygments_lexer": "ipython3",
   "version": "3.7.9"
  }
 },
 "nbformat": 4,
 "nbformat_minor": 4
}
